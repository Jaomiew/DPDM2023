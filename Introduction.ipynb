{
  "nbformat": 4,
  "nbformat_minor": 0,
  "metadata": {
    "colab": {
      "provenance": [],
      "authorship_tag": "ABX9TyMChVXzFIt8m1QWqJeiNw4R",
      "include_colab_link": true
    },
    "kernelspec": {
      "name": "python3",
      "display_name": "Python 3"
    },
    "language_info": {
      "name": "python"
    }
  },
  "cells": [
    {
      "cell_type": "markdown",
      "metadata": {
        "id": "view-in-github",
        "colab_type": "text"
      },
      "source": [
        "<a href=\"https://colab.research.google.com/github/Jaomiew/DPDM2023/blob/main/Introduction.ipynb\" target=\"_parent\"><img src=\"https://colab.research.google.com/assets/colab-badge.svg\" alt=\"Open In Colab\"/></a>"
      ]
    },
    {
      "cell_type": "code",
      "execution_count": null,
      "metadata": {
        "id": "E0wFhdoQnoT4"
      },
      "outputs": [],
      "source": []
    },
    {
      "cell_type": "markdown",
      "source": [
        "#This is the introduction section\n",
        "##My name is Wanissara Chongchai"
      ],
      "metadata": {
        "id": "pWedKNQUpf9C"
      }
    },
    {
      "cell_type": "code",
      "source": [
        "print('KKU')"
      ],
      "metadata": {
        "colab": {
          "base_uri": "https://localhost:8080/"
        },
        "id": "g7lgKoLuqq0Y",
        "outputId": "e81361c9-527c-49cd-bf13-f4e2e609f3d8"
      },
      "execution_count": 1,
      "outputs": [
        {
          "output_type": "stream",
          "name": "stdout",
          "text": [
            "KKU\n"
          ]
        }
      ]
    },
    {
      "cell_type": "code",
      "source": [
        "a=5  #assign a value to varible a\n",
        "b=a+6 #assign b to be a+6\n",
        "print(b) #print a value in b"
      ],
      "metadata": {
        "colab": {
          "base_uri": "https://localhost:8080/"
        },
        "id": "ACCzQFPPsg-u",
        "outputId": "7a29cf03-a725-4242-a759-5a64c19a3516"
      },
      "execution_count": 4,
      "outputs": [
        {
          "output_type": "stream",
          "name": "stdout",
          "text": [
            "11\n"
          ]
        }
      ]
    }
  ]
}