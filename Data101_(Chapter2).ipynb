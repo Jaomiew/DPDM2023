{
  "nbformat": 4,
  "nbformat_minor": 0,
  "metadata": {
    "colab": {
      "provenance": [],
      "include_colab_link": true
    },
    "kernelspec": {
      "name": "python3",
      "display_name": "Python 3"
    },
    "language_info": {
      "name": "python"
    }
  },
  "cells": [
    {
      "cell_type": "markdown",
      "metadata": {
        "id": "view-in-github",
        "colab_type": "text"
      },
      "source": [
        "<a href=\"https://colab.research.google.com/github/Jaomiew/DPDM2023/blob/main/Data101_(Chapter2).ipynb\" target=\"_parent\"><img src=\"https://colab.research.google.com/assets/colab-badge.svg\" alt=\"Open In Colab\"/></a>"
      ]
    },
    {
      "cell_type": "markdown",
      "source": [
        "#DATA101\n",
        "\n",
        "เรียนเกียวกับการนำเข้าข้อมูลและ สิ่งที่ต้องใช้การในการหาด้วยวิธีการ loop หรือ ฟังก์ชัน\n",
        "- การนำเข้าข้อมูลแบบลากเข้ามา\n",
        "- ทำความรู้จักเกียวกับ Data structure หรือโครงสร้างข้อมูลประกอบไปด้วย\n",
        "    1. list\n",
        "    2. indexing หรือการเลือกดูข้อมูลนั้นๆ\n",
        "    3. Negative index หรือการเลือกดูข้อมูลด้วยการเริ่มจากข้างหลัง\n",
        "    4. อธิบายว่า list คือ string ที่สามารถต่อกันได้\n",
        "    5. การสร้าง list\n",
        "    6. การแบ่ง list หรือ list slicing\n",
        "- loop ด้วยการใช้ for\n",
        "- nested loop หรือการ loop ใน loop อีกที\n",
        "- การทำ loop แบบมีเงื่อนไขหรือ conditional if statment (ใช้ if ในการทำให้ถูกเงื่อนไข)\n",
        "- HW1 : การใช้ for และ if ในการ loop เพื่อเรียงค่า (sorting) จากน้อยไปมาก และมากไปน้อย\n",
        "- Def หรือการสร้าง function เพื่อให้เวลาใช้ function สามารถหาค่านั้นได้เลย โดยไม่ต้อง loop เยอะ โดยประกอบไปด้วย\n",
        "    1. function name ชื่อฟังก์ชัน (ต้องมี ไม่มีไม่ได้)\n",
        "    2. input\n",
        "    3. กระบวนการข้างใน process (ต้องมี ไม่มีไม่ได้)\n",
        "    4. output\n",
        "- HW2 : การเรียงลำดับด้วยการ sorting โดยใช้ def เพื่อไม่ให้เรียกใช้ loop หลายๆครั้ง"
      ],
      "metadata": {
        "id": "rW0cNM-FIs6Q"
      }
    },
    {
      "cell_type": "markdown",
      "source": [
        "---"
      ],
      "metadata": {
        "id": "e4MqBI4NMChe"
      }
    },
    {
      "cell_type": "markdown",
      "source": [
        "pandas คือ package ที่มีคนพัฒนาขึ้นมาเพื่อใช้จัดการข้อมูลที่มีลักษณะเป็นตาราง ซึ่งใน pandas เรียกว่า dataframe"
      ],
      "metadata": {
        "id": "eKx6mIAd2ebz"
      }
    },
    {
      "cell_type": "markdown",
      "source": [
        "pandas is a python package for manage table data. panda data structure for table is DataFrame"
      ],
      "metadata": {
        "id": "5eqRxovc3dN6"
      }
    },
    {
      "cell_type": "code",
      "source": [
        "import pandas #import pandas คือ โหลด package มีชื่อว่า pandas มาใช้"
      ],
      "metadata": {
        "id": "llDyvJ_B3fBC"
      },
      "execution_count": null,
      "outputs": []
    },
    {
      "cell_type": "code",
      "source": [
        "import pandas as pd # โหลด pandas package แล้วตั้งชื่อให้ว่า pd แทน"
      ],
      "metadata": {
        "id": "AC2r8DuU3g41"
      },
      "execution_count": null,
      "outputs": []
    },
    {
      "cell_type": "markdown",
      "source": [
        "ไฟล์ .CSV (csv = comma separated values)\n",
        "- ใช้เครื่องหมาย comma ในการแบ่ง(คั่น)แต่ละ Columns\n",
        "- ขึ้น record ใหม่จะใช้การ Enter"
      ],
      "metadata": {
        "id": "Zt4dR-wt3lvW"
      }
    },
    {
      "cell_type": "code",
      "source": [
        "data_df = pd.read_csv('/content/data.csv')"
      ],
      "metadata": {
        "id": "eDDd1vPg3mW1"
      },
      "execution_count": null,
      "outputs": []
    },
    {
      "cell_type": "markdown",
      "source": [
        "- function ชื่อว่า \"read_csv\" จะเรียกข้อมูลให้ออกมาอยู่ใน format ของตาราง"
      ],
      "metadata": {
        "id": "FQdfSAe65-LI"
      }
    },
    {
      "cell_type": "code",
      "source": [
        "data_df #เรียกดูตาราง csv."
      ],
      "metadata": {
        "colab": {
          "base_uri": "https://localhost:8080/",
          "height": 143
        },
        "id": "9XNm1E7P6AjV",
        "outputId": "40f9d5c0-acea-48ab-e199-838e3696e596"
      },
      "execution_count": null,
      "outputs": [
        {
          "output_type": "execute_result",
          "data": {
            "text/plain": [
              "   Car_ID         Model   Year   Value   Pers_ID\n",
              "0     101       Bentley   1973  100000         0\n",
              "1     102   Rolls Royce   1965  330000         0\n",
              "2     103       Peugeot   1993     500         3"
            ],
            "text/html": [
              "\n",
              "  <div id=\"df-e44c6970-abeb-46b1-9eb2-928ae4609faf\" class=\"colab-df-container\">\n",
              "    <div>\n",
              "<style scoped>\n",
              "    .dataframe tbody tr th:only-of-type {\n",
              "        vertical-align: middle;\n",
              "    }\n",
              "\n",
              "    .dataframe tbody tr th {\n",
              "        vertical-align: top;\n",
              "    }\n",
              "\n",
              "    .dataframe thead th {\n",
              "        text-align: right;\n",
              "    }\n",
              "</style>\n",
              "<table border=\"1\" class=\"dataframe\">\n",
              "  <thead>\n",
              "    <tr style=\"text-align: right;\">\n",
              "      <th></th>\n",
              "      <th>Car_ID</th>\n",
              "      <th>Model</th>\n",
              "      <th>Year</th>\n",
              "      <th>Value</th>\n",
              "      <th>Pers_ID</th>\n",
              "    </tr>\n",
              "  </thead>\n",
              "  <tbody>\n",
              "    <tr>\n",
              "      <th>0</th>\n",
              "      <td>101</td>\n",
              "      <td>Bentley</td>\n",
              "      <td>1973</td>\n",
              "      <td>100000</td>\n",
              "      <td>0</td>\n",
              "    </tr>\n",
              "    <tr>\n",
              "      <th>1</th>\n",
              "      <td>102</td>\n",
              "      <td>Rolls Royce</td>\n",
              "      <td>1965</td>\n",
              "      <td>330000</td>\n",
              "      <td>0</td>\n",
              "    </tr>\n",
              "    <tr>\n",
              "      <th>2</th>\n",
              "      <td>103</td>\n",
              "      <td>Peugeot</td>\n",
              "      <td>1993</td>\n",
              "      <td>500</td>\n",
              "      <td>3</td>\n",
              "    </tr>\n",
              "  </tbody>\n",
              "</table>\n",
              "</div>\n",
              "    <div class=\"colab-df-buttons\">\n",
              "\n",
              "  <div class=\"colab-df-container\">\n",
              "    <button class=\"colab-df-convert\" onclick=\"convertToInteractive('df-e44c6970-abeb-46b1-9eb2-928ae4609faf')\"\n",
              "            title=\"Convert this dataframe to an interactive table.\"\n",
              "            style=\"display:none;\">\n",
              "\n",
              "  <svg xmlns=\"http://www.w3.org/2000/svg\" height=\"24px\" viewBox=\"0 -960 960 960\">\n",
              "    <path d=\"M120-120v-720h720v720H120Zm60-500h600v-160H180v160Zm220 220h160v-160H400v160Zm0 220h160v-160H400v160ZM180-400h160v-160H180v160Zm440 0h160v-160H620v160ZM180-180h160v-160H180v160Zm440 0h160v-160H620v160Z\"/>\n",
              "  </svg>\n",
              "    </button>\n",
              "\n",
              "  <style>\n",
              "    .colab-df-container {\n",
              "      display:flex;\n",
              "      gap: 12px;\n",
              "    }\n",
              "\n",
              "    .colab-df-convert {\n",
              "      background-color: #E8F0FE;\n",
              "      border: none;\n",
              "      border-radius: 50%;\n",
              "      cursor: pointer;\n",
              "      display: none;\n",
              "      fill: #1967D2;\n",
              "      height: 32px;\n",
              "      padding: 0 0 0 0;\n",
              "      width: 32px;\n",
              "    }\n",
              "\n",
              "    .colab-df-convert:hover {\n",
              "      background-color: #E2EBFA;\n",
              "      box-shadow: 0px 1px 2px rgba(60, 64, 67, 0.3), 0px 1px 3px 1px rgba(60, 64, 67, 0.15);\n",
              "      fill: #174EA6;\n",
              "    }\n",
              "\n",
              "    .colab-df-buttons div {\n",
              "      margin-bottom: 4px;\n",
              "    }\n",
              "\n",
              "    [theme=dark] .colab-df-convert {\n",
              "      background-color: #3B4455;\n",
              "      fill: #D2E3FC;\n",
              "    }\n",
              "\n",
              "    [theme=dark] .colab-df-convert:hover {\n",
              "      background-color: #434B5C;\n",
              "      box-shadow: 0px 1px 3px 1px rgba(0, 0, 0, 0.15);\n",
              "      filter: drop-shadow(0px 1px 2px rgba(0, 0, 0, 0.3));\n",
              "      fill: #FFFFFF;\n",
              "    }\n",
              "  </style>\n",
              "\n",
              "    <script>\n",
              "      const buttonEl =\n",
              "        document.querySelector('#df-e44c6970-abeb-46b1-9eb2-928ae4609faf button.colab-df-convert');\n",
              "      buttonEl.style.display =\n",
              "        google.colab.kernel.accessAllowed ? 'block' : 'none';\n",
              "\n",
              "      async function convertToInteractive(key) {\n",
              "        const element = document.querySelector('#df-e44c6970-abeb-46b1-9eb2-928ae4609faf');\n",
              "        const dataTable =\n",
              "          await google.colab.kernel.invokeFunction('convertToInteractive',\n",
              "                                                    [key], {});\n",
              "        if (!dataTable) return;\n",
              "\n",
              "        const docLinkHtml = 'Like what you see? Visit the ' +\n",
              "          '<a target=\"_blank\" href=https://colab.research.google.com/notebooks/data_table.ipynb>data table notebook</a>'\n",
              "          + ' to learn more about interactive tables.';\n",
              "        element.innerHTML = '';\n",
              "        dataTable['output_type'] = 'display_data';\n",
              "        await google.colab.output.renderOutput(dataTable, element);\n",
              "        const docLink = document.createElement('div');\n",
              "        docLink.innerHTML = docLinkHtml;\n",
              "        element.appendChild(docLink);\n",
              "      }\n",
              "    </script>\n",
              "  </div>\n",
              "\n",
              "\n",
              "<div id=\"df-1cf28e47-6d4f-4fc5-b7fd-efa1f713e028\">\n",
              "  <button class=\"colab-df-quickchart\" onclick=\"quickchart('df-1cf28e47-6d4f-4fc5-b7fd-efa1f713e028')\"\n",
              "            title=\"Suggest charts.\"\n",
              "            style=\"display:none;\">\n",
              "\n",
              "<svg xmlns=\"http://www.w3.org/2000/svg\" height=\"24px\"viewBox=\"0 0 24 24\"\n",
              "     width=\"24px\">\n",
              "    <g>\n",
              "        <path d=\"M19 3H5c-1.1 0-2 .9-2 2v14c0 1.1.9 2 2 2h14c1.1 0 2-.9 2-2V5c0-1.1-.9-2-2-2zM9 17H7v-7h2v7zm4 0h-2V7h2v10zm4 0h-2v-4h2v4z\"/>\n",
              "    </g>\n",
              "</svg>\n",
              "  </button>\n",
              "\n",
              "<style>\n",
              "  .colab-df-quickchart {\n",
              "      --bg-color: #E8F0FE;\n",
              "      --fill-color: #1967D2;\n",
              "      --hover-bg-color: #E2EBFA;\n",
              "      --hover-fill-color: #174EA6;\n",
              "      --disabled-fill-color: #AAA;\n",
              "      --disabled-bg-color: #DDD;\n",
              "  }\n",
              "\n",
              "  [theme=dark] .colab-df-quickchart {\n",
              "      --bg-color: #3B4455;\n",
              "      --fill-color: #D2E3FC;\n",
              "      --hover-bg-color: #434B5C;\n",
              "      --hover-fill-color: #FFFFFF;\n",
              "      --disabled-bg-color: #3B4455;\n",
              "      --disabled-fill-color: #666;\n",
              "  }\n",
              "\n",
              "  .colab-df-quickchart {\n",
              "    background-color: var(--bg-color);\n",
              "    border: none;\n",
              "    border-radius: 50%;\n",
              "    cursor: pointer;\n",
              "    display: none;\n",
              "    fill: var(--fill-color);\n",
              "    height: 32px;\n",
              "    padding: 0;\n",
              "    width: 32px;\n",
              "  }\n",
              "\n",
              "  .colab-df-quickchart:hover {\n",
              "    background-color: var(--hover-bg-color);\n",
              "    box-shadow: 0 1px 2px rgba(60, 64, 67, 0.3), 0 1px 3px 1px rgba(60, 64, 67, 0.15);\n",
              "    fill: var(--button-hover-fill-color);\n",
              "  }\n",
              "\n",
              "  .colab-df-quickchart-complete:disabled,\n",
              "  .colab-df-quickchart-complete:disabled:hover {\n",
              "    background-color: var(--disabled-bg-color);\n",
              "    fill: var(--disabled-fill-color);\n",
              "    box-shadow: none;\n",
              "  }\n",
              "\n",
              "  .colab-df-spinner {\n",
              "    border: 2px solid var(--fill-color);\n",
              "    border-color: transparent;\n",
              "    border-bottom-color: var(--fill-color);\n",
              "    animation:\n",
              "      spin 1s steps(1) infinite;\n",
              "  }\n",
              "\n",
              "  @keyframes spin {\n",
              "    0% {\n",
              "      border-color: transparent;\n",
              "      border-bottom-color: var(--fill-color);\n",
              "      border-left-color: var(--fill-color);\n",
              "    }\n",
              "    20% {\n",
              "      border-color: transparent;\n",
              "      border-left-color: var(--fill-color);\n",
              "      border-top-color: var(--fill-color);\n",
              "    }\n",
              "    30% {\n",
              "      border-color: transparent;\n",
              "      border-left-color: var(--fill-color);\n",
              "      border-top-color: var(--fill-color);\n",
              "      border-right-color: var(--fill-color);\n",
              "    }\n",
              "    40% {\n",
              "      border-color: transparent;\n",
              "      border-right-color: var(--fill-color);\n",
              "      border-top-color: var(--fill-color);\n",
              "    }\n",
              "    60% {\n",
              "      border-color: transparent;\n",
              "      border-right-color: var(--fill-color);\n",
              "    }\n",
              "    80% {\n",
              "      border-color: transparent;\n",
              "      border-right-color: var(--fill-color);\n",
              "      border-bottom-color: var(--fill-color);\n",
              "    }\n",
              "    90% {\n",
              "      border-color: transparent;\n",
              "      border-bottom-color: var(--fill-color);\n",
              "    }\n",
              "  }\n",
              "</style>\n",
              "\n",
              "  <script>\n",
              "    async function quickchart(key) {\n",
              "      const quickchartButtonEl =\n",
              "        document.querySelector('#' + key + ' button');\n",
              "      quickchartButtonEl.disabled = true;  // To prevent multiple clicks.\n",
              "      quickchartButtonEl.classList.add('colab-df-spinner');\n",
              "      try {\n",
              "        const charts = await google.colab.kernel.invokeFunction(\n",
              "            'suggestCharts', [key], {});\n",
              "      } catch (error) {\n",
              "        console.error('Error during call to suggestCharts:', error);\n",
              "      }\n",
              "      quickchartButtonEl.classList.remove('colab-df-spinner');\n",
              "      quickchartButtonEl.classList.add('colab-df-quickchart-complete');\n",
              "    }\n",
              "    (() => {\n",
              "      let quickchartButtonEl =\n",
              "        document.querySelector('#df-1cf28e47-6d4f-4fc5-b7fd-efa1f713e028 button');\n",
              "      quickchartButtonEl.style.display =\n",
              "        google.colab.kernel.accessAllowed ? 'block' : 'none';\n",
              "    })();\n",
              "  </script>\n",
              "</div>\n",
              "    </div>\n",
              "  </div>\n"
            ]
          },
          "metadata": {},
          "execution_count": 4
        }
      ]
    },
    {
      "cell_type": "markdown",
      "source": [
        "# Basic Python"
      ],
      "metadata": {
        "id": "lv0zEAyoZZWg"
      }
    },
    {
      "cell_type": "markdown",
      "source": [
        "## Data structure (โครงสร้างข้อมูล)"
      ],
      "metadata": {
        "id": "I1gXOeSp85sg"
      }
    },
    {
      "cell_type": "markdown",
      "source": [
        "### list\n",
        "- การที่นำตัวแปรมาเรียงต่อกันเรื่อยๆและคั่นด้วยเครื่องหมาย comma (,)\n",
        "- สามารถนำตัวแปรชนิดไหนก็ได้มาเก็บไว้ใน list เดียวกัน ไม่จำเป็นต้องเป็น type เดียวกัน\n",
        "- สนใจลำดับใน list เป็นสำคัญ เพราะสามารถบอกค่าใน list ได้ด้วยลำดับ(indexing)"
      ],
      "metadata": {
        "id": "VeuXxeG28-RX"
      }
    },
    {
      "cell_type": "code",
      "source": [
        "list_a = [1,2,3,0.9,'aaz', data_df] ## [] (square brackets)"
      ],
      "metadata": {
        "id": "utvN0Vb19h34"
      },
      "execution_count": null,
      "outputs": []
    },
    {
      "cell_type": "code",
      "source": [
        "list_a"
      ],
      "metadata": {
        "colab": {
          "base_uri": "https://localhost:8080/"
        },
        "id": "02nHfvPn9uVw",
        "outputId": "149fb7d9-9c64-4a13-f200-76134531c236"
      },
      "execution_count": null,
      "outputs": [
        {
          "output_type": "execute_result",
          "data": {
            "text/plain": [
              "[1,\n",
              " 2,\n",
              " 3,\n",
              " 0.9,\n",
              " 'aaz',\n",
              "    Car_ID         Model   Year   Value   Pers_ID\n",
              " 0     101       Bentley   1973  100000         0\n",
              " 1     102   Rolls Royce   1965  330000         0\n",
              " 2     103       Peugeot   1993     500         3]"
            ]
          },
          "metadata": {},
          "execution_count": 6
        }
      ]
    },
    {
      "cell_type": "markdown",
      "source": [
        "### indexing เราสามารถเลือดได้ว่าจะดู list ตัวไหน"
      ],
      "metadata": {
        "id": "PJ27lyRg98g6"
      }
    },
    {
      "cell_type": "code",
      "source": [
        "list_a[1] #เลือกตัวที่ 1 มา"
      ],
      "metadata": {
        "colab": {
          "base_uri": "https://localhost:8080/"
        },
        "id": "njn7-NBt-Q2_",
        "outputId": "723d6fbc-56a4-4545-8336-4c1267ec5d44"
      },
      "execution_count": null,
      "outputs": [
        {
          "output_type": "execute_result",
          "data": {
            "text/plain": [
              "2"
            ]
          },
          "metadata": {},
          "execution_count": 7
        }
      ]
    },
    {
      "cell_type": "code",
      "source": [
        "list_a[5]  #เลือกตัวที่ 5 มา"
      ],
      "metadata": {
        "colab": {
          "base_uri": "https://localhost:8080/",
          "height": 143
        },
        "id": "PQRfT0vA-G7p",
        "outputId": "e871d840-e8c5-4171-9c1e-3f126e2b519b"
      },
      "execution_count": null,
      "outputs": [
        {
          "output_type": "execute_result",
          "data": {
            "text/plain": [
              "   Car_ID         Model   Year   Value   Pers_ID\n",
              "0     101       Bentley   1973  100000         0\n",
              "1     102   Rolls Royce   1965  330000         0\n",
              "2     103       Peugeot   1993     500         3"
            ],
            "text/html": [
              "\n",
              "  <div id=\"df-f0b8569a-7701-4ec2-b73b-5b0872c07725\" class=\"colab-df-container\">\n",
              "    <div>\n",
              "<style scoped>\n",
              "    .dataframe tbody tr th:only-of-type {\n",
              "        vertical-align: middle;\n",
              "    }\n",
              "\n",
              "    .dataframe tbody tr th {\n",
              "        vertical-align: top;\n",
              "    }\n",
              "\n",
              "    .dataframe thead th {\n",
              "        text-align: right;\n",
              "    }\n",
              "</style>\n",
              "<table border=\"1\" class=\"dataframe\">\n",
              "  <thead>\n",
              "    <tr style=\"text-align: right;\">\n",
              "      <th></th>\n",
              "      <th>Car_ID</th>\n",
              "      <th>Model</th>\n",
              "      <th>Year</th>\n",
              "      <th>Value</th>\n",
              "      <th>Pers_ID</th>\n",
              "    </tr>\n",
              "  </thead>\n",
              "  <tbody>\n",
              "    <tr>\n",
              "      <th>0</th>\n",
              "      <td>101</td>\n",
              "      <td>Bentley</td>\n",
              "      <td>1973</td>\n",
              "      <td>100000</td>\n",
              "      <td>0</td>\n",
              "    </tr>\n",
              "    <tr>\n",
              "      <th>1</th>\n",
              "      <td>102</td>\n",
              "      <td>Rolls Royce</td>\n",
              "      <td>1965</td>\n",
              "      <td>330000</td>\n",
              "      <td>0</td>\n",
              "    </tr>\n",
              "    <tr>\n",
              "      <th>2</th>\n",
              "      <td>103</td>\n",
              "      <td>Peugeot</td>\n",
              "      <td>1993</td>\n",
              "      <td>500</td>\n",
              "      <td>3</td>\n",
              "    </tr>\n",
              "  </tbody>\n",
              "</table>\n",
              "</div>\n",
              "    <div class=\"colab-df-buttons\">\n",
              "\n",
              "  <div class=\"colab-df-container\">\n",
              "    <button class=\"colab-df-convert\" onclick=\"convertToInteractive('df-f0b8569a-7701-4ec2-b73b-5b0872c07725')\"\n",
              "            title=\"Convert this dataframe to an interactive table.\"\n",
              "            style=\"display:none;\">\n",
              "\n",
              "  <svg xmlns=\"http://www.w3.org/2000/svg\" height=\"24px\" viewBox=\"0 -960 960 960\">\n",
              "    <path d=\"M120-120v-720h720v720H120Zm60-500h600v-160H180v160Zm220 220h160v-160H400v160Zm0 220h160v-160H400v160ZM180-400h160v-160H180v160Zm440 0h160v-160H620v160ZM180-180h160v-160H180v160Zm440 0h160v-160H620v160Z\"/>\n",
              "  </svg>\n",
              "    </button>\n",
              "\n",
              "  <style>\n",
              "    .colab-df-container {\n",
              "      display:flex;\n",
              "      gap: 12px;\n",
              "    }\n",
              "\n",
              "    .colab-df-convert {\n",
              "      background-color: #E8F0FE;\n",
              "      border: none;\n",
              "      border-radius: 50%;\n",
              "      cursor: pointer;\n",
              "      display: none;\n",
              "      fill: #1967D2;\n",
              "      height: 32px;\n",
              "      padding: 0 0 0 0;\n",
              "      width: 32px;\n",
              "    }\n",
              "\n",
              "    .colab-df-convert:hover {\n",
              "      background-color: #E2EBFA;\n",
              "      box-shadow: 0px 1px 2px rgba(60, 64, 67, 0.3), 0px 1px 3px 1px rgba(60, 64, 67, 0.15);\n",
              "      fill: #174EA6;\n",
              "    }\n",
              "\n",
              "    .colab-df-buttons div {\n",
              "      margin-bottom: 4px;\n",
              "    }\n",
              "\n",
              "    [theme=dark] .colab-df-convert {\n",
              "      background-color: #3B4455;\n",
              "      fill: #D2E3FC;\n",
              "    }\n",
              "\n",
              "    [theme=dark] .colab-df-convert:hover {\n",
              "      background-color: #434B5C;\n",
              "      box-shadow: 0px 1px 3px 1px rgba(0, 0, 0, 0.15);\n",
              "      filter: drop-shadow(0px 1px 2px rgba(0, 0, 0, 0.3));\n",
              "      fill: #FFFFFF;\n",
              "    }\n",
              "  </style>\n",
              "\n",
              "    <script>\n",
              "      const buttonEl =\n",
              "        document.querySelector('#df-f0b8569a-7701-4ec2-b73b-5b0872c07725 button.colab-df-convert');\n",
              "      buttonEl.style.display =\n",
              "        google.colab.kernel.accessAllowed ? 'block' : 'none';\n",
              "\n",
              "      async function convertToInteractive(key) {\n",
              "        const element = document.querySelector('#df-f0b8569a-7701-4ec2-b73b-5b0872c07725');\n",
              "        const dataTable =\n",
              "          await google.colab.kernel.invokeFunction('convertToInteractive',\n",
              "                                                    [key], {});\n",
              "        if (!dataTable) return;\n",
              "\n",
              "        const docLinkHtml = 'Like what you see? Visit the ' +\n",
              "          '<a target=\"_blank\" href=https://colab.research.google.com/notebooks/data_table.ipynb>data table notebook</a>'\n",
              "          + ' to learn more about interactive tables.';\n",
              "        element.innerHTML = '';\n",
              "        dataTable['output_type'] = 'display_data';\n",
              "        await google.colab.output.renderOutput(dataTable, element);\n",
              "        const docLink = document.createElement('div');\n",
              "        docLink.innerHTML = docLinkHtml;\n",
              "        element.appendChild(docLink);\n",
              "      }\n",
              "    </script>\n",
              "  </div>\n",
              "\n",
              "\n",
              "<div id=\"df-884eea07-1776-4319-a3c1-63fb88310a38\">\n",
              "  <button class=\"colab-df-quickchart\" onclick=\"quickchart('df-884eea07-1776-4319-a3c1-63fb88310a38')\"\n",
              "            title=\"Suggest charts.\"\n",
              "            style=\"display:none;\">\n",
              "\n",
              "<svg xmlns=\"http://www.w3.org/2000/svg\" height=\"24px\"viewBox=\"0 0 24 24\"\n",
              "     width=\"24px\">\n",
              "    <g>\n",
              "        <path d=\"M19 3H5c-1.1 0-2 .9-2 2v14c0 1.1.9 2 2 2h14c1.1 0 2-.9 2-2V5c0-1.1-.9-2-2-2zM9 17H7v-7h2v7zm4 0h-2V7h2v10zm4 0h-2v-4h2v4z\"/>\n",
              "    </g>\n",
              "</svg>\n",
              "  </button>\n",
              "\n",
              "<style>\n",
              "  .colab-df-quickchart {\n",
              "      --bg-color: #E8F0FE;\n",
              "      --fill-color: #1967D2;\n",
              "      --hover-bg-color: #E2EBFA;\n",
              "      --hover-fill-color: #174EA6;\n",
              "      --disabled-fill-color: #AAA;\n",
              "      --disabled-bg-color: #DDD;\n",
              "  }\n",
              "\n",
              "  [theme=dark] .colab-df-quickchart {\n",
              "      --bg-color: #3B4455;\n",
              "      --fill-color: #D2E3FC;\n",
              "      --hover-bg-color: #434B5C;\n",
              "      --hover-fill-color: #FFFFFF;\n",
              "      --disabled-bg-color: #3B4455;\n",
              "      --disabled-fill-color: #666;\n",
              "  }\n",
              "\n",
              "  .colab-df-quickchart {\n",
              "    background-color: var(--bg-color);\n",
              "    border: none;\n",
              "    border-radius: 50%;\n",
              "    cursor: pointer;\n",
              "    display: none;\n",
              "    fill: var(--fill-color);\n",
              "    height: 32px;\n",
              "    padding: 0;\n",
              "    width: 32px;\n",
              "  }\n",
              "\n",
              "  .colab-df-quickchart:hover {\n",
              "    background-color: var(--hover-bg-color);\n",
              "    box-shadow: 0 1px 2px rgba(60, 64, 67, 0.3), 0 1px 3px 1px rgba(60, 64, 67, 0.15);\n",
              "    fill: var(--button-hover-fill-color);\n",
              "  }\n",
              "\n",
              "  .colab-df-quickchart-complete:disabled,\n",
              "  .colab-df-quickchart-complete:disabled:hover {\n",
              "    background-color: var(--disabled-bg-color);\n",
              "    fill: var(--disabled-fill-color);\n",
              "    box-shadow: none;\n",
              "  }\n",
              "\n",
              "  .colab-df-spinner {\n",
              "    border: 2px solid var(--fill-color);\n",
              "    border-color: transparent;\n",
              "    border-bottom-color: var(--fill-color);\n",
              "    animation:\n",
              "      spin 1s steps(1) infinite;\n",
              "  }\n",
              "\n",
              "  @keyframes spin {\n",
              "    0% {\n",
              "      border-color: transparent;\n",
              "      border-bottom-color: var(--fill-color);\n",
              "      border-left-color: var(--fill-color);\n",
              "    }\n",
              "    20% {\n",
              "      border-color: transparent;\n",
              "      border-left-color: var(--fill-color);\n",
              "      border-top-color: var(--fill-color);\n",
              "    }\n",
              "    30% {\n",
              "      border-color: transparent;\n",
              "      border-left-color: var(--fill-color);\n",
              "      border-top-color: var(--fill-color);\n",
              "      border-right-color: var(--fill-color);\n",
              "    }\n",
              "    40% {\n",
              "      border-color: transparent;\n",
              "      border-right-color: var(--fill-color);\n",
              "      border-top-color: var(--fill-color);\n",
              "    }\n",
              "    60% {\n",
              "      border-color: transparent;\n",
              "      border-right-color: var(--fill-color);\n",
              "    }\n",
              "    80% {\n",
              "      border-color: transparent;\n",
              "      border-right-color: var(--fill-color);\n",
              "      border-bottom-color: var(--fill-color);\n",
              "    }\n",
              "    90% {\n",
              "      border-color: transparent;\n",
              "      border-bottom-color: var(--fill-color);\n",
              "    }\n",
              "  }\n",
              "</style>\n",
              "\n",
              "  <script>\n",
              "    async function quickchart(key) {\n",
              "      const quickchartButtonEl =\n",
              "        document.querySelector('#' + key + ' button');\n",
              "      quickchartButtonEl.disabled = true;  // To prevent multiple clicks.\n",
              "      quickchartButtonEl.classList.add('colab-df-spinner');\n",
              "      try {\n",
              "        const charts = await google.colab.kernel.invokeFunction(\n",
              "            'suggestCharts', [key], {});\n",
              "      } catch (error) {\n",
              "        console.error('Error during call to suggestCharts:', error);\n",
              "      }\n",
              "      quickchartButtonEl.classList.remove('colab-df-spinner');\n",
              "      quickchartButtonEl.classList.add('colab-df-quickchart-complete');\n",
              "    }\n",
              "    (() => {\n",
              "      let quickchartButtonEl =\n",
              "        document.querySelector('#df-884eea07-1776-4319-a3c1-63fb88310a38 button');\n",
              "      quickchartButtonEl.style.display =\n",
              "        google.colab.kernel.accessAllowed ? 'block' : 'none';\n",
              "    })();\n",
              "  </script>\n",
              "</div>\n",
              "    </div>\n",
              "  </div>\n"
            ]
          },
          "metadata": {},
          "execution_count": 8
        }
      ]
    },
    {
      "cell_type": "markdown",
      "source": [
        "### Negative index ชี้ค่าใน list จากด้านหลัง"
      ],
      "metadata": {
        "id": "ZT8i8-uZ-Yec"
      }
    },
    {
      "cell_type": "code",
      "source": [
        "list_a[-1] ## Negative index  อ่านจากข้างหลังมาข้างหน้า"
      ],
      "metadata": {
        "colab": {
          "base_uri": "https://localhost:8080/",
          "height": 143
        },
        "id": "ju9hxwUt-ZoA",
        "outputId": "3e39f87d-7f84-468f-d6b6-0d7f28ca8e44"
      },
      "execution_count": null,
      "outputs": [
        {
          "output_type": "execute_result",
          "data": {
            "text/plain": [
              "   Car_ID         Model   Year   Value   Pers_ID\n",
              "0     101       Bentley   1973  100000         0\n",
              "1     102   Rolls Royce   1965  330000         0\n",
              "2     103       Peugeot   1993     500         3"
            ],
            "text/html": [
              "\n",
              "  <div id=\"df-1bc989bd-e60e-45e2-8330-7be87f18e035\" class=\"colab-df-container\">\n",
              "    <div>\n",
              "<style scoped>\n",
              "    .dataframe tbody tr th:only-of-type {\n",
              "        vertical-align: middle;\n",
              "    }\n",
              "\n",
              "    .dataframe tbody tr th {\n",
              "        vertical-align: top;\n",
              "    }\n",
              "\n",
              "    .dataframe thead th {\n",
              "        text-align: right;\n",
              "    }\n",
              "</style>\n",
              "<table border=\"1\" class=\"dataframe\">\n",
              "  <thead>\n",
              "    <tr style=\"text-align: right;\">\n",
              "      <th></th>\n",
              "      <th>Car_ID</th>\n",
              "      <th>Model</th>\n",
              "      <th>Year</th>\n",
              "      <th>Value</th>\n",
              "      <th>Pers_ID</th>\n",
              "    </tr>\n",
              "  </thead>\n",
              "  <tbody>\n",
              "    <tr>\n",
              "      <th>0</th>\n",
              "      <td>101</td>\n",
              "      <td>Bentley</td>\n",
              "      <td>1973</td>\n",
              "      <td>100000</td>\n",
              "      <td>0</td>\n",
              "    </tr>\n",
              "    <tr>\n",
              "      <th>1</th>\n",
              "      <td>102</td>\n",
              "      <td>Rolls Royce</td>\n",
              "      <td>1965</td>\n",
              "      <td>330000</td>\n",
              "      <td>0</td>\n",
              "    </tr>\n",
              "    <tr>\n",
              "      <th>2</th>\n",
              "      <td>103</td>\n",
              "      <td>Peugeot</td>\n",
              "      <td>1993</td>\n",
              "      <td>500</td>\n",
              "      <td>3</td>\n",
              "    </tr>\n",
              "  </tbody>\n",
              "</table>\n",
              "</div>\n",
              "    <div class=\"colab-df-buttons\">\n",
              "\n",
              "  <div class=\"colab-df-container\">\n",
              "    <button class=\"colab-df-convert\" onclick=\"convertToInteractive('df-1bc989bd-e60e-45e2-8330-7be87f18e035')\"\n",
              "            title=\"Convert this dataframe to an interactive table.\"\n",
              "            style=\"display:none;\">\n",
              "\n",
              "  <svg xmlns=\"http://www.w3.org/2000/svg\" height=\"24px\" viewBox=\"0 -960 960 960\">\n",
              "    <path d=\"M120-120v-720h720v720H120Zm60-500h600v-160H180v160Zm220 220h160v-160H400v160Zm0 220h160v-160H400v160ZM180-400h160v-160H180v160Zm440 0h160v-160H620v160ZM180-180h160v-160H180v160Zm440 0h160v-160H620v160Z\"/>\n",
              "  </svg>\n",
              "    </button>\n",
              "\n",
              "  <style>\n",
              "    .colab-df-container {\n",
              "      display:flex;\n",
              "      gap: 12px;\n",
              "    }\n",
              "\n",
              "    .colab-df-convert {\n",
              "      background-color: #E8F0FE;\n",
              "      border: none;\n",
              "      border-radius: 50%;\n",
              "      cursor: pointer;\n",
              "      display: none;\n",
              "      fill: #1967D2;\n",
              "      height: 32px;\n",
              "      padding: 0 0 0 0;\n",
              "      width: 32px;\n",
              "    }\n",
              "\n",
              "    .colab-df-convert:hover {\n",
              "      background-color: #E2EBFA;\n",
              "      box-shadow: 0px 1px 2px rgba(60, 64, 67, 0.3), 0px 1px 3px 1px rgba(60, 64, 67, 0.15);\n",
              "      fill: #174EA6;\n",
              "    }\n",
              "\n",
              "    .colab-df-buttons div {\n",
              "      margin-bottom: 4px;\n",
              "    }\n",
              "\n",
              "    [theme=dark] .colab-df-convert {\n",
              "      background-color: #3B4455;\n",
              "      fill: #D2E3FC;\n",
              "    }\n",
              "\n",
              "    [theme=dark] .colab-df-convert:hover {\n",
              "      background-color: #434B5C;\n",
              "      box-shadow: 0px 1px 3px 1px rgba(0, 0, 0, 0.15);\n",
              "      filter: drop-shadow(0px 1px 2px rgba(0, 0, 0, 0.3));\n",
              "      fill: #FFFFFF;\n",
              "    }\n",
              "  </style>\n",
              "\n",
              "    <script>\n",
              "      const buttonEl =\n",
              "        document.querySelector('#df-1bc989bd-e60e-45e2-8330-7be87f18e035 button.colab-df-convert');\n",
              "      buttonEl.style.display =\n",
              "        google.colab.kernel.accessAllowed ? 'block' : 'none';\n",
              "\n",
              "      async function convertToInteractive(key) {\n",
              "        const element = document.querySelector('#df-1bc989bd-e60e-45e2-8330-7be87f18e035');\n",
              "        const dataTable =\n",
              "          await google.colab.kernel.invokeFunction('convertToInteractive',\n",
              "                                                    [key], {});\n",
              "        if (!dataTable) return;\n",
              "\n",
              "        const docLinkHtml = 'Like what you see? Visit the ' +\n",
              "          '<a target=\"_blank\" href=https://colab.research.google.com/notebooks/data_table.ipynb>data table notebook</a>'\n",
              "          + ' to learn more about interactive tables.';\n",
              "        element.innerHTML = '';\n",
              "        dataTable['output_type'] = 'display_data';\n",
              "        await google.colab.output.renderOutput(dataTable, element);\n",
              "        const docLink = document.createElement('div');\n",
              "        docLink.innerHTML = docLinkHtml;\n",
              "        element.appendChild(docLink);\n",
              "      }\n",
              "    </script>\n",
              "  </div>\n",
              "\n",
              "\n",
              "<div id=\"df-c9c02938-e399-44e7-8e72-e2f5dbef08d0\">\n",
              "  <button class=\"colab-df-quickchart\" onclick=\"quickchart('df-c9c02938-e399-44e7-8e72-e2f5dbef08d0')\"\n",
              "            title=\"Suggest charts.\"\n",
              "            style=\"display:none;\">\n",
              "\n",
              "<svg xmlns=\"http://www.w3.org/2000/svg\" height=\"24px\"viewBox=\"0 0 24 24\"\n",
              "     width=\"24px\">\n",
              "    <g>\n",
              "        <path d=\"M19 3H5c-1.1 0-2 .9-2 2v14c0 1.1.9 2 2 2h14c1.1 0 2-.9 2-2V5c0-1.1-.9-2-2-2zM9 17H7v-7h2v7zm4 0h-2V7h2v10zm4 0h-2v-4h2v4z\"/>\n",
              "    </g>\n",
              "</svg>\n",
              "  </button>\n",
              "\n",
              "<style>\n",
              "  .colab-df-quickchart {\n",
              "      --bg-color: #E8F0FE;\n",
              "      --fill-color: #1967D2;\n",
              "      --hover-bg-color: #E2EBFA;\n",
              "      --hover-fill-color: #174EA6;\n",
              "      --disabled-fill-color: #AAA;\n",
              "      --disabled-bg-color: #DDD;\n",
              "  }\n",
              "\n",
              "  [theme=dark] .colab-df-quickchart {\n",
              "      --bg-color: #3B4455;\n",
              "      --fill-color: #D2E3FC;\n",
              "      --hover-bg-color: #434B5C;\n",
              "      --hover-fill-color: #FFFFFF;\n",
              "      --disabled-bg-color: #3B4455;\n",
              "      --disabled-fill-color: #666;\n",
              "  }\n",
              "\n",
              "  .colab-df-quickchart {\n",
              "    background-color: var(--bg-color);\n",
              "    border: none;\n",
              "    border-radius: 50%;\n",
              "    cursor: pointer;\n",
              "    display: none;\n",
              "    fill: var(--fill-color);\n",
              "    height: 32px;\n",
              "    padding: 0;\n",
              "    width: 32px;\n",
              "  }\n",
              "\n",
              "  .colab-df-quickchart:hover {\n",
              "    background-color: var(--hover-bg-color);\n",
              "    box-shadow: 0 1px 2px rgba(60, 64, 67, 0.3), 0 1px 3px 1px rgba(60, 64, 67, 0.15);\n",
              "    fill: var(--button-hover-fill-color);\n",
              "  }\n",
              "\n",
              "  .colab-df-quickchart-complete:disabled,\n",
              "  .colab-df-quickchart-complete:disabled:hover {\n",
              "    background-color: var(--disabled-bg-color);\n",
              "    fill: var(--disabled-fill-color);\n",
              "    box-shadow: none;\n",
              "  }\n",
              "\n",
              "  .colab-df-spinner {\n",
              "    border: 2px solid var(--fill-color);\n",
              "    border-color: transparent;\n",
              "    border-bottom-color: var(--fill-color);\n",
              "    animation:\n",
              "      spin 1s steps(1) infinite;\n",
              "  }\n",
              "\n",
              "  @keyframes spin {\n",
              "    0% {\n",
              "      border-color: transparent;\n",
              "      border-bottom-color: var(--fill-color);\n",
              "      border-left-color: var(--fill-color);\n",
              "    }\n",
              "    20% {\n",
              "      border-color: transparent;\n",
              "      border-left-color: var(--fill-color);\n",
              "      border-top-color: var(--fill-color);\n",
              "    }\n",
              "    30% {\n",
              "      border-color: transparent;\n",
              "      border-left-color: var(--fill-color);\n",
              "      border-top-color: var(--fill-color);\n",
              "      border-right-color: var(--fill-color);\n",
              "    }\n",
              "    40% {\n",
              "      border-color: transparent;\n",
              "      border-right-color: var(--fill-color);\n",
              "      border-top-color: var(--fill-color);\n",
              "    }\n",
              "    60% {\n",
              "      border-color: transparent;\n",
              "      border-right-color: var(--fill-color);\n",
              "    }\n",
              "    80% {\n",
              "      border-color: transparent;\n",
              "      border-right-color: var(--fill-color);\n",
              "      border-bottom-color: var(--fill-color);\n",
              "    }\n",
              "    90% {\n",
              "      border-color: transparent;\n",
              "      border-bottom-color: var(--fill-color);\n",
              "    }\n",
              "  }\n",
              "</style>\n",
              "\n",
              "  <script>\n",
              "    async function quickchart(key) {\n",
              "      const quickchartButtonEl =\n",
              "        document.querySelector('#' + key + ' button');\n",
              "      quickchartButtonEl.disabled = true;  // To prevent multiple clicks.\n",
              "      quickchartButtonEl.classList.add('colab-df-spinner');\n",
              "      try {\n",
              "        const charts = await google.colab.kernel.invokeFunction(\n",
              "            'suggestCharts', [key], {});\n",
              "      } catch (error) {\n",
              "        console.error('Error during call to suggestCharts:', error);\n",
              "      }\n",
              "      quickchartButtonEl.classList.remove('colab-df-spinner');\n",
              "      quickchartButtonEl.classList.add('colab-df-quickchart-complete');\n",
              "    }\n",
              "    (() => {\n",
              "      let quickchartButtonEl =\n",
              "        document.querySelector('#df-c9c02938-e399-44e7-8e72-e2f5dbef08d0 button');\n",
              "      quickchartButtonEl.style.display =\n",
              "        google.colab.kernel.accessAllowed ? 'block' : 'none';\n",
              "    })();\n",
              "  </script>\n",
              "</div>\n",
              "    </div>\n",
              "  </div>\n"
            ]
          },
          "metadata": {},
          "execution_count": 9
        }
      ]
    },
    {
      "cell_type": "code",
      "source": [
        "list_b = ['pizza', list_a]\n",
        "list_b"
      ],
      "metadata": {
        "colab": {
          "base_uri": "https://localhost:8080/"
        },
        "id": "vPvNS7QO-5-_",
        "outputId": "56654bb8-b731-4def-bc04-b7e540bc32f4"
      },
      "execution_count": null,
      "outputs": [
        {
          "output_type": "execute_result",
          "data": {
            "text/plain": [
              "['pizza',\n",
              " [1,\n",
              "  2,\n",
              "  3,\n",
              "  0.9,\n",
              "  'aaz',\n",
              "     Car_ID         Model   Year   Value   Pers_ID\n",
              "  0     101       Bentley   1973  100000         0\n",
              "  1     102   Rolls Royce   1965  330000         0\n",
              "  2     103       Peugeot   1993     500         3]]"
            ]
          },
          "metadata": {},
          "execution_count": 10
        }
      ]
    },
    {
      "cell_type": "code",
      "source": [
        "list_b = ['pizza', list_a, 9]\n",
        "list_b"
      ],
      "metadata": {
        "colab": {
          "base_uri": "https://localhost:8080/"
        },
        "id": "-kQwY_Sx_QCz",
        "outputId": "188f8c98-f026-4967-b1d9-5b74b6f5fc4e"
      },
      "execution_count": null,
      "outputs": [
        {
          "output_type": "execute_result",
          "data": {
            "text/plain": [
              "['pizza',\n",
              " [1,\n",
              "  2,\n",
              "  3,\n",
              "  0.9,\n",
              "  'aaz',\n",
              "     Car_ID         Model   Year   Value   Pers_ID\n",
              "  0     101       Bentley   1973  100000         0\n",
              "  1     102   Rolls Royce   1965  330000         0\n",
              "  2     103       Peugeot   1993     500         3],\n",
              " 9]"
            ]
          },
          "metadata": {},
          "execution_count": 11
        }
      ]
    },
    {
      "cell_type": "code",
      "source": [
        "list_b[1][0]  #เอาlist_a ตัวที่ 0"
      ],
      "metadata": {
        "colab": {
          "base_uri": "https://localhost:8080/"
        },
        "id": "g3DaGKk__YhM",
        "outputId": "285d421f-29bb-44d9-87ff-d1d32333095c"
      },
      "execution_count": null,
      "outputs": [
        {
          "output_type": "execute_result",
          "data": {
            "text/plain": [
              "1"
            ]
          },
          "metadata": {},
          "execution_count": 12
        }
      ]
    },
    {
      "cell_type": "code",
      "source": [
        "list_b[1] #เอาlist_a"
      ],
      "metadata": {
        "colab": {
          "base_uri": "https://localhost:8080/"
        },
        "id": "w59m_CHU_27F",
        "outputId": "8dc0dc21-7f4a-4eee-e102-1215b75f8787"
      },
      "execution_count": null,
      "outputs": [
        {
          "output_type": "execute_result",
          "data": {
            "text/plain": [
              "[1,\n",
              " 2,\n",
              " 3,\n",
              " 0.9,\n",
              " 'aaz',\n",
              "    Car_ID         Model   Year   Value   Pers_ID\n",
              " 0     101       Bentley   1973  100000         0\n",
              " 1     102   Rolls Royce   1965  330000         0\n",
              " 2     103       Peugeot   1993     500         3]"
            ]
          },
          "metadata": {},
          "execution_count": 13
        }
      ]
    },
    {
      "cell_type": "markdown",
      "source": [
        "## Double index"
      ],
      "metadata": {
        "id": "m7KUvNppZq6O"
      }
    },
    {
      "cell_type": "code",
      "source": [
        "list_b[1][0] #เรียก list_a จากนั้นเลือกสมาชิกลำดับที่ 0 ของ list_a"
      ],
      "metadata": {
        "id": "57bAWrZJZsVW"
      },
      "execution_count": null,
      "outputs": []
    },
    {
      "cell_type": "markdown",
      "source": [
        "### - String คือ list ของตัวอักษร"
      ],
      "metadata": {
        "id": "_9A6kY1WAHzg"
      }
    },
    {
      "cell_type": "code",
      "source": [
        "x = 'shabu'\n",
        "x[-2] ##ชี้ไปที่ตัว  b"
      ],
      "metadata": {
        "colab": {
          "base_uri": "https://localhost:8080/",
          "height": 36
        },
        "id": "JcIlU7QFAKnD",
        "outputId": "7879b1df-8b9d-4a1d-db57-0153298c58d6"
      },
      "execution_count": null,
      "outputs": [
        {
          "output_type": "execute_result",
          "data": {
            "text/plain": [
              "'b'"
            ],
            "application/vnd.google.colaboratory.intrinsic+json": {
              "type": "string"
            }
          },
          "metadata": {},
          "execution_count": 14
        }
      ]
    },
    {
      "cell_type": "code",
      "source": [
        "print(list_a)\n",
        "print(list_b)"
      ],
      "metadata": {
        "colab": {
          "base_uri": "https://localhost:8080/"
        },
        "id": "GwWpuZ04AgVY",
        "outputId": "34a434bd-7414-42e5-9ccc-caa1cf8181e7"
      },
      "execution_count": null,
      "outputs": [
        {
          "output_type": "stream",
          "name": "stdout",
          "text": [
            "[1, 2, 3, 0.9, 'aaz',    Car_ID         Model   Year   Value   Pers_ID\n",
            "0     101       Bentley   1973  100000         0\n",
            "1     102   Rolls Royce   1965  330000         0\n",
            "2     103       Peugeot   1993     500         3]\n",
            "['pizza', [1, 2, 3, 0.9, 'aaz',    Car_ID         Model   Year   Value   Pers_ID\n",
            "0     101       Bentley   1973  100000         0\n",
            "1     102   Rolls Royce   1965  330000         0\n",
            "2     103       Peugeot   1993     500         3], 9]\n"
          ]
        }
      ]
    },
    {
      "cell_type": "code",
      "source": [
        "list_a + list_b"
      ],
      "metadata": {
        "colab": {
          "base_uri": "https://localhost:8080/"
        },
        "id": "xYHoeHF9Al5A",
        "outputId": "c35ad25a-63d2-4b54-c252-6ebb73fe4eed"
      },
      "execution_count": null,
      "outputs": [
        {
          "output_type": "execute_result",
          "data": {
            "text/plain": [
              "[1,\n",
              " 2,\n",
              " 3,\n",
              " 0.9,\n",
              " 'aaz',\n",
              "    Car_ID         Model   Year   Value   Pers_ID\n",
              " 0     101       Bentley   1973  100000         0\n",
              " 1     102   Rolls Royce   1965  330000         0\n",
              " 2     103       Peugeot   1993     500         3,\n",
              " 'pizza',\n",
              " [1,\n",
              "  2,\n",
              "  3,\n",
              "  0.9,\n",
              "  'aaz',\n",
              "     Car_ID         Model   Year   Value   Pers_ID\n",
              "  0     101       Bentley   1973  100000         0\n",
              "  1     102   Rolls Royce   1965  330000         0\n",
              "  2     103       Peugeot   1993     500         3],\n",
              " 9]"
            ]
          },
          "metadata": {},
          "execution_count": 16
        }
      ]
    },
    {
      "cell_type": "markdown",
      "source": [
        "### การสร้าง list\n",
        "1. สร้าง list ว่าง\n",
        "2. เพิ่มสมาชิกเข้าไปใน list\n",
        "3. สามารถชี้ค่าใน list จากข้างหลังได้"
      ],
      "metadata": {
        "id": "KdCI1FDXAsMS"
      }
    },
    {
      "cell_type": "markdown",
      "source": [
        "1. การสร้าง list ว่าง"
      ],
      "metadata": {
        "id": "KKhkpFKkAxiG"
      }
    },
    {
      "cell_type": "code",
      "source": [
        "list_aa = []\n",
        "list_aa"
      ],
      "metadata": {
        "colab": {
          "base_uri": "https://localhost:8080/"
        },
        "id": "80l1n8z0AyRJ",
        "outputId": "76919502-7951-421f-8d86-f36cc58d597e"
      },
      "execution_count": null,
      "outputs": [
        {
          "output_type": "execute_result",
          "data": {
            "text/plain": [
              "[]"
            ]
          },
          "metadata": {},
          "execution_count": 17
        }
      ]
    },
    {
      "cell_type": "code",
      "source": [
        "list_bb = list()\n",
        "print(list_bb)"
      ],
      "metadata": {
        "colab": {
          "base_uri": "https://localhost:8080/"
        },
        "id": "gSF4Ir37BHTN",
        "outputId": "255a99c0-5838-4be5-a7d0-2fa2c471fad4"
      },
      "execution_count": null,
      "outputs": [
        {
          "output_type": "stream",
          "name": "stdout",
          "text": [
            "[]\n"
          ]
        }
      ]
    },
    {
      "cell_type": "markdown",
      "source": [
        "2. การเพิ่มสมาชิกลงไปใน list (.append())"
      ],
      "metadata": {
        "id": "8A9hQ4y0BRtF"
      }
    },
    {
      "cell_type": "code",
      "source": [
        "list_aa.append('chiken')\n",
        "list_aa.append('water')\n",
        "list_aa.append('vegetable')"
      ],
      "metadata": {
        "id": "PMj6XFnBBTWl"
      },
      "execution_count": null,
      "outputs": []
    },
    {
      "cell_type": "code",
      "source": [
        "list_aa.append('rice')"
      ],
      "metadata": {
        "id": "zGqEnS0cBiRO"
      },
      "execution_count": null,
      "outputs": []
    },
    {
      "cell_type": "code",
      "source": [
        "list_aa"
      ],
      "metadata": {
        "colab": {
          "base_uri": "https://localhost:8080/"
        },
        "id": "d6Vnbv7cBnIE",
        "outputId": "0b0def95-d7e3-4dfc-ef57-e0ccb4b80d8d"
      },
      "execution_count": null,
      "outputs": [
        {
          "output_type": "execute_result",
          "data": {
            "text/plain": [
              "['chiken', 'water', 'vegetable', 'rice']"
            ]
          },
          "metadata": {},
          "execution_count": 21
        }
      ]
    },
    {
      "cell_type": "code",
      "source": [
        "list_aa[-1] ##ชี้จากข้างหลัง"
      ],
      "metadata": {
        "colab": {
          "base_uri": "https://localhost:8080/",
          "height": 36
        },
        "id": "tlFulZUAB4Cj",
        "outputId": "a37af3b7-7f47-4bcd-f2a4-5f3341d07f28"
      },
      "execution_count": null,
      "outputs": [
        {
          "output_type": "execute_result",
          "data": {
            "text/plain": [
              "'rice'"
            ],
            "application/vnd.google.colaboratory.intrinsic+json": {
              "type": "string"
            }
          },
          "metadata": {},
          "execution_count": 22
        }
      ]
    },
    {
      "cell_type": "code",
      "source": [
        "list_aa[2] ##ชี้แบบปกติ (จากข้างหน้า)"
      ],
      "metadata": {
        "colab": {
          "base_uri": "https://localhost:8080/",
          "height": 36
        },
        "id": "yYuh5zLYB5eX",
        "outputId": "6be71c63-12e0-4bec-ada2-21a852d06e3f"
      },
      "execution_count": null,
      "outputs": [
        {
          "output_type": "execute_result",
          "data": {
            "text/plain": [
              "'vegetable'"
            ],
            "application/vnd.google.colaboratory.intrinsic+json": {
              "type": "string"
            }
          },
          "metadata": {},
          "execution_count": 23
        }
      ]
    },
    {
      "cell_type": "code",
      "source": [
        "list_aa.append('plate') #ใส่เพิ่มเข้าไป\n",
        "#list_aa\n",
        "list_aa[-2]"
      ],
      "metadata": {
        "colab": {
          "base_uri": "https://localhost:8080/",
          "height": 36
        },
        "id": "ZkYJFxJ4B-lM",
        "outputId": "260dc581-7a67-43db-8b85-6387cb8b7294"
      },
      "execution_count": null,
      "outputs": [
        {
          "output_type": "execute_result",
          "data": {
            "text/plain": [
              "'rice'"
            ],
            "application/vnd.google.colaboratory.intrinsic+json": {
              "type": "string"
            }
          },
          "metadata": {},
          "execution_count": 24
        }
      ]
    },
    {
      "cell_type": "code",
      "source": [
        "list_aa.append('spoon')\n",
        "list_aa.append('fork')\n",
        "list_aa.append('knife')"
      ],
      "metadata": {
        "id": "FTI0hRYOHB40"
      },
      "execution_count": null,
      "outputs": []
    },
    {
      "cell_type": "code",
      "source": [
        "list_aa.append('apple')"
      ],
      "metadata": {
        "id": "kpNyTZFVHLz-"
      },
      "execution_count": null,
      "outputs": []
    },
    {
      "cell_type": "markdown",
      "source": [
        "### list slicing"
      ],
      "metadata": {
        "id": "-Yo_21dCCQsB"
      }
    },
    {
      "cell_type": "markdown",
      "source": [
        ": (colon)\n",
        "\n",
        "เราจะตัด list โดยเอาตั้งแต่ [ตัวหน้า:ตัวก่อนตัวหลัง]\n",
        "\n",
        "ถ้าเป็นสัญลักษณ์ทางคณิตศาสตร์ [ตัวหน้า:ตัวหลัง] -> [ตัวหน้า,ตัวหลัง)\n",
        "\n",
        "- เหมือนสัญลักษณ์ของเส้นจำนวน ตัวหน้าคือวงกลมทึบ, ตัวหลังคือวงกลมโป่ง\n",
        "\n",
        "![image.png](data:image/png;base64,iVBORw0KGgoAAAANSUhEUgAAALQAAABTCAYAAAA2jC0IAAAEUklEQVR4nO3dPWzbRhjG8b+cJlPRMAE6W/1AhwyNtoyWh2wBwqLo2jBdFGepA6TIFFiZM9iZanuxPXRt1a2bna0oiljd+oVaXQp0qpJ+oAlgMcORkSjJMhOLOh75/ADBEkXZL6yXx+PxXhJEREREREREREREREREREScVrEdQKbW+RTwo1ctbvDAZjjWbeATcgfwgC4V1mmwYzusaSpuQq+zS4U68DBasgC0aPCBxajs2aAJrBDSo8LcwDv3aNC0Fda0zR2/ioM2WKZCnR6LNKjToE6P64DP5wS2w7PkNiEMJTOEfGYnnGwUs4XeYJuQGjeoDS3vAiFmlyuxQ97hJr/ZDmMaXrMdQEY6VLjGFh7X6QKwhcczzgKPgL+tRmfHQtRCj7rJwayDyUoxE7pHhzngKats8oBDujxjFXhMjw9ZomM7xJnb5EvgKsluZgj8Ef0shGL2oZfYBnaoEBCyzxwHwCI9lkuZzACn+YSQ74eW/kuFK1biyUgx+9CxTWqEVAHo0S5tMg9a5zI93uMUv3CG7150yURERERERERERERERERERERERERERERERGzzYaiiWiQby2RYpV8DdjFFlfWs/siUHQA/2A4iRz7CfH8f2w4kpT3gL2Alzcppi2Q9YAvYx51EluLwgCamcfInrZgmoVeADhBQoHJ3cVIV+ArTS6iOW2FS1bcPrB71QWAHcllFfQ64OPD6EnAIiRL+R8CTWQZl2fvA+ej5m8AF4Efgz2hZF2hbiCuNAJg/4r014B4cX7lewyRrqIceOX+sMeC463I0gVvAG9GHB9e/RT636teBdwde3wX+B+4PLPsZ+G+WQVn2NuY7BLP3CoAv6O+1/gF+tRBXGmsk97ixh5gRkJfOQQ/YZnTLcOXgUKMcSS6OcgzmXYcJB4ZpDgq7mC16kf61lkVm7Qmmv1wFWtP8xQFmK3GlhV4GlmwHkSMXMF3JcbvxPNrD9BAyvQSyl/UfEIkcNcomIiIiIiIiJ1TF3O4ufq4pweK0OskTFs4ndLFvSZHk02+FDjCD9GUXn0tok2KCjwuKeResUT6mBYrPMLWB3zED9mI29C75nD35Uop5F6xRNUjc/rfFMRPFS8THnCTzMWdVxQHDZzb30ZcHo2d7C9GPLhuffE57tWG42HkPxzd01/vQVZh4M/oWyeT1MAdCaoWMAHMcEf+PzqKN3RkeyZJ4JXWyha4x5WmZNpRp2G4Fs0uNvYVGOaCf0FOfZ2xDWRJ63BF8k2SCi4iIiIikUZY+dNFVgWsT3v+a0eG4BUzh8zjNI5aLiIiICJyyHYDkQkB/9qHzU0il3Fr0pwPs4/iUALXQ5RZgLmT5TfT6J+Bbe+GInExc6FDDnUu7TVSWihUZbx6TzG1M33nXbjgnp4Qut8f0J2h1MCfaJs0vzz0ltAyXYTl9EU4ldLm1SI5qzKMpteIwD5PUcSmb0/WEIrEqjnc1RERERETk1TwHbL103j6AsjQAAAAASUVORK5CYII=)\n"
      ],
      "metadata": {
        "id": "UO_DW7zZEqli"
      }
    },
    {
      "cell_type": "code",
      "source": [
        "list_aa\n"
      ],
      "metadata": {
        "colab": {
          "base_uri": "https://localhost:8080/"
        },
        "id": "8WpTJ-ooEvsP",
        "outputId": "40e57869-7953-4d53-f307-28db3ca0fa3c"
      },
      "execution_count": null,
      "outputs": [
        {
          "output_type": "execute_result",
          "data": {
            "text/plain": [
              "['chiken',\n",
              " 'water',\n",
              " 'vegetable',\n",
              " 'rice',\n",
              " 'plate',\n",
              " 'spoon',\n",
              " 'fork',\n",
              " 'knife',\n",
              " 'apple']"
            ]
          },
          "metadata": {},
          "execution_count": 27
        }
      ]
    },
    {
      "cell_type": "code",
      "source": [
        "list_aa[2:7:1] ##เริ่มตัวที่2 จบก่อนตัวที่7 มาทีละ1"
      ],
      "metadata": {
        "colab": {
          "base_uri": "https://localhost:8080/"
        },
        "id": "knDwYY4JHWUC",
        "outputId": "4ae3391f-d68e-4ab5-de05-cdd35c508b66"
      },
      "execution_count": null,
      "outputs": [
        {
          "output_type": "execute_result",
          "data": {
            "text/plain": [
              "['vegetable', 'rice', 'plate', 'spoon', 'fork']"
            ]
          },
          "metadata": {},
          "execution_count": 28
        }
      ]
    },
    {
      "cell_type": "code",
      "source": [
        "list_aa[2:7]"
      ],
      "metadata": {
        "colab": {
          "base_uri": "https://localhost:8080/"
        },
        "id": "kcXm3hiNHrpR",
        "outputId": "b19eaba9-204d-4d4b-f03e-4b0a57d02284"
      },
      "execution_count": null,
      "outputs": [
        {
          "output_type": "execute_result",
          "data": {
            "text/plain": [
              "['vegetable', 'rice', 'plate', 'spoon', 'fork']"
            ]
          },
          "metadata": {},
          "execution_count": 29
        }
      ]
    },
    {
      "cell_type": "code",
      "source": [
        "list_aa[2:]"
      ],
      "metadata": {
        "colab": {
          "base_uri": "https://localhost:8080/"
        },
        "id": "5L12GtLvH3yv",
        "outputId": "a2728a62-ab7b-4dcb-f294-14bebc6ad392"
      },
      "execution_count": null,
      "outputs": [
        {
          "output_type": "execute_result",
          "data": {
            "text/plain": [
              "['vegetable', 'rice', 'plate', 'spoon', 'fork', 'knife', 'apple']"
            ]
          },
          "metadata": {},
          "execution_count": 30
        }
      ]
    },
    {
      "cell_type": "code",
      "source": [
        "list_aa[:5]"
      ],
      "metadata": {
        "colab": {
          "base_uri": "https://localhost:8080/"
        },
        "id": "hgpaUacjILa_",
        "outputId": "e46d8d8f-82a9-4e4a-f8e6-f3edd1e4f7d1"
      },
      "execution_count": null,
      "outputs": [
        {
          "output_type": "execute_result",
          "data": {
            "text/plain": [
              "['chiken', 'water', 'vegetable', 'rice', 'plate']"
            ]
          },
          "metadata": {},
          "execution_count": 31
        }
      ]
    },
    {
      "cell_type": "code",
      "source": [
        "list_aa[:5:2] #กระโดดทีละ2"
      ],
      "metadata": {
        "colab": {
          "base_uri": "https://localhost:8080/"
        },
        "id": "EzTFM-X3IUZc",
        "outputId": "1f4031b1-e345-4dc8-843a-7828589a54fa"
      },
      "execution_count": null,
      "outputs": [
        {
          "output_type": "execute_result",
          "data": {
            "text/plain": [
              "['chiken', 'vegetable', 'plate']"
            ]
          },
          "metadata": {},
          "execution_count": 32
        }
      ]
    },
    {
      "cell_type": "code",
      "source": [
        "list_aa[::-1] #สลับจากหลังไปหน้า"
      ],
      "metadata": {
        "colab": {
          "base_uri": "https://localhost:8080/"
        },
        "id": "W_dRD8TPInpB",
        "outputId": "16120dd7-6eae-4d02-d469-e86125bb1ec5"
      },
      "execution_count": null,
      "outputs": [
        {
          "output_type": "execute_result",
          "data": {
            "text/plain": [
              "['apple',\n",
              " 'knife',\n",
              " 'fork',\n",
              " 'spoon',\n",
              " 'plate',\n",
              " 'rice',\n",
              " 'vegetable',\n",
              " 'water',\n",
              " 'chiken']"
            ]
          },
          "metadata": {},
          "execution_count": 33
        }
      ]
    },
    {
      "cell_type": "markdown",
      "source": [
        "##### **Quiz 1**\n",
        "\n",
        "ตัด ส่วนของ list เหล่านี้มาจาก list_aa\n",
        "\n",
        "1. 'iken'\n",
        "2. 'get'\n",
        "3. 'tab'"
      ],
      "metadata": {
        "id": "ra7BVxtMI8Iw"
      }
    },
    {
      "cell_type": "code",
      "source": [
        "list_aa[0][2:]"
      ],
      "metadata": {
        "colab": {
          "base_uri": "https://localhost:8080/",
          "height": 36
        },
        "id": "z-rQVZtlJL7A",
        "outputId": "3752fac6-0b75-4911-83b4-c25c015628c8"
      },
      "execution_count": null,
      "outputs": [
        {
          "output_type": "execute_result",
          "data": {
            "text/plain": [
              "'iken'"
            ],
            "application/vnd.google.colaboratory.intrinsic+json": {
              "type": "string"
            }
          },
          "metadata": {},
          "execution_count": 34
        }
      ]
    },
    {
      "cell_type": "code",
      "source": [
        "list_aa[2][2:5]"
      ],
      "metadata": {
        "colab": {
          "base_uri": "https://localhost:8080/",
          "height": 36
        },
        "id": "Iw0Jmxl1JUP3",
        "outputId": "40ddd2bf-d8bd-49df-952e-49b68069fd2e"
      },
      "execution_count": null,
      "outputs": [
        {
          "output_type": "execute_result",
          "data": {
            "text/plain": [
              "'get'"
            ],
            "application/vnd.google.colaboratory.intrinsic+json": {
              "type": "string"
            }
          },
          "metadata": {},
          "execution_count": 35
        }
      ]
    },
    {
      "cell_type": "code",
      "source": [
        "list_aa[2][4:7]"
      ],
      "metadata": {
        "colab": {
          "base_uri": "https://localhost:8080/",
          "height": 36
        },
        "id": "jwNm8-J_JWkl",
        "outputId": "97779afb-c89e-4214-9fa9-b7142f2414a2"
      },
      "execution_count": null,
      "outputs": [
        {
          "output_type": "execute_result",
          "data": {
            "text/plain": [
              "'tab'"
            ],
            "application/vnd.google.colaboratory.intrinsic+json": {
              "type": "string"
            }
          },
          "metadata": {},
          "execution_count": 36
        }
      ]
    },
    {
      "cell_type": "code",
      "source": [
        "list_aa[-1][1:]"
      ],
      "metadata": {
        "colab": {
          "base_uri": "https://localhost:8080/",
          "height": 36
        },
        "id": "yk-cdIrPJYrl",
        "outputId": "febadde3-578e-4bd8-a874-8a7f120039b4"
      },
      "execution_count": null,
      "outputs": [
        {
          "output_type": "execute_result",
          "data": {
            "text/plain": [
              "'pple'"
            ],
            "application/vnd.google.colaboratory.intrinsic+json": {
              "type": "string"
            }
          },
          "metadata": {},
          "execution_count": 37
        }
      ]
    },
    {
      "cell_type": "code",
      "source": [
        "list_aa[1][:3]"
      ],
      "metadata": {
        "colab": {
          "base_uri": "https://localhost:8080/",
          "height": 36
        },
        "id": "-UaTRy_BJanl",
        "outputId": "a392dc15-da31-401c-94a7-cdeb13cce3f6"
      },
      "execution_count": null,
      "outputs": [
        {
          "output_type": "execute_result",
          "data": {
            "text/plain": [
              "'wat'"
            ],
            "application/vnd.google.colaboratory.intrinsic+json": {
              "type": "string"
            }
          },
          "metadata": {},
          "execution_count": 38
        }
      ]
    },
    {
      "cell_type": "markdown",
      "source": [
        "## Loop\n",
        "การให้ com ทำงานที่ซ้ำๆกัน หรือทำงานที่คล้ายๆกันหลายๆรอบ\n",
        "\n",
        "indent\n",
        "\n",
        "``` python\n",
        "for ตัวแปรที่เราจะรับค่าจาก list in list ที่ต้องการจะวนลูป :\n",
        "    do something\n",
        "    do another thing\n",
        "\n",
        "this is outside the loop\n",
        "\n",
        "```"
      ],
      "metadata": {
        "id": "JSEHj2OfJdyd"
      }
    },
    {
      "cell_type": "code",
      "source": [
        "list_aa"
      ],
      "metadata": {
        "colab": {
          "base_uri": "https://localhost:8080/"
        },
        "id": "I4UGs-1IJe-D",
        "outputId": "08f62a59-4542-4821-ef69-4753aaa0a65a"
      },
      "execution_count": null,
      "outputs": [
        {
          "output_type": "execute_result",
          "data": {
            "text/plain": [
              "['chiken',\n",
              " 'water',\n",
              " 'vegetable',\n",
              " 'rice',\n",
              " 'plate',\n",
              " 'spoon',\n",
              " 'fork',\n",
              " 'knife',\n",
              " 'apple']"
            ]
          },
          "metadata": {},
          "execution_count": 39
        }
      ]
    },
    {
      "cell_type": "code",
      "source": [
        "for each in list_aa:\n",
        "    print (each)"
      ],
      "metadata": {
        "colab": {
          "base_uri": "https://localhost:8080/"
        },
        "id": "ayF6lETuKWnW",
        "outputId": "4ccae6d0-b443-41ec-96e0-374284a7f824"
      },
      "execution_count": null,
      "outputs": [
        {
          "output_type": "stream",
          "name": "stdout",
          "text": [
            "chiken\n",
            "water\n",
            "vegetable\n",
            "rice\n",
            "plate\n",
            "spoon\n",
            "fork\n",
            "knife\n",
            "apple\n"
          ]
        }
      ]
    },
    {
      "cell_type": "code",
      "source": [
        "for i in [1,2,3]:\n",
        "    print (i, end='')\n",
        "    print('xxx')"
      ],
      "metadata": {
        "colab": {
          "base_uri": "https://localhost:8080/"
        },
        "id": "SMFb_NR2Kv8l",
        "outputId": "7689e424-a2e9-486b-bd71-92827ad7c9a3"
      },
      "execution_count": null,
      "outputs": [
        {
          "output_type": "stream",
          "name": "stdout",
          "text": [
            "1xxx\n",
            "2xxx\n",
            "3xxx\n"
          ]
        }
      ]
    },
    {
      "cell_type": "markdown",
      "source": [
        "ทำงานคล้ายๆกัน"
      ],
      "metadata": {
        "id": "k4WG1Sd-LalC"
      }
    },
    {
      "cell_type": "code",
      "source": [
        "for i in list_aa:\n",
        "    print(f'now i is {i}')\n",
        "    print(f'I like to eat {i}\\n//////////')"
      ],
      "metadata": {
        "colab": {
          "base_uri": "https://localhost:8080/"
        },
        "id": "U622AC1YLW16",
        "outputId": "c237f969-98b5-4e6c-ddb7-8d80374c7c19"
      },
      "execution_count": null,
      "outputs": [
        {
          "output_type": "stream",
          "name": "stdout",
          "text": [
            "now i is chiken\n",
            "I like to eat chiken\n",
            "//////////\n",
            "now i is water\n",
            "I like to eat water\n",
            "//////////\n",
            "now i is vegetable\n",
            "I like to eat vegetable\n",
            "//////////\n",
            "now i is rice\n",
            "I like to eat rice\n",
            "//////////\n",
            "now i is plate\n",
            "I like to eat plate\n",
            "//////////\n",
            "now i is spoon\n",
            "I like to eat spoon\n",
            "//////////\n",
            "now i is fork\n",
            "I like to eat fork\n",
            "//////////\n",
            "now i is knife\n",
            "I like to eat knife\n",
            "//////////\n",
            "now i is apple\n",
            "I like to eat apple\n",
            "//////////\n"
          ]
        }
      ]
    },
    {
      "cell_type": "code",
      "source": [
        "list(range(10))"
      ],
      "metadata": {
        "colab": {
          "base_uri": "https://localhost:8080/"
        },
        "id": "R5bkZff7MMgX",
        "outputId": "e95b51be-1034-4172-d0cd-7fcd88bb03f3"
      },
      "execution_count": null,
      "outputs": [
        {
          "output_type": "execute_result",
          "data": {
            "text/plain": [
              "[0, 1, 2, 3, 4, 5, 6, 7, 8, 9]"
            ]
          },
          "metadata": {},
          "execution_count": 43
        }
      ]
    },
    {
      "cell_type": "code",
      "source": [
        "list(range(10,20,2))  #เริ่ม 10 จบก่อน 20 กระโดดทีละ 2"
      ],
      "metadata": {
        "colab": {
          "base_uri": "https://localhost:8080/"
        },
        "id": "MHyMpNjBMwT6",
        "outputId": "ca1dbcea-902c-4e73-802e-f4730a07b4cc"
      },
      "execution_count": null,
      "outputs": [
        {
          "output_type": "execute_result",
          "data": {
            "text/plain": [
              "[10, 12, 14, 16, 18]"
            ]
          },
          "metadata": {},
          "execution_count": 44
        }
      ]
    },
    {
      "cell_type": "code",
      "source": [
        "for i in range(100):\n",
        "    print(f'Ha{i}',end='')"
      ],
      "metadata": {
        "colab": {
          "base_uri": "https://localhost:8080/"
        },
        "id": "2iRRbs4UMmMd",
        "outputId": "5f6cb878-6924-46d8-ddb2-2cbffdaac94a"
      },
      "execution_count": null,
      "outputs": [
        {
          "output_type": "stream",
          "name": "stdout",
          "text": [
            "Ha0Ha1Ha2Ha3Ha4Ha5Ha6Ha7Ha8Ha9Ha10Ha11Ha12Ha13Ha14Ha15Ha16Ha17Ha18Ha19Ha20Ha21Ha22Ha23Ha24Ha25Ha26Ha27Ha28Ha29Ha30Ha31Ha32Ha33Ha34Ha35Ha36Ha37Ha38Ha39Ha40Ha41Ha42Ha43Ha44Ha45Ha46Ha47Ha48Ha49Ha50Ha51Ha52Ha53Ha54Ha55Ha56Ha57Ha58Ha59Ha60Ha61Ha62Ha63Ha64Ha65Ha66Ha67Ha68Ha69Ha70Ha71Ha72Ha73Ha74Ha75Ha76Ha77Ha78Ha79Ha80Ha81Ha82Ha83Ha84Ha85Ha86Ha87Ha88Ha89Ha90Ha91Ha92Ha93Ha94Ha95Ha96Ha97Ha98Ha99"
          ]
        }
      ]
    },
    {
      "cell_type": "markdown",
      "source": [
        "### Nested loop\n",
        "\n",
        "- loop ซ้อน loop"
      ],
      "metadata": {
        "id": "M3AsVKpAsVIJ"
      }
    },
    {
      "cell_type": "code",
      "source": [
        "for i in range(3):\n",
        "    print(f'i = {i}')\n",
        "    for j in range(2):\n",
        "      print(f'i = {i}, j = {j}, i+j = {i+j}')"
      ],
      "metadata": {
        "colab": {
          "base_uri": "https://localhost:8080/"
        },
        "id": "54-JkISssXFu",
        "outputId": "3049c8c3-b115-4d08-8939-b0b4f47fe241"
      },
      "execution_count": null,
      "outputs": [
        {
          "output_type": "stream",
          "name": "stdout",
          "text": [
            "i = 0\n",
            "i = 0, j = 0, i+j = 0\n",
            "i = 0, j = 1, i+j = 1\n",
            "i = 1\n",
            "i = 1, j = 0, i+j = 1\n",
            "i = 1, j = 1, i+j = 2\n",
            "i = 2\n",
            "i = 2, j = 0, i+j = 2\n",
            "i = 2, j = 1, i+j = 3\n"
          ]
        }
      ]
    },
    {
      "cell_type": "markdown",
      "source": [
        "Ex\n",
        "\n",
        "สร้าง list\n",
        "[[1],[1,1], [1,1,1],...,[1,1,1,1,1,1,1,1,1,1] โดยใช้ for loop"
      ],
      "metadata": {
        "id": "54hCD2u7tWK4"
      }
    },
    {
      "cell_type": "code",
      "source": [
        "list_A = []\n",
        "for i in range(10):\n",
        "  AA = []\n",
        "  for j in range(i+1):\n",
        "      A=1\n",
        "      AA.append(A)\n",
        "  list_A.append(AA)"
      ],
      "metadata": {
        "id": "125Si1pvtfVD"
      },
      "execution_count": null,
      "outputs": []
    },
    {
      "cell_type": "code",
      "source": [
        "list_A = []\n",
        "for i in range(10):\n",
        "   AA = []\n",
        "   for j in range(i+1):\n",
        "      A=1\n",
        "      AA.append(A)\n",
        "   list_A.append(AA)"
      ],
      "metadata": {
        "id": "SCUarht4v8gv"
      },
      "execution_count": null,
      "outputs": []
    },
    {
      "cell_type": "code",
      "source": [
        "list_A"
      ],
      "metadata": {
        "colab": {
          "base_uri": "https://localhost:8080/"
        },
        "id": "tFhWJt7Yv-XE",
        "outputId": "57f43742-c646-4cf1-d9d9-9307ce4fe4ef"
      },
      "execution_count": null,
      "outputs": [
        {
          "output_type": "execute_result",
          "data": {
            "text/plain": [
              "[[1],\n",
              " [1, 1],\n",
              " [1, 1, 1],\n",
              " [1, 1, 1, 1],\n",
              " [1, 1, 1, 1, 1],\n",
              " [1, 1, 1, 1, 1, 1],\n",
              " [1, 1, 1, 1, 1, 1, 1],\n",
              " [1, 1, 1, 1, 1, 1, 1, 1],\n",
              " [1, 1, 1, 1, 1, 1, 1, 1, 1],\n",
              " [1, 1, 1, 1, 1, 1, 1, 1, 1, 1]]"
            ]
          },
          "metadata": {},
          "execution_count": 49
        }
      ]
    },
    {
      "cell_type": "code",
      "source": [
        "##answer\n",
        "list_ans = []\n",
        "print(f'list_ans = {list_ans}')\n",
        "for i in range(1, 11):\n",
        "    temp = []\n",
        "    #print(f'temp = {temp}')\n",
        "    for j in range(i):\n",
        "        temp.append(1)\n",
        "    print(f'i = {i} j = {j} : temp = {temp}')\n",
        "    list_ans.append(temp)\n",
        "    print(f'list_ans = {list_ans} \\n ---------')\n",
        "\n",
        "print(list_ans)"
      ],
      "metadata": {
        "colab": {
          "base_uri": "https://localhost:8080/"
        },
        "id": "CxrR7LKSu6zG",
        "outputId": "b0a180d5-8394-4900-bf48-1da6388a2c45"
      },
      "execution_count": null,
      "outputs": [
        {
          "output_type": "stream",
          "name": "stdout",
          "text": [
            "list_ans = []\n",
            "i = 1 j = 0 : temp = [1]\n",
            "list_ans = [[1]] \n",
            " ---------\n",
            "i = 2 j = 1 : temp = [1, 1]\n",
            "list_ans = [[1], [1, 1]] \n",
            " ---------\n",
            "i = 3 j = 2 : temp = [1, 1, 1]\n",
            "list_ans = [[1], [1, 1], [1, 1, 1]] \n",
            " ---------\n",
            "i = 4 j = 3 : temp = [1, 1, 1, 1]\n",
            "list_ans = [[1], [1, 1], [1, 1, 1], [1, 1, 1, 1]] \n",
            " ---------\n",
            "i = 5 j = 4 : temp = [1, 1, 1, 1, 1]\n",
            "list_ans = [[1], [1, 1], [1, 1, 1], [1, 1, 1, 1], [1, 1, 1, 1, 1]] \n",
            " ---------\n",
            "i = 6 j = 5 : temp = [1, 1, 1, 1, 1, 1]\n",
            "list_ans = [[1], [1, 1], [1, 1, 1], [1, 1, 1, 1], [1, 1, 1, 1, 1], [1, 1, 1, 1, 1, 1]] \n",
            " ---------\n",
            "i = 7 j = 6 : temp = [1, 1, 1, 1, 1, 1, 1]\n",
            "list_ans = [[1], [1, 1], [1, 1, 1], [1, 1, 1, 1], [1, 1, 1, 1, 1], [1, 1, 1, 1, 1, 1], [1, 1, 1, 1, 1, 1, 1]] \n",
            " ---------\n",
            "i = 8 j = 7 : temp = [1, 1, 1, 1, 1, 1, 1, 1]\n",
            "list_ans = [[1], [1, 1], [1, 1, 1], [1, 1, 1, 1], [1, 1, 1, 1, 1], [1, 1, 1, 1, 1, 1], [1, 1, 1, 1, 1, 1, 1], [1, 1, 1, 1, 1, 1, 1, 1]] \n",
            " ---------\n",
            "i = 9 j = 8 : temp = [1, 1, 1, 1, 1, 1, 1, 1, 1]\n",
            "list_ans = [[1], [1, 1], [1, 1, 1], [1, 1, 1, 1], [1, 1, 1, 1, 1], [1, 1, 1, 1, 1, 1], [1, 1, 1, 1, 1, 1, 1], [1, 1, 1, 1, 1, 1, 1, 1], [1, 1, 1, 1, 1, 1, 1, 1, 1]] \n",
            " ---------\n",
            "i = 10 j = 9 : temp = [1, 1, 1, 1, 1, 1, 1, 1, 1, 1]\n",
            "list_ans = [[1], [1, 1], [1, 1, 1], [1, 1, 1, 1], [1, 1, 1, 1, 1], [1, 1, 1, 1, 1, 1], [1, 1, 1, 1, 1, 1, 1], [1, 1, 1, 1, 1, 1, 1, 1], [1, 1, 1, 1, 1, 1, 1, 1, 1], [1, 1, 1, 1, 1, 1, 1, 1, 1, 1]] \n",
            " ---------\n",
            "[[1], [1, 1], [1, 1, 1], [1, 1, 1, 1], [1, 1, 1, 1, 1], [1, 1, 1, 1, 1, 1], [1, 1, 1, 1, 1, 1, 1], [1, 1, 1, 1, 1, 1, 1, 1], [1, 1, 1, 1, 1, 1, 1, 1, 1], [1, 1, 1, 1, 1, 1, 1, 1, 1, 1]]\n"
          ]
        }
      ]
    },
    {
      "cell_type": "markdown",
      "source": [
        "## เฉลย"
      ],
      "metadata": {
        "id": "DQSn1AmoaPBK"
      }
    },
    {
      "cell_type": "code",
      "source": [
        "listofletter = ['a','b','c','d','e','f','g','h','i','j']"
      ],
      "metadata": {
        "id": "N_X0DkW3aQ6V"
      },
      "execution_count": null,
      "outputs": []
    },
    {
      "cell_type": "code",
      "source": [
        "list_ans2 = []\n",
        "for i in range(10):\n",
        "  list_ans2.append(listofletter[:i])"
      ],
      "metadata": {
        "id": "ExOUJTJOaSfy"
      },
      "execution_count": null,
      "outputs": []
    },
    {
      "cell_type": "code",
      "source": [
        "list_ans2"
      ],
      "metadata": {
        "id": "caV2lFazaUXG"
      },
      "execution_count": null,
      "outputs": []
    },
    {
      "cell_type": "markdown",
      "source": [
        "Quiz 2\n",
        "สร้าง list [[1],[1,2], [1,2,3],...,[1,2,3,4,5,6,7,8,9,10] โดยใช้ for loop"
      ],
      "metadata": {
        "id": "eGDTgNguwJuZ"
      }
    },
    {
      "cell_type": "code",
      "source": [
        "list_A = []\n",
        "for i in range(10):\n",
        "   AA = []\n",
        "   for j in range(i+1):\n",
        "      AA.append(j+1)\n",
        "   list_A.append(AA)"
      ],
      "metadata": {
        "id": "U5pFDru0amlD"
      },
      "execution_count": null,
      "outputs": []
    },
    {
      "cell_type": "code",
      "source": [
        "print(list_A)"
      ],
      "metadata": {
        "id": "mTZBb55NaoD3"
      },
      "execution_count": null,
      "outputs": []
    },
    {
      "cell_type": "markdown",
      "source": [
        "## Conditional Statement (if statement)\n",
        "\n",
        "\n",
        "``` python\n",
        "if เงื่อนไขที่เราจะตรวจสอบ (โดยอาศัยสัญลักษณ์เหล่านี้ ==, !=, <, >, <=, >=, in, is_null(), and, or,&,|) :\n",
        "    ถ้าเงื่อนไขเป็นจริง ทำ\n",
        "    ถ้าเงื่อนไขเป็นจริง ทำ\n",
        "if condition (with these symbols: ==, !=, <, >, <=, >=, in, is_null(), and, or,&,|) :\n",
        "    Do this when the condition is true #1\n",
        "    Do this when the condition is true #2\n",
        "```"
      ],
      "metadata": {
        "id": "qVFOvext3SK5"
      }
    },
    {
      "cell_type": "code",
      "source": [
        "if 1<5:\n",
        "   print('yes')"
      ],
      "metadata": {
        "id": "FEzoTlJm3zmh",
        "outputId": "7967161e-b9dc-4178-d908-99ffbf27159a",
        "colab": {
          "base_uri": "https://localhost:8080/"
        }
      },
      "execution_count": null,
      "outputs": [
        {
          "output_type": "stream",
          "name": "stdout",
          "text": [
            "yes\n"
          ]
        }
      ]
    },
    {
      "cell_type": "markdown",
      "source": [
        "## Many Conditional Statement (if statement)\n",
        "\n",
        "\n",
        "``` if เงื่อนไขที่เราจะตรวจสอบ (โดยอาศัยสัญลักษณ์เหล่านี้ ==, !=, <, >, <=, >=, in, is_null(), and, or,&,|) :\n",
        "    ถ้าเงื่อนไขเป็นจริง ทำงานที่ 1\n",
        "    ถ้าเงื่อนไขเป็นจริง ทำงานที่ 2\n",
        "elif เงื่อนไขที่เราจะตรวจสอบต่อไปนี้ถ้าเงื่อนไขข้างบนไม่เป็นจริง:\n",
        "    ถ้าเงื่อนไขเป็นจริง ทำงานที่ a1\n",
        "    ถ้าเงื่อนไขเป็นจริง ทำงานที่ a2\n",
        "elif เงื่อนไขที่เราจะตรวจสอบต่อไปนี้ถ้าเงื่อนไขข้างบนไม่เป็นจริง:\n",
        "    ถ้าเงื่อนไขเป็นจริง ทำงานที่ b1\n",
        "    ถ้าเงื่อนไขเป็นจริง ทำงานที่ b2\n",
        "else: # ตรวจสอบเงื่อนไขข้างบนแล้วไม่เป็นจริง\n",
        "    ทำงานที่ x\n",
        "if condition 1 (with these symbols: ==, !=, <, >, <=, >=, in, is_null(), and, or,&,|) :\n",
        "    Do this when the condition is true #1\n",
        "    Do this when the condition is true #2\n",
        "elif condition 2:\n",
        "    Do this when condition 1 is False and the condition is true #1\n",
        "    Do this when condition 1 is False and the condition is true #2\n",
        "elif condition 3:\n",
        "    Do this when condition 1 and 2 are False and the condition is true #1\n",
        "else: # if all above conditions are false\n",
        "    Do this when all conditions are false\n",
        "```"
      ],
      "metadata": {
        "id": "PRFsD4Vb4qDm"
      }
    },
    {
      "cell_type": "code",
      "source": [
        "x = 12\n",
        "\n",
        "if x<5:\n",
        "   print('yes')\n",
        "else:\n",
        "   print('no')"
      ],
      "metadata": {
        "id": "bEQvnvVT4w3e",
        "outputId": "cc37d283-b811-4453-ffa4-333b97e435a6",
        "colab": {
          "base_uri": "https://localhost:8080/"
        }
      },
      "execution_count": null,
      "outputs": [
        {
          "output_type": "stream",
          "name": "stdout",
          "text": [
            "no\n"
          ]
        }
      ]
    },
    {
      "cell_type": "code",
      "source": [
        "v = 1\n",
        "\n",
        "if v<5:\n",
        "   print('yes')\n",
        "else:\n",
        "   print('no')"
      ],
      "metadata": {
        "id": "wc0hmM2942B0",
        "outputId": "77f74620-34b2-414c-f4fb-eed5ea33bc5f",
        "colab": {
          "base_uri": "https://localhost:8080/"
        }
      },
      "execution_count": null,
      "outputs": [
        {
          "output_type": "stream",
          "name": "stdout",
          "text": [
            "yes\n"
          ]
        }
      ]
    },
    {
      "cell_type": "markdown",
      "source": [
        "### Example\n",
        "list_ex = [1,5,9,-19,-2,0] #หาค่าน้อยที่สุดใน list_ex โดยไม่ใช่ function min (ใช้ for กับ if)"
      ],
      "metadata": {
        "id": "appeCUy85J4T"
      }
    },
    {
      "cell_type": "code",
      "source": [
        "list_ex=[1,5,9,-19,2,0]"
      ],
      "metadata": {
        "id": "_V05Rccv5XVJ"
      },
      "execution_count": null,
      "outputs": []
    },
    {
      "cell_type": "code",
      "source": [
        "minimum = list_ex[0]\n",
        "for number in list_ex:\n",
        "    if minimum > number:\n",
        "       minimum = number\n",
        "print(minimum)"
      ],
      "metadata": {
        "id": "9DpQL8NW45SR",
        "outputId": "8f85c5ab-6050-4a72-e697-75ebe34e9b53",
        "colab": {
          "base_uri": "https://localhost:8080/"
        }
      },
      "execution_count": null,
      "outputs": [
        {
          "output_type": "stream",
          "name": "stdout",
          "text": [
            "-19\n"
          ]
        }
      ]
    },
    {
      "cell_type": "code",
      "source": [
        "##เฉลย\n",
        "min = 100000000\n",
        "print(list_ex)\n",
        "for i in list_ex:\n",
        "    print(f'now i = {i}, min = {min}')\n",
        "    print('start condition')\n",
        "    if i < min:\n",
        "        print(f'i < min, update min -> {i}')\n",
        "        min = i\n",
        "    else:\n",
        "        print('i >= min, not update')\n",
        "    print('end condition, go to next i')\n",
        "\n",
        "print(min)"
      ],
      "metadata": {
        "id": "KvGcxPIm5l3r",
        "outputId": "33145b6f-f4ef-45cd-8e85-e20746abd5bd",
        "colab": {
          "base_uri": "https://localhost:8080/"
        }
      },
      "execution_count": null,
      "outputs": [
        {
          "output_type": "stream",
          "name": "stdout",
          "text": [
            "[1, 5, 9, -19, 2, 0]\n",
            "now i = 1, min = 100000000\n",
            "start condition\n",
            "i < min, update min -> 1\n",
            "end condition, go to next i\n",
            "now i = 5, min = 1\n",
            "start condition\n",
            "i >= min, not update\n",
            "end condition, go to next i\n",
            "now i = 9, min = 1\n",
            "start condition\n",
            "i >= min, not update\n",
            "end condition, go to next i\n",
            "now i = -19, min = 1\n",
            "start condition\n",
            "i < min, update min -> -19\n",
            "end condition, go to next i\n",
            "now i = 2, min = -19\n",
            "start condition\n",
            "i >= min, not update\n",
            "end condition, go to next i\n",
            "now i = 0, min = -19\n",
            "start condition\n",
            "i >= min, not update\n",
            "end condition, go to next i\n",
            "-19\n"
          ]
        }
      ]
    },
    {
      "cell_type": "code",
      "source": [
        "list_ex = [1,5,9,-19,-2,0]\n",
        "\n",
        "min = 100000000\n",
        "for x in list_ex:\n",
        "    if x < min:\n",
        "        min = x\n",
        "\n",
        "print(min)"
      ],
      "metadata": {
        "id": "L5Ik0BHT7C6c",
        "outputId": "df20c08e-7991-4a22-dfc4-26b1be5b0451",
        "colab": {
          "base_uri": "https://localhost:8080/"
        }
      },
      "execution_count": null,
      "outputs": [
        {
          "output_type": "stream",
          "name": "stdout",
          "text": [
            "-19\n"
          ]
        }
      ]
    },
    {
      "cell_type": "markdown",
      "source": [
        "#### ex\n",
        "list_ex = [1,5,9,-19,-2,0]\n",
        "\n",
        "*หาค่ามากที่สุดใน list_ex โดยไม่ใช้ function max (ใช้ for กับ if)*"
      ],
      "metadata": {
        "id": "gScPe2dD7HVo"
      }
    },
    {
      "cell_type": "code",
      "source": [
        "list_ex = [1,5,9,-19,-2,0]"
      ],
      "metadata": {
        "id": "bgQDLBxD7alY"
      },
      "execution_count": null,
      "outputs": []
    },
    {
      "cell_type": "code",
      "source": [
        "maximum = list_ex[0]\n",
        "for number in list_ex:\n",
        "    if maximum < number:\n",
        "       maximum = number\n",
        "print(maximum)"
      ],
      "metadata": {
        "id": "eX8rk8D27ZjL",
        "outputId": "329de594-b1a8-4090-9429-4e4fef345ad2",
        "colab": {
          "base_uri": "https://localhost:8080/"
        }
      },
      "execution_count": null,
      "outputs": [
        {
          "output_type": "stream",
          "name": "stdout",
          "text": [
            "9\n"
          ]
        }
      ]
    },
    {
      "cell_type": "markdown",
      "source": [
        "### HW 1 sort the number in ```list_ex```without using max() function (you can sue only for and if) => 15/8/66\n",
        "\n",
        "ทำการสร้าง function loop สำหรับการ sort (เรียงลำดับ) โดยไม่ใช้ max(). ใช้ได้แค่ for และ if เท่านั้น\n",
        "\n",
        "\n"
      ],
      "metadata": {
        "id": "V_qd5Ipz7tmE"
      }
    },
    {
      "cell_type": "markdown",
      "source": [
        "เรียงจากน้อยไปมาก"
      ],
      "metadata": {
        "id": "q-mrnV7nBK7D"
      }
    },
    {
      "cell_type": "code",
      "source": [
        "list_ex = [1, 5, 9, -19, -2, 0]\n",
        "n = len(list_ex)\n",
        "\n",
        "for i in range(n - 1):\n",
        "#เริ่ม Loop List ครั้งแรกก่อน\n",
        "    for j in range(0, n - i - 1):\n",
        "#เริ่ม Loop List ครั้งที่ 2\n",
        "        if list_ex[j] > list_ex[j + 1]:\n",
        "# loop list ครั้งที่ 2 ตัวปัจจุบันเทียบกับตัวถัดไป\n",
        "            list_ex[j], list_ex[j + 1] = list_ex[j + 1], list_ex[j]\n",
        "#ถ้าตัวปัจจุบันมีค่ามากกว่าตัวถัดไปเรียงใหม่ให้เป็น ตัวถัดไป,ตัวปัจจุบัน\n",
        "\n",
        "print(f'List เมื่อเรียงจากน้อยไปมากเท่ากับ',list_ex)"
      ],
      "metadata": {
        "id": "QbcH-vTCB9YZ",
        "outputId": "51674350-d2bd-4bc9-a7f5-50d8de1c2e00",
        "colab": {
          "base_uri": "https://localhost:8080/"
        }
      },
      "execution_count": null,
      "outputs": [
        {
          "output_type": "stream",
          "name": "stdout",
          "text": [
            "List เมื่อเรียงจากน้อยไปมากเท่ากับ [-19, -2, 0, 1, 5, 9]\n"
          ]
        }
      ]
    },
    {
      "cell_type": "markdown",
      "source": [
        "เรียงจากมากไปน้อย"
      ],
      "metadata": {
        "id": "eTPv7pPYEiAr"
      }
    },
    {
      "cell_type": "code",
      "source": [
        "list_ex = [1, 5, 9, -19, -2, 0]\n",
        "\n",
        "n = len(list_ex)\n",
        "\n",
        "for i in range(n - 1):\n",
        "#เริ่ม Loop List ครั้งแรกก่อน\n",
        "    for j in range(0, n - i - 1):\n",
        "#เริ่ม Loop List ครั้งที่ 2\n",
        "        if list_ex[j] < list_ex[j + 1]:\n",
        "# loop list ครั้งที่ 2 ตัวปัจจุบันเทียบกับตัวถัดไป\n",
        "            list_ex[j], list_ex[j + 1] = list_ex[j + 1], list_ex[j]\n",
        "#ถ้าตัวปัจจุบันมีค่าน้อยกว่าตัวถัดไปเรียงใหม่ให้เป็น ตัวถัดไป,ตัวปัจจุบัน\n",
        "\n",
        "print(f'List เมื่อเรียงจากมากไปน้อยเท่ากับ',list_ex)"
      ],
      "metadata": {
        "id": "B82NUjJEEmqr",
        "outputId": "3e541836-bb44-4927-c0ac-0b80e6773709",
        "colab": {
          "base_uri": "https://localhost:8080/"
        }
      },
      "execution_count": null,
      "outputs": [
        {
          "output_type": "stream",
          "name": "stdout",
          "text": [
            "List เมื่อเรียงจากมากไปน้อยเท่ากับ [9, 5, 1, 0, -2, -19]\n"
          ]
        }
      ]
    },
    {
      "cell_type": "markdown",
      "source": [
        "## Python infinity"
      ],
      "metadata": {
        "id": "Ldnf7zf-bbmu"
      }
    },
    {
      "cell_type": "markdown",
      "source": [
        "***"
      ],
      "metadata": {
        "id": "YzJ0dZ1lEl2k"
      }
    },
    {
      "cell_type": "markdown",
      "source": [
        "\n",
        "\n",
        "1.  Using float(‘inf’) and float(‘-inf’):\n",
        "\n",
        "\n"
      ],
      "metadata": {
        "id": "s6XhiFnxbgx1"
      }
    },
    {
      "cell_type": "code",
      "source": [
        "float('inf')"
      ],
      "metadata": {
        "id": "NoJKdS-_bmpx"
      },
      "execution_count": null,
      "outputs": []
    },
    {
      "cell_type": "code",
      "source": [
        "float('-inf')"
      ],
      "metadata": {
        "id": "2Wru2umjboE3"
      },
      "execution_count": null,
      "outputs": []
    },
    {
      "cell_type": "markdown",
      "source": [
        "2. using Python’s math module:"
      ],
      "metadata": {
        "id": "Qp_7uuOs9Ib0"
      }
    },
    {
      "cell_type": "code",
      "source": [
        "import math"
      ],
      "metadata": {
        "id": "H2AKeIEr9KbL"
      },
      "execution_count": null,
      "outputs": []
    },
    {
      "cell_type": "code",
      "source": [
        "math.inf"
      ],
      "metadata": {
        "id": "iQvlS6eL9NI0",
        "outputId": "940a6b53-bf47-4f96-8e1f-84bdb2a0255c",
        "colab": {
          "base_uri": "https://localhost:8080/"
        }
      },
      "execution_count": null,
      "outputs": [
        {
          "output_type": "execute_result",
          "data": {
            "text/plain": [
              "inf"
            ]
          },
          "metadata": {},
          "execution_count": 65
        }
      ]
    },
    {
      "cell_type": "code",
      "source": [
        "-math.inf"
      ],
      "metadata": {
        "id": "HGkAPZb09QEL",
        "outputId": "00e6ac38-d5c8-4ebe-f0a6-521cab83ec3e",
        "colab": {
          "base_uri": "https://localhost:8080/"
        }
      },
      "execution_count": null,
      "outputs": [
        {
          "output_type": "execute_result",
          "data": {
            "text/plain": [
              "-inf"
            ]
          },
          "metadata": {},
          "execution_count": 66
        }
      ]
    },
    {
      "cell_type": "markdown",
      "source": [
        "###Function\n",
        "\n",
        "``` python\n",
        "def ชื่อฟังก์ชั่น(input1,input2,....):\n",
        "    งานxxx\n",
        "    งานyyy\n",
        "    return output\n",
        "def function name(input1,input2,....):\n",
        "    process #1\n",
        "    process #2\n",
        "    return output\n",
        "  \n",
        "```\n",
        "\n",
        "![image.png](data:image/png;base64,iVBORw0KGgoAAAANSUhEUgAAAiwAAAEQCAIAAAAcRbj1AAAgAElEQVR4nO3df3xTZZ4v8CcF1Mss0tOA7KKDkJTdizDWwVNmh1faHZiliYVxnQVMUNcXd+mLkrDDXcBpaSrDi1EKjaj3MkN/cHVurws2pbKwSiOBO9S1kVUasVGRnWlP+DHKLpJQkBmuSGnuHw8+83iSpic/T5J+3q/+kZ6cH885SZ7vOc9PTSgUIgAAAGrIUzsBAAAwciEIAQCAahCEAABANQhCAACgGgQhAABQDYIQAACoBkEIAABUgyAEAACqQRACAADVIAgBAIBqEIQAAEA1CEIAAKAaBCEAAFANghAAAKgGQQgAAFQzWu0EgFyvq7vzZ3uGXe2+pQZD9ZI0pCfpdon/SF/M+/nj08uL1U0Mw1/2uT/921nm0qHW9NS/9km7h2TVR8Cf3Urv/1A3MQA8BCFIvv1PvnDxk3Mkw8KMct07O+4tmTlusjbVB0ruhWLRHWEGsgiCUOaaeN+UH7+yTu1UJF/mZ5E3rl33Nh2a9/PH1U5I0kwvL87GuwEYCVAnBPANYyeOHzP29l5Xd6+rW+20AOQ+BCGAb/jWxPHTFxYTQj54+YjaaQHIfSiOy3qsXiFiPflQtQ5Xzwf7Dp24+Mm5y6cvXD77OV04ZuztE2dOubv4z7/79wuGOtwHvzpy5q2P6D7pJvlTJ+VPnaT76we++v01WZOKzp/tCa8P/+BXR/5w8QohJDy1va7u37xx/PKZz69dvEKX5N97V/60SUVPzp90/7TwxHzc9vbFk7+7fOYCSw8hZOJ9UyaL0+9bMjfuSh1D9ZLzx397+eznnvrXYm16QK/P5TMXbly7ztIzceaUor+bx9IT3vYk4oW68OHpM299fN7bK7vasrNjDSUYVjnEl+h66l8jhHxr4vjwD1dJmpm4vzkAESEIjUQf/OpIT8v/ZTkOc+Pa9fPdvee7e3s7uh/6RaUsAzr79sn3/ue/sHyHbXLxk3MXPznX6+pWWInCYpgsfz/81Mtn3vpItvLls59fPvv5mbc+koXYs2+f7Nq6l8UqHk3PJ6955j/75L2lM5UkKdx3Vyzo/Nme3o7u6Q89GDH+hbt6PvjmT5pl14elp7eju3j1wiiN7sId276fD66Ev9pvektqHo3p7GigmnjfFD5OxJrm+L45AFEgCI1Ef7h4heYjYyeOn7nUMFksnHT/tKvng2e7Tn6y10Pz/X974UDZ9hX8ViwCjZ04/oHlP6R504UPT1889buLJ3/3WfdvWe13HI2+On+2h0agMWNvf2D5XxeaZo+brL3w4eneN9+nuecn7Z78qXexDPGr319jEajoyR/+6QM6miPTZ6nz3b03rl3v2rr33tLN8V2i6eXFn777215X97Ht+xU2D2G5ef69d933qIEm9ezbJz9qfYump3tnx8QZ3550/zSFF+pbd43Pn1o8cea3aVM9/gO6dvHKe//zX+gpG6qX0PAcR+s45Wmm68f3zQGIAnVCIxotnKFZzLjJ2lnm0r/atIy+deatj66eD7I1P/jVERaB/ublNSwYTLp/2ixz6byfP/7Em3Fm94SQCx+eZq0A5j/75Hf/fgG9lZ50/zRD9ZJi20L6Vk/LryNu/r01P2LPBNPLixc1rh47cTwh5NrFKx+3vR13qsRVprETx1/85JySnfDX56FfVLLrc2/pzEWNq6f+4DuEkBvXrvteOao8AWXbV8z7+eOzzKX0atAP6KFfVNKzu3z280TOLsE0K//mAESHIJS5Ln5ybpf4jxH/aPl+Kky6f9rE+6bQ1//Z42fLP+v+LX0xc6kh6YUtZ976mL6Y+oPvhBcxfffvF+Tfexch5NrFKwpbrNEMlBBy+Yy8oEm5cZO1Dyz/ISGke2fHsLlq9Ovz/XWP0Bfh5Y1xpCopZ0eSneahvjkA0SEIgSIXT96qnJgsFiZ/56du7ZzlYjITZ95LX1z46GzSjx7FLHPp5OLptNtQ9DWjX59xk7U0jhJC4m75ffbtk72u7qvng/lT75IdND5pSDPAsFAnlLkyqrMqq4tWWEsf287/cGvnf/Kn+RFXGPOt25N+UIWKreWuk029ru57/vLPo9RvDXt9xnzrjjiO/sGvjnzW/duLJ8+FtwVIXIrSDBATPAkBRDPp/mn3LTGQtHcbuno+uHdxXXdDB20gQGiz6fum0AohgJyBJ6Gs9627xl/8RO1E5LTvrfkR7awTR7ehuP3bCwdYu7XvrljAP4QpHOIWICvgSSjrpefWeMzYWwViFz48nfydf13a9vv/vBxxBVZep5bZFUZCSG9H91CnP+z1ufGHL2M6ImsO8NAvKlM07FvS0wwQBwShrDfmv9zKSiLm1H/4ujPNnfdMSOQoE2feajJw3tuXyH4i73zGrZ3L+mYyF0/eao8w6Tv3Jv3oStxbOvO+pYYb164f274/4grRr8/V80HWITTWiJK6jp+pSzOAcghCWW/qD2bRF2fe+lDWkvjjtrdpj86xE8cn2KDg7uI/py9OtnuS3guEO4WPzr59UvYu351Fxdyw6O/m0W5D54//Nvzd6Nfn3144QF+w1tXKhe+NNRHMnzop1r3xUpdmAOUQhLLepPunTS6eTgi5ce36mz9pppn4hQ9Pv7fjje6dHXSdmUsNCR6F76zz5k+aWTfJCx+e/rjt7c6f7dn90Ca2Msscf/PGcULI1fPB6G186SAC9PXRp1/54FdHaJ544cPTnvrXuhtunQXttaOWcZO13/vJIkJI+CA3ZOjrc/btkwetO9lgEEVPzue3inKhWNb/r884WWCmF4SNFHfPX/75N/b2dYvq93a8QVcOj+iJpxkgudAwIRf81UYLHX/l8tnP3ev+l+zdqT/4TlKGlfzef/8bOnLP5bOfH3vun489989DrXnfkrln3vqQjifGxpKJ/hAz7+eP37j25Zm3Prpx7Xp3QwcLPH/c51JDTAOvpcL08uLTRz8cqvPmQ7+oZJ9C+PUZM/b24tULZc+jUS7U99c9QkcIpWOyhR+u2LZQdknve9RAD+p75de+V35NCJl435To48vFkWaA5EIQygXjJmsf3WeXjYU8duL4/Kl3/cWP5iSrCOve0pn3ls58b8cb4eM601G02ZqT7p82/9kn6fhjdAm7SY+ibPuKWEfRTr/vr3vks+O/jdhrJ+KnQKKOSB3lQrG9yfoJ5d9718SZ9+r++oHw6EKDNB3D7dbKw5XXxZFmgOTShEIhtdMAAAAjFOqEAABANQhCAACgGgQhAABQDYIQAACoBkEIAABUgyAEAACqQRACAADVIAgBAIBqEIQAAEA1CEIAAKAaBCEAAFANghAAAKgGQQgAAFSDIAQAAKpBEAIAANUgCAEAgGoQhAAAQDUIQgAAoBoEIQAAUA2CEAAAqAZBCAAAVIMgBAAAqkEQAgAA1SAIAQCAahCEAABANQhCAACgGgQhAABQDYIQAACoBkEIAABUgyAEAACqQRDKTX6/v7m5ubi4WPO1wsJCp9MZZZNgMFhQUMDW9/v96UknO2JBQUEwGEzDQQEgcyAI5aDm5mZRFFetWuX1etlCSZLOnTsXZauXX365v7+fvq6vr9fpdKlNJSGEEJ1OV19fT1/39/dv3LgxDQcFgMyhCYVCaqcBksnhcFRXV0d8q76+vqqqKuJbwWBw+vTpLAgFAgGtVpuqJEY9tCRJ6Yl/AJAJ8CSUU/x+/1ARKDr+MchqtaYtAhFCtFrthg0b2L/bt29P26EznM/nczgcJpOJL1bVaDTFxcUWi6W5uTk9RaYAqRWCHGK1WvkP12q19vT0sHclSRpqQ0EQ2FZRVkuRQCDAji4IQiAQSHMCMkogEGhqatLr9Up+v0ajsaurS+0kA8QPQSin8LGktbVV4Vatra18ppbSFA6FD59NTU2qpCETNDU18R+iQvX19WonHCBOqBPKHR6Pp6SkhL7W6/V9fX0KNzSZTG63m75ubW21WCwpSV9UcSc+x2g0mvg2tNvtW7ZsSW5iANIAdUK549ixY+y12WxWuJXf72cRSBAEVSIQIcRgMLACKEmSfD6fKsnIKKIo1tfXd3V18QWkgUCgq6urqalJFEV+5bq6OpfLpVZSAeKGIJQ7rly5wl5PmTJF4VZHjhxhr9WKQFRZWRl7vXfvXhVTojpamdfd3V1VVWUwGPjmglqt1mAwVFZWdnd3d3V18WV3a9asUSOxAAlBEMod77//Pns9c+ZMhVu99NJL7PWiRYuSnKZY8Edva2tTMSUqMhqNPT09DQ0NRUVFw65sMBg6OztZHJIkKXp/ZIAMhCA0ogWDQdahVRCE8vJyFRPDH33ElsgdOnRISfhhioqK+AbuBw4cSEGiAFIIQWhE48vi+NIwtRiNRvb63XffVTElWYS/aPwYGQBZAUEoi3k8Hr4PI2tfQAgpKSnRhHE4HLI9vP322+z1vHnzohzL7/fzI8uF70rJVsPWOc2fP5+97uzsVHII4J+cJEmKuA7f3dVkMincs2zsQYzsB6mAIDSidXd3s9fRq5F0Ot3WrVvZv9XV1UqKy8xmMxuIQRCEnTt3Rl9/7ty57DVu6pOIr/lzu93Nzc3DblJbW8t/BC0tLekcRwNGEPW6KEGiurq6Yvqsw7s0xvpN4Et+9Hp99KEN2MiklMKO/fwmI3zoBIX4px9BEIZaTfZx8ENphJN9tdAZFlIHT0Ijl8fjYa9lnU6GsmfPHr4t1gsvvDDUmj6fjx/Fzm63GwwGJYfgU3Lq1Cklm4xwx48fZ6/nzJkz1GpVVVX8PURFRcVQawaDweXLl7N/RVEcatxbgMQhCGUxg8HA31DwWUzExw5ZVvLFF1+w1wpLWrRa7e7du9m/Q3WQDAaDixcvZv+Korhu3TqFJ8WPmXby5EmFW41kfMUeX6kWrqGhgd1DeL3e2traiKutXr2aPV0JgsAX5QEkHYLQyPXxxx+z19EzL155eTk/ztsTTzwRXl+9ceNGvozopZdeUl6dMHv2bPaa736bXA6HI7zhhnIK22WkQTAYbGxsZP/yNyLhdDpdQ0MD+7euro5/GqacTiffSWvr1q0xNRkHiBWCEMTsmWeeYc8r/f39jz/+OP+uy+Xis8X6+vqYcrHx48ez1ydOnEgspbnv5ZdfZq+NRuOwl9pisfBDOj388MP8PYTf77fZbPwOKysrk5dYgAgQhEYuPoufNWuW8g21Wm1LSwv7l29tFQwGn3jiCfaW0WiMtTqBb6R3+fLlmLYdaWTTR/EVOVHs3LmTFcr19/evXr2avWWz2fjWjHv27EleYgEiQxAaufgs/s4774xpW4PBYLfb2b+rVq2iLbYff/xxPhfjC38g6WRPLQqH/pNV7LW1tdF7CIfDwXc12717N9pkQzqkqxkepNywDRMSXD8c35JNFMWmpib+q6V8QiMe3zhYrcmNsoLsasf6CfL3EIIgdHR08HuzWq0pSjaADJ6EIH58uymv17tq1Sr2r9lsVndM7tzm8/lqamrYv8pbwDPr1q3jK/YWLlzI3tLr9c8880xS0gkwLAQhiF9RUZGsCySlZHAEiBttAc+KPUVRjGM6O1nFHg+DI0A6IQhBQmRdIClUJ6ROMBg0mUx8P564p70wGAzh9xBxPFQBJAJBaOTKz89nr/mOq7GSzaVmNpvVnRJCieztJ7Rx40Z+SLfOzk5+yrtYrVixgv9XEATMEQ5phiA0cvHdQvmOqzEJBoObNm3il7S1tYV3gVTu008/Za8TyV5zks1m4/tgtba2JtiTdOPGjfy//f39mdMPF0YIBCFIyAsvvBA+3PXy5cvjHvb/3Llz7PXUqVPjT1nOCY9ACTb9kHUrphSOjw6QLAhCIxffQfXo0aNx7MHlctXV1YUvlySJ7wIZkzNnzrDX/OgJIxmtB+IDRlNTU4IRyO/3892KeYsXL8bUQZA2CEIj1913381ex5HpyAZHkPUTamtrczqdcaTK7/ez19GnOEpEVVVVIj0b0jmqNI1AfDdSu92e+Gg6ssERWltb+fHRZcV0ACmUrA5HoLo4Op8m8k2QNYqj89Pw45IJgiBJUqy75feJ+YQCgYBslo34ugDLyBrFNTU1hcJ6v3Z0dCR+IIBhIQjljjiCEJ/BxdTlXpZh0VwsFAoFAgF+LgZRFGM6hZ6eHratXq+Padvc09PTw55OkhiB+ItMCDGbzeytxO8hAGKF4rgRrbi4mL1WPnmPrLs+P9ayrAuk1+uNqbUVP4udwnn2cpXT6Zw3bx5fYtbR0ZH4IBTBYJCfzk7WrVg2tik/Nh1AiiAIjWilpaXsdWdnp8KtKioqooy1LOsCWV1drbzFNj8/27x58xRulXtqa2uXLVvGX+TOzs6k9L6StWZ8/fXX+W7FWq329ddfZ/+63W602IaUU/tRDJImjuK4QCDANhEEQckm/MCXUQ7EJ0av1yus3eFLn2gl00gTCARklW2iKCarbkw2Sml9fX3E1WQ1RiPzg4C0QRDKHfGNis2Xeg1bF80PcU0IsdvtQ60pSRIfUfiKh6GgQkh20eIWceeBQIDfefTqOv5bofweAiAOKI4b6fgagoMHD0ZZMxgMPvzww+zf6ONm6nQ62aQ1w7bY3rt3L3vN15CPHOfPn2dFcEknm+op+ohzbW1taLENaaJ2FISkie9JiA2FSYYrkZM1nVJSSmO1WvlNore2Qlmc7EEziT/qOKZ6am1t5TdBi21IEQSh3BH3JHX8hkNlT/FNWCfr5hJlkjo+yxuZZXGhlAUhWZts5RPWye4hUCgHqaAJfbN7IIxATqdz2bJl9LXRaDx06FD608APCtDU1JT4iAAAkBUQhIAQQgoKCliFgSRJaR6+2u/3sy6ugiD09vZiOiKAEQINE4AQQjZs2MBeb9++Pc1H549otVoRgQBGDjwJASGEBIPB6dOnq/IwxD8GpfnQAKA6PAkBIYRotVq1Hob4Y9ntdkQggBEFT0JwiyoPQ6gNAhjhEIQAAEA1KI4DAADVIAgBAIBqEIQAAEA1CEJZ7LqrngxcVzsVAADxQxDKToM3v9z70xvH/mnwamD4lQEAMhWCUPYJfXXt//2fVQMfvkkICX1xQe3kAADEb7TaCYDYhH4f+H//tHrws5O3/r2WqulnAADSAEEomwxePP3lq2sGL55mS0J/uKxiegAAEoTiuGyiuX3s6O88pLlzEluS4cVxg/2f0WJDAICIEISyiebOSbfNt42aOpsQkifcTfJGhX6f0Q0Tbva+c/3ApsHgObUTAgAZCsVxWSb05dWBT44SQu74+19pRo0evOhXO0XR3PzNv4a+uvalc93Yyj1k9O1qJwcAMg6ehLLMQM8bZOD6KP3384S7NXdOGqX/vtopGtrA9Zunuwkhg//x79dff0bt1ABAJkIQyjI3utsJIWMe/Fu1EzK8m2dPhL66Rl/fOHHgxokD6qYHADIQglA2ufk73+CFXs1YYfR989VOy/AGet/h//3qYN3ghV61EgMAmQl1Qtlk4P1/JoSMnv03WVG/cvM3/6q5bWxo8CYZuD5m7t+NnjFfM/5P1U4UAGQWPAlljdBX12hz5zEPLlY7LYrc8diOb/3s+JgHFhFC8u4qHDWtWHPHOLUTBZFdP7Q9w5v7Q65CEMoaAz0HQ19dGzWtOG/iNLXToghNZ95dhYSQwf/8jdrJgWhu9r5zbccjN479Exm8qXZaYGRBEMoaN97fR7LnMYjJ+7P/SggZ/I9/VzshEI1mbH7oy6vXXfXXmh9jg0IBpAGCUHYY/I9/H/zspOaOcaNnLVA7LbG5FYTQJCGzacbfGoZj8LOT15ofu36wLvTlVXWTBCMEglB2uEGbJDzwo6xoksDT3DFOc+ek0JdXMW5CJtPccafaSYARCkEoGwxcH+h5gxAypnip2kmJxyj6MPQ5HoYyl2ZsPns9ZvYjty+yoxUJpAeCUBa48eGboS+vjvp2Ud6k6WqnJR402YP/gbYJmUtz5yTNbWPHGJaTvFE3ThzgR2oHSCkEoSxwq3tQdj4GEULy7r6PIAhltlHfvn/sP75xu+mpMXPMZPDm9QOb1E4RjBQIQplu8OLpm2dPaG4bO3pWmdppiVPeXdMJIYP/iQZymStv0nQ6Rchtf/0TzZ9MuHn2xEDPQbUTBSMCglCmoy2zRz+wSHPbWLXTEqe8idM0t40d7P8MDa4yn+aOcbebniKEXHfV4/OCNEAQymwD1wdO/AvJwu5BMpqJ0wgaameJ0Q8sGqX/fuha/1eHX1Q7LZD7EIQy2sAnR0PX+vPunpl390y105KQUXfPJISgF2S2uH2RneSNuuHdd/N3PrXTAjkOQSij3fggFx6DCBu85/M+tRMCiuRNnHZbaQUZvHn9YB0G8oGUQhDKXIP9n93s9WhuGzv6gUVqpyVRdNyEmxi8J3vc9oOVecLdg5+dvHG8Te20QC5DEMpcA93thJDRs8qyt0kCc6ur0IU+3FZnjdG337bITgj56v/+IvT7gNqpgZyFIJSpBm/SqUizt3sQT3PHuDzhbjJwffCiX+20gFKj/+KvRs/4YejLq9cPbVc7LZCzEIQy1ECvJ/T7QN6k6aO+XaR2WpIj70/pSKaoFsomt5VXaW4bO9Bz8Kb0b2qnBXITglCGGji+l2TtYHER5U0qJITcPI8GctkkT7h7zA9WEkLQQgFSBEEoE4W+uDDQ6yGjbx/9wI/UTkvS3Bq8B09C2eY2w3/Lmzht8OLpr95+Se20QA5CEMpEN7z7yODNMfc/lEsjGd8avAddhbJO3qjbH9lMCPnqrV2D/Z+pnRrINQhCmWjgg38hhIz+7t+onZBkytNO0dw2NnStP3StX+20QGxG3Tt79AOLyMD1rw7WqZ0WyDUIQhnnZq9nsP+zvInTRk0rVjstSXaroTYehrLQ7eXVmjvGDfzmXwdO/VrttEBOQRDKODe8/0xyYpSEcHTwIVQLZSPNWOG2srWEkK9cjtBX19RODuQOBKHMEvp9YODUr8no20fPzqmyOCpvwlSCBnJZa4y4eNS3iwb7P7vx1i610wK5A0Eoswz0HCSDN0ffN18zVlA7LcmHJ6HsljeKDmz6led/Y+pVSBYEocxCZw8a8+Dfqp2QlLhVJ3TRTwauq50WiEfe3TMx9SokF4JQBrl5unvw4uk84e5R+u+rnZaU0Nw2Nk87hQzexMNQ9sLUq5BcCEIZ5Eb3XpIrg8UNhQ7eg+G0sxemXoXkQhDKFKEvrw58cpTkjRoz+xG105JCeX/2FwQTC2U5TL0KSYQglCkGet4gA9dHz/ih5k8mqJ2WFKIjyKGrULbD1KuQLAhCmWLw/CeEkDFibjZJYGhxHOanyXZs6tWBk0fUTgtkN00oFFI7DXDL4GcnaSPm3Ba61p+TDdBHnIHrA72e0TN+qHY6ILshCAEAgGpQHAcAAKpBEAIAANUgCAEAgGoQhAAAQDUIQgAAoBoEIQAAUA2CEAAAqAZBCOLn8Xg0UZlMJraax+MZdlfR10k6n89nMpl8vj8OPFNbW1tbW5vONACMcGkKQi6Xq7CwkOVKETkcDo1Gk9zjajQah8OR3H0CYzAYQpz6+npCCL/k0KFDMe3KYDDEl5L4YtjVq1fdbvfVq38cCvr9999///3340tD7qE/ySiU/7hMJpPT6WT/Op3OKFlBzjCZTOqeZioy1aRLRxDy+/0LFy5cuXJl9FypqqoqkeEbsuJyA2QR+pNkjEaj0Wjkl1RVVSncldvtPnfuHPv33Llzbrc7NanONcojWZbec6cjCB05coQQovz7CgAAI0Q6gtCVK1fScBTIcM8++2xxcTEtxiksLJTdssnK04LBoM1mKygo4OuWhqLRaEpKSgghJSUlspU9Ho/JZKI7KS4u5kuElHC5XHyao2zu8/k0Go3L5ZJtLjsph8NBy6UjpifiPa/qRToAKZXaIERzlurqakLIsLmJrDxNeTYUfhQ+g2tvb2fZUEFBgc1mCwaD/ObBYLC2tpZmDXQFv98f/bx8Pl9tbS3bLU2erEJCVmkfnuP4fD6bzcbyOI1GY7FYHA6HyWRiZ11cXCzL1wghfr/fYrHQdWhuLjujzKTT6V588UVajNPS0rJt27YoRQePP/54d3e31+sNhUKBQGD58uVR9hwKhbq6ugghXV1dfJGvx+MpKSn58Y9/HAgEQqFQRUXFsmXLlJdXeDyehQsXVlRU0DTv27fvnnvuGWrloqIivV7/yiuv8AsPHjyo1+tZRZfJZGpvb29paaE73Lx5s81ms9lsCtOTyRL8TsZ0z2GxWIqLi2ULi4uL+a2cTqfsjodPT8Si+2HL8+ktBd+MhS7hf9fBYFCj0TQ3N7MlfX19/C/aYrHweyCE8NmILP+hSXK73W63m64wVK0n3QkhpLq6mq7Jv2uxWPhbn/AsJcF7tUSFUi+8vlrJakajURRFSZJCoVAgEGhtbY3jKIQQo9HY0dFBsyFJkkRRlJVr0wP19PSwFQRBoOtHPxbbbSAQaGpqIl9nghG1trYKglBfXy/bCdtEkiSr1UoIqa+vp2cdCoXCdxsIBARBsFqtdJ2uri5BEGRnpJahPmg+QjBNTU2CIAy1Dr0Oyg8d8RCiKFqtVlkK+Q83fCu+2kPh95Y/I0II2zn9pNhZtLa2EkLYJ8sngH73QpEqXYZaqIqhUqLkOyn7QBP5sdMryS5aKBSSJIkQwray2+2CILB/e3p6RFEURZF9NBE/WSUftyAIdrud/Wu32wkhZrNZljb2KRuNRr1e39rayk7NarVGyV4kSTKbzbIVlH8Bwn819KSamprY5QrPUuiXsKmpiR6UrhDTry9BmRuEYr0QQwUh2U56enr4b3BHR4csa5DlHcqPZTQa+a9jOPrbiLKTQCDA/5Yi7tZut+v1en6FiPmvKmIKQrL8V7aOXq8XRVH5SYUfIuLFlOVW0YMQzVDq6+uj35EMtXNZfmS1WkVRDN+K/4pmaRBS8p2MHoRi/bHLggF/byH7FCj6o25qaop49CgLZaxWK3+mer1eEAR+K7PZzNe38zUAAB0gSURBVH/KEa8Yn5Jw9HvLr5B4EJKtZjab+Sxl2Hu1VMvcfkJ6vb69vT3pHUeKiooIIe+++y7995133tHr9Tqdjq2g1WotFsuuXbvi2Pnly5ejvPvQQw/19/dHOSOtVksI4RsRhe/28OHDZWVl/LsGg0Gv17/66qtxJFh1fPNo3r59+yRJKikpKSwsrK2tHbaANNypU6cIIbICNPpBh1/hiCwWi9Vqra6unjBhgsViGbaMQqfTiaJ44MAB+u+BAwdEUWRfLb/fTz9fGaPRqCQxmSzx72SsP3aLxdLW1sb+3bVrl8VioZf3+PHjhJAFCxbw62u12jlz5uzfv1/h/oeyaNEiSZJoeZrP55MkaevWrYQQWsAVDAbb2toqKiqi72TOnDmdnZ1DvavVao1GY+JJjWL27NmHDx+mr4PBoNfrLS0t5VdYsmRJf38/bVCWBpkbhBLPhqJgbSXef//9wsJC2btTp06l91MJam5u5qt8aOV5grxe79SpU2ULCwsLk3t9VFdUVNTb29va2lpWVtbY2CiKoqwkXSHaVIEX0+YNDQ09PT20gHTZsmXD1t+sX7++ra0tGAzS/Gj9+vUxHS4/Pz+m9TNE4t/JWH/s4cFg0aJF9C16hxEe7+fPn68wMVGUl5cLgrB3715CyLvvvisIQmVlpV6vP3jwIPm6GbAs/kXE31bSumFWaUQrgRJPanT9/f30ReL3aonL3CCUrGxoWKzSj6FtHBJks9lqamo2b97MnjppGUXiWN1jOr+16UcfSRsaGrxeLyGE3nIqN27cODJEKWVMvQWKioqqqqq6u7vtdntjY2P0LyHNgI4cORKeH+l0uoh19fxnN3v27KxoYxIuwe9krD/28vJyvV5Pg8HevXv1en15ebnyw40fP175yjLsIWz//v30+c9sNtMHC9mzrxI+n2/evHmEENoGh0r/w3GC92oJytwgRBLOhpTIz88fqrw1wT03NjY2NDTE9NtQYqj6KuVjE2QdnU43Z86c6EWd4YqKigRBePPNN5OVjIceeogMXX5IabVas9n8/PPPt7S0WK1W/n68tLTU6/XK7vFpARTLdKZMmeL1emVxqK+v78c//nGyziIVkvKdjPXHbjabaTBoa2szm81s+ZQpUwgh4bH86NGj7PXMmTMjrqMEfQjzeDxut/uRRx4hhDz66KN0iZKyOBm3211QUNDQ0BBT6EqiZN2rJSKjgxATXzakxLx589xud3puP7/44gvy9acet7Kysvb29iSlKHOZTCbWkNTj8Rw/fvzBBx+Msv6MGTMEQTh58iThMpeGhoa6urrm5ma2xOPxKG8S3dzc7HA4aNgIBoOvvvqqIAiTJ0+OvtWTTz7p9XrdbjcrIKIsFosoimazmdV8uFyuhx9+2Gq10npKts7q1avpQf1+v81mu3Tp0pIlSxSmWRXJ/U4q/LHTrL+2tlaSpBUrVrDlc+bMIV+XjDHBYPD48eMsltMP8b333uPXOXPmDB/MhkJvK9euXUu+ftKltzu0F4GSsrhhBYPBtBXMJv1eLQ6ZG4RizYbmzp1LCKFP8cqDypIlS0RR5Eex9Pv9Tqcz8ZbyZrP56aefZjmOz+fbtGmT0WhkOU58ampqJEniOxP4fD6Hw5Giskq16HS6NWvW0JKB5cuXb9iwYcuWLVHW12q1u3fvfu655zQazerVq+lCi8XS1dXV2dk5YcIEuiuadyg0c+bMo0eP6vV6jUYzYcKES5cudXZ2DnvHSqsNBEEIfwg+dOjQ0qVLly9fThOzadOmhoaGhoYG2ToFBQWiKGo0GlEUCSFerzdii4bMkfh3MtYfOyGkqKhIFMW6ujpZCZhOp7Pb7Tabjf2E6TC1er2exXK6zqZNm+jPMxgMNjc3NzY2/sM//IOS1JrNZq/XazQa2edisVho745YH2iMRiMNpTTLoinxer18SubPn9/X18dWiL63EydODLuaTIL3akkwbPu5xMXXRJu2hqSJ1Ov1Slpw0paFhGvgSCI1/ZQtDAQC9fX17Fi0i0P0xsFDNdHmS/bobmk+QggRRVHW2Fdhm/LwBpq0RxE9U3pxzGazrAMKqEgURb4Bcc6I0lZ42O8kidpEO44fe+jrHi0Rmzu3traynx7dYXiDY/5XbzablfcHoI3v+ePSnh7hKVHS5r6rq4v2DaKZT3hKaO8imk6+d1S4np4eWrTLuoIobIxO08CCQnij7ZTShBKu/AAAhg7TIEmSWqX8I4fL5Vq4cGEgEMjwJ0WIDkEIIDmCweCVK1fMZrNer0/3wCcjkslk0ul0svJMyDqZWycEkF0ef/xxvV5fXFy8c+dOtdOSy2jVRXNzs9vtrqysVDs5kKjRaicAIEfkcCv5jHLq1KmSkhK9Xt/R0ZFgMx/IBCiOAwAA1aA4DgAAVIMgBAAAqkEQAgAA1SAIAQCAahCEIB3oZOdJnx0qiUwmU/RZpWOV+acMkAkQhCD5kp6hUynN1g8dOpRIG+sUnXIuCQaDNpuNjpunbmx2OBxpnq0AolAhCMX9XUz1raXD4aBTSzkcjhQdQmEy8AuB3LNx48bDhw/TAeUMBkN6Dhox06iqqlKxa4rqOUymUSEIKfwupvnW0ul0VldXv/7666E0TqSRgb8QgBRxOp0rV67EkHogo0IQyszv4oEDB4xGY9pu0HIVfYxzu91svlo+xD777LNsvvPCwkLZ/SANyUxxcTE/AhubH53OAhnlBsVkMhUWFvKj2dNURX+Glt30+Hw+i8VCU1JQUFBbW5uKUyaE+P1+i8VCH8HpClk6ueqw2JTSAN+QtvG6GRJpeoVw4aOg0+mxlY+4HpMow9SnTkrPSEVDfXZWq5WdbFdX11AzclKtra2yFRReLkmSBEFgkyn09PQQQoadW4FPcyAQEATBarXS8f8lSero6FC+OZ/a6KfMDkQLBugK6f8eplr4fNVdXV0RP03ZQjofitFoZJNEiKIYPmOCbDYWNhuC7KDswkafy4D/RGJKRkSySS7oBBNRppIRRbG1tVW2k66uLnYNw1fo6enhE59104gkOQjJrrhsboyI38XwndCvSPhq9AtqNBplM4XINo/+gSk5XH19/Qj5haSIwhuIpqYmNvFJRHa7nV9Becym87vQNekXJqY0x3FzEN8p2+12vV4/7Fa5QZb5KvmJ0X/r6+vZF76joyP83kUURVEU2VYdHR1shYhHkf3E6LeFzTnEMjE2eY/CZISj90PsBxsIBNixoiSebiK7Jk1NTTR5dBYltoc4bpgyTTKDEL3ibDKrQCBAr5csDJDEnoSi31pG/8CUH24k/EJSR2GOTBdGmacr4gVXmEHTKRXoxYw+FVh4miVJorcLyqcKjO+UI84eptfr0zmlWNrEHYTCfyB8IKdTzA31SSn5iUW84Eaj0Ww2K09GRHSyPtlC/jpETPywXxJ6aJoh5MBdSzLrhLZv315QUOB0Oml9j1arraysrK+vT+5MsY899hiruTEYDFu3bt22bRt7d+3atVartbKyks5zRROwbdu21JWzz507l9VvlZeXb9iwgU+P0+n0er1tbW0szeXl5TE1fFizZo3Vaq2qqqJnRCdQmTNnztatW5UnI5NdvXqVvW5ubmY1KKwSKD50PoXq6uqmpqZYx1rW6XStra1tbW10agZ+5uOkYKfs9XqnTp0qe7ewsJDNkw0R8dVLtDY37jpmv98vSdKiRYtky+fPn9/W1qY8GREdPnx45cqVUVZ4++23wycFp3mF2+0mhASDQa/XW1payq+wZMmS/v7+I0eOEEImT55MCPnlL3+Zvd+ZZAahw4cP83PEUnPnzu3v709du+qZM2f29/fT2eyH/cDSI1t+IZnGZrPV1NRs3ryZ3SLRu7y4Xbp0Ke5tLRaLJElNTU16vX7VqlUmkylF9zHV1dWab6K5Dyh0+fLlRDY/f/48IeTOO++ULZ87d24iu6XoI3UUfr8/4rSwrELh1KlThJB77rmHf5fmJ+fOnSOpv2FKg2QGIUmSxo8fL1uYnvZm9NZy2A8s/TL5F5JpGhsbGxoaysvLk7K31atXFxQU1NfXr1q1it6jxEqn01VWVjqdzo6ODq/X+9prryUlYbyhSk1HwtRE48aNUzsJWYO2COXx76bthilFcnDEhOgfmEL4hWSCL774gsT1WTQ3N7e1tbW0tFRVVRmNxoqKikR+ljQuXrlyJe49DKWsrKy9vT3pu80KtIyUfsSJyM/PT2RzWpwVnoxjx44lsltKFMXoXxudThfxm8mehumXP2KVD1+qn4YbptRJZhDS6/XhVzyd43Mo/MCUGAm/kNSZP39+X18f/XUpz/3NZvPTTz/NvjA+n2/Tpk1Go5HV6MyYMUMQhJMnT0bfrc/nq6mpsdvt9Cm8oaFBkqQXXnhBefo9Ho/NZmPPT83NzYSQWbNmRdkkvlOuqamRJMlms7ECfZ/P53A44nt0yzp6vf6dd97hl3z66aeCIMRUfPLII4+43e64a0R0Op1erz948KBs+dGjR8MrF2JVVlYWsdiclRiVlpZ6vV5Z4ulPgJbIFRUVCYLw5ptvKjxi6m6YUieZQSjiFT927Fis36q4xfqBRZfzv5DUWbFiRVlZ2YQJEzQazaeffqpwq507d65cuXLt2rX0+bWiomLp0qV79uxhK2i12t27dz/33HMajWb16tVD7aeioqKgoGDdunX0X51Ot3Xr1rq6OpfLpTAlkydPvnTp0rx582hKXnrppY6OjujlhPGdclFRkdfrJYSIokiPtXjx4hMnToyQB/EdO3Y0NjayLskul8tms23YsCGmnVgsFlEUzWYzu31xuVysU7CSGxeaDNZN2O/322y248eP19TUxHdezLp16y5dusRuMuieBUFYsGBBlMQ//PDDVquV3Xs1NDTU1dXxlT30Jol/HdMNU8ZJYku75DbRpn1raDPEKI0RZQtpk0fWRJuuoKTBa3gTW9rQmSU+vN2zktafoahNtGkbf9qnhyU4vibawyYDQF0Rf/gdHR2s2194rz6F3+2huuKxQ9C3WJPrWLviJfIT47tO0uxR1mFAYWdV/qaTb7QtSZLZbOb7CI7ofkKh4Tqr3jqksiAUCASsVivdD/3YlAShUNQPLIqIIybk/C8EAEBdmhDGygQAAJXkYOs4AADIFghCAACgGgQhAABQDYIQAACoBkEIAABUgyAEAACqQRACAADVIAhBlvF4PBqNJp1jEo4QTqezoKBAlQGYfT5fYWGhRqNhw+1ARA6HI5F5g5xOZwb+cBCEIMsYDIZQKJSe0QhlHA5HfIOyZ4Xnn3/earVGnN6GcjgcJpNpqHfpzUF8h168ePHKlStDsQ80nLjsuqGprq6m07vEp6WlhR/7OEPOHUEIAIjP5/N6vStWrGBLooeccPTmIL5DS5LEHzp1wrNdtW5okiLBKJIh544gBADE7XaHzzOdHnRGyihPYJDbEIQgy8jqhILBIL1nLygooLMh0EmOZVsFg0GbzcbWsVgs/Jw9EeuZ+IX0dXV1NSGE7iHHai+OHj1aVlbG/qUn63a76cmyK9PX12cymejCwsJC/jrLiuNcLldxcTFd02QyDVWTYTKZSkpKyDevavhnYTKZ2AX3+Xw2m43WIdFkhH8Wzc3NdIWCggKbzUa/JDR5dNJL9pAnOxaf7OLiYn7PSo4r4/F4LBYL24TukP+uWiwWvhKOP01qqOfRoU7H7/dbLBa6/2FTKDt3j8fDnzv/ls/ns1gs7C3ls6IogSAE2e3UqVPV1dXz58/3er10UN7NmzfX1NTIfn4mk+nSpUt0nUAgoNfr582bp3zuOFrWxI9Nnv7ai5Ryu93f+c532L/0ZNm48nyhzZo1a+jClpaWmpoaNhsQz+/3L1y4sKKigq65Zs2aoY576NAhOgy88qvqdru7u7v37dvHkrFt2zY+HNbW1tbU1LS0tIRCod7e3tLS0tdee62qqoqWFtLx5iNOoO5yuZ544on169fTPb/44ovt7e21tbUKjxvu2LFjkiQdPnyYblJRUcF/VwOBQEFBQUxlnsxQp1NWVlZQUNDb20tTyKc/Oo/HU1JSwj6yioqKkpISFocWL15cUFBAZ5N56aWX7rzzzjjSPBQEIcgFc+fOZUVJ5eXlGzZs2LZtG3vX4/F4vd6dO3fSdbRa7ZYtW+bMmRM9Bxlp7rnnnmHXKSwsZJP7GQwGq9Xa0tISvhqtPK+srKT/lpeXJ7egT6vVsjnfDAbDhg0b9u/fT/8NBoN1dXW7d++mgVOr1VosFpaS6NasWbNhwwaLxcL2/OKLL9bV1bHHuCjHjZJUdu6VlZV03hb2PXzqqae8Xm+yJtKltWsNDQ20bNNgMGzevLmurk5Ji8dXX33VbDazC1VZWWm1Wn/5y1/SfyVJeuyxx+hui4qKkluThCAEuam/v5+9phNrymod5s+f39jYmO5k5Zbx48e73e7w5ZMnTxYEwWQyOZ3ONLf5fu+998jXs1zHSpKkuXPn8ktobptIgzSZwsJC/l8ajWitWOLC90Ovw6lTp4bd1u/3z549m19SWlrKZsoWRXH58uXNzc2JNBAfCoIQ5L4rV66EL5RlN5BEOp2us7MzPz/fZrNNmDCB1sqk59Aff/wxm0ASlAsGg9XV1RrOsmXL2LuHDh0qKyt77rnn9Hq9yWRK1qMbhSAEQMaNG6d2EtT36aefJnFvRUVFTqfz0qVLra2tTqfz5ZdfTuLOIem0Wm3ECa/Zuw0NDX19fV1dXTRcJfHQCEIwQtEyOooW9H/xxRfqJUdlRqPxo48+SsWeLRbLhg0bjh49qnwTURT5T4cQ0tfXN2XKFCXbGo1GSZLiKzXS6/V8X05CCK2Znzx5chx7i8ODDz544sQJfsmZM2cSqU5Tnn6dTtfe3j7sarSeLGIZbNwQhGCE2r9/v9FoZP/q9fp33nmHX+HTTz8VBCETevOlwfz58w8fPswvmTJlyvHjx2kxWqyFaT6fj9UG+f3+9vb2mHLS9evX19TU0Aw0GAzS9l0LFixQsm1RUZHRaDSbzRGLjFiYiXhGO3bs2LZtG2vv5/F41q5da7fb09Z9asWKFW1tbay9jNPpbGxsjNKqIuLpsPbTPp9PefqfeuopSZIcDgf7xF0uF9sVGy4oGAy++uqryS3wRBCCkYJli7TXiNvtfvrpp9m7O3bsaGxsZBmQy+Wy2WwbNmzg90CrkWjupsoYa6ljNBq9Xi//AGGxWKxW64QJEzQaTawldePGjTtw4ADdVhTF4uLiZ555RvnmFotl69aty5cv12g0EyZMoK2clfdm3bNnz9KlSxcvXsyqN1h7/X379u3atUuj0axevTp8w/Ly8t27dz///PN0q7Vr1y5dunTLli3KU54gnU7X1dX10ksv0QQ8//zzXV1drD1euIins2nTJrr54sWLlaefVuOdOHGCfmoTJkzYsWMHa4p95swZURTp8kuXLu3bty/BM/2G8EJAgExGu5XQ7hHh/1J8hx72L3vuEQTBbDb39PTI9tzR0SGKIl1HFMXW1tbwo9fX1wuCQAhpampK9pmpTBRFu92udiogfnyPqyyiCcU13BNAFnE4HNXV1fiqR+d0Om02W29vL0bQyVK0w2nWfc8RhAAAckGWBiHUCQEAgGrwJAQAAKrBkxAAAKgGQQgAAFSDIAQAAKpBEAIAiBMbSiCdPB5PevpK04kKU32CCEIAMIyh5veMW/jcqVmquro6iRM9KFRSUqJkdgYlXC4Xmyo3fMZhg8EgimKqB59FEAKAb0h6yAkX+uZsrSmVMwEvFQ4ePLh8+XI6ZaokSXTGYf7RZ/369amedgtBCABghGpoaLBYLHSMDJ1Ot2XLFr1ef+TIEbbCnDlz+vv7UxrFEYQA4I80Gk11dbXb7ablMyz36evrY+U2hYWFspnRPR5PcXExfbe4uHjYPIvfs8/ns9lshYWFbOdsvFHK7/dbLJaCgoKI74Y/6JhMJrqOw+HQaDSEkJKSEo1GM9TjncVisdls/BKXy8XqQuhO+LQNVR9Da1CinCkhpLm5mZ2pxWLhnzlcLhe7hiaTKXpNzNq1a+maBQUF/JyBtbW1sslb6bkor0PSarX8JJA6nS58hovkQhACgD8KhUL19fVGo5EOLskXmq1Zs4YubGlpqamp4ac8KCkpqaiooO9WVFSUlJQov3d2u93d3d379u1jO9+2bRsf5MrKygoKCnp7e+m77e3tdHKHYVVVVdHO+HR820OHDkVc7ZFHHpFNQ37w4EGz2UxnQKA7YWnbtWvXxo0bFZ6ajMPhqKmpaWlpCYVCgUCgoKBAFEU24cXChQvZNVyzZk30XS1dupSWoXm9XkIIi6+PPvqoJEl8vc4rr7xiNpsVjgcYDAbdbrds6iZRFGWzHCVZyoZGBYCsxAehoZbY7Xa2xGq1ms1m/t3wJTKEG/g8+uF6enpk2VRHRwchhGbBsl1RRqORnyQ0fIVwgiCwQdMDgQAhpKOjI+Kara2tQx094iDW/Ap6vV42+DpbEtMA2LIzCgQCfPr50dDpuUQcDz4iOkg8Ozu2UPYBJReehAAgZuPHj2fTa/r9/tmzZ/PvlpaWtrW1JeVAV69elS0pLy8nhCSreRhlsVhaWlro6yNHjgiCQI8S7p577on76JIkzZw5k19SVla2f/9+QsjkyZMFQTCZTLJnMiW0Wu2cOXPOnTtH/62oqGAXn56LxWJRsh+fz7dt27atW7emeRh1BCEASEgwGKyurtZwli1bpnaiYlNZWel2u2k1TEtLi9VqZW/RKitaI6XRaEpKSuI7BA0ttHaKYQ3P6Jxy+fn5NpttwoQJfDVPrBYsWMBK5A4cOKAwAgWDwYqKirKysigTuaYIghAAJESr1fLFX4za6YpBUVGRKIpHjhzx+/1ut3vFihV0eTAYnDdvHiGE1kiFvi43iwN9vAgvGGQ1VUVFRU6n89KlS62trU6nM+7eOTqdThTFvXv3BoPBtra2RYsWDbtJMBiktUo7d+4Mf/fEiRP5+fnxJUYJBCEASIhOp2tvb0/b4WiTh8mTJ9N/RVE8efIkv0JfX5+sal2JioqK55577rXXXhNFkTZJIIScOnWqv7+/oaFBVkI1bty48D3MmDGDfD37O0UfrVhS9Xr9m2++OWxKLBbLhg0bjh49qjDltDXBrFmz2JL169e3tbUdOXJEr9cPVa7Ib04j0KFDhyIWxEmSJCtuTS4EIQD4hilTphw/fpwWBykpFHrqqackSWJtl4PBoMvlcrlcSUwS25vP51u7dq3dbmdxYv369TU1NTQyBYNB2nBuwYIFbFvWwjj6uSxZskSSpG3btq1fv54tnDFjhiAItbW17NReffVVvV5fVFQUvgetVmu1WisqKmjs8fv9NpuNtbIjhOzYsaOxsZG1KvT7/U6nkwYtn8/HaoP8fn97ezvbKpzVal27di07yurVq0VR5IMNLZF7+umnzWZzlFOmx/3e975Hho5AwWDQ6/XOnTs3+n4Skro2DwCQpex2O80fenp6QkM0YONzj56eHj6/MxqN0RukEcWt42jxlyiKdM96vT686K+pqUmv19MVzGazJEn8uz09PfTd6A32QqEQPQVZ2zB6aoIgEEIEQbBarfz+SVhDNbvdzla22+2yvXV0dLBzEQSBpVaSJHYB6VFkG/ICgYDVauWTFL4y3Rv9+KIwGo0R4wK7yE1NTYIgRN9JgjCpHQBkriydslp1Dodj165dfX19Ce6nsLDQbDZv2bIlKamKCMVxAAC5pr29/ac//WmCO/F4PJIksWYaKTI6pXsHAIA0czgckiQtWbIkwf0YDIY0PIMiCAEA5A6NRqPX6zs7O9Pc5zRuqBMCAADVoE4IAABUgyAEAACqQRACAADVIAgBAIBqEIQAAEA1CEIAAKAaBCEAAFANghAAAKgGQQgAAFSDIAQAAKpBEAIAANUgCAEAgGoQhAAAQDUIQgAAoBoEIQAAUA2CEAAAqAZBCAAAVPP/AZJg61Q5CFJeAAAAAElFTkSuQmCC)"
      ],
      "metadata": {
        "id": "uKo_bt2y9ago"
      }
    },
    {
      "cell_type": "markdown",
      "source": [
        "**ส่วนประกอบสำคัญ**\n",
        "- function name\n",
        "\n",
        "- input\n",
        "\n",
        "- process (ไม่มีไม่ได้)\n",
        "\n",
        "- output"
      ],
      "metadata": {
        "id": "zNtG1JjN-kxD"
      }
    },
    {
      "cell_type": "markdown",
      "source": [
        "## Example"
      ],
      "metadata": {
        "id": "ETP3o73K-wTe"
      }
    },
    {
      "cell_type": "code",
      "source": [
        "def find_min(list_ex):\n",
        "    min = 100000000\n",
        "    for x in list_ex:\n",
        "        if x < min:\n",
        "            min = x\n",
        "\n",
        "    return min"
      ],
      "metadata": {
        "id": "BlvF2pRu9bcb"
      },
      "execution_count": null,
      "outputs": []
    },
    {
      "cell_type": "code",
      "source": [
        "list_A = [1,5,9,-19,-2,0]\n",
        "XXX = find_min(list_A)\n",
        "print(XXX)"
      ],
      "metadata": {
        "id": "xxiDNyv2_P95",
        "outputId": "e443a0a1-4197-4d5f-fdda-57a3adc5dfec",
        "colab": {
          "base_uri": "https://localhost:8080/"
        }
      },
      "execution_count": null,
      "outputs": [
        {
          "output_type": "stream",
          "name": "stdout",
          "text": [
            "-19\n"
          ]
        }
      ]
    },
    {
      "cell_type": "code",
      "source": [
        "find_min([-9,99,0,-34])"
      ],
      "metadata": {
        "id": "WtZZCED8_XFP",
        "outputId": "796a992c-a09d-48c9-de8a-ca12f46e5082",
        "colab": {
          "base_uri": "https://localhost:8080/"
        }
      },
      "execution_count": null,
      "outputs": [
        {
          "output_type": "execute_result",
          "data": {
            "text/plain": [
              "-34"
            ]
          },
          "metadata": {},
          "execution_count": 69
        }
      ]
    },
    {
      "cell_type": "markdown",
      "source": [
        "#### Example 2\n",
        "Function ที่ไม่มี Output\n",
        "- ไม่มีตัวแปรเก็บค่า แต่ให้แสดงค่าออกมาเลย"
      ],
      "metadata": {
        "id": "lmwaI2yo_uSo"
      }
    },
    {
      "cell_type": "code",
      "source": [
        "def find_min2(list_ex): ## ไม่มีเก็บค่าในตัวแปร ให้ return\n",
        "    min = 100000000\n",
        "    for x in list_ex:\n",
        "        if x < min:\n",
        "            min = x\n",
        "    print(min)"
      ],
      "metadata": {
        "id": "SVZpXST5AD1Q"
      },
      "execution_count": null,
      "outputs": []
    },
    {
      "cell_type": "code",
      "source": [
        "find_min2(list_A)"
      ],
      "metadata": {
        "id": "88eGZ1A4AGLT",
        "outputId": "12709316-fc9e-44ba-9121-b2b2f5a53356",
        "colab": {
          "base_uri": "https://localhost:8080/"
        }
      },
      "execution_count": null,
      "outputs": [
        {
          "output_type": "stream",
          "name": "stdout",
          "text": [
            "-19\n"
          ]
        }
      ]
    },
    {
      "cell_type": "code",
      "source": [
        "YYY  = find_min2(list_A) ## ไม่เก็บค่า แต่ print ออกมาเลย"
      ],
      "metadata": {
        "id": "r4YAJvYCAKoj",
        "outputId": "8fda6749-e9b8-4c7a-ca61-91099a7ca509",
        "colab": {
          "base_uri": "https://localhost:8080/"
        }
      },
      "execution_count": null,
      "outputs": [
        {
          "output_type": "stream",
          "name": "stdout",
          "text": [
            "-19\n"
          ]
        }
      ]
    },
    {
      "cell_type": "code",
      "source": [
        "YYY"
      ],
      "metadata": {
        "id": "foj3CGHUAL9n"
      },
      "execution_count": null,
      "outputs": []
    },
    {
      "cell_type": "markdown",
      "source": [
        "#### Example 3\n",
        "Function แบบไม่มี Input\n"
      ],
      "metadata": {
        "id": "LaSCIaOuAO4Z"
      }
    },
    {
      "cell_type": "code",
      "source": [
        "def Pi_val():\n",
        "    return 3.1416"
      ],
      "metadata": {
        "id": "SDHW3Yy9AiJ1"
      },
      "execution_count": null,
      "outputs": []
    },
    {
      "cell_type": "code",
      "source": [
        "r = 10\n",
        "print(f'พื้นที่วงกลมที่มีเส้นผ่านศูนย์กลางเท่ากับ {r} คือ {Pi_val()*r*r}')"
      ],
      "metadata": {
        "id": "plbkPzmqAk7h",
        "outputId": "5dfa0079-0601-4611-a416-2f92d5851f72",
        "colab": {
          "base_uri": "https://localhost:8080/"
        }
      },
      "execution_count": null,
      "outputs": [
        {
          "output_type": "stream",
          "name": "stdout",
          "text": [
            "พื้นที่วงกลมที่มีเส้นผ่านศูนย์กลางเท่ากับ 10 คือ 314.16\n"
          ]
        }
      ]
    },
    {
      "cell_type": "markdown",
      "source": [
        "#### Example 4\n",
        "Function ที่มีแต่ Process อย่างเดียว"
      ],
      "metadata": {
        "id": "CxwxAKOmA97g"
      }
    },
    {
      "cell_type": "code",
      "source": [
        "def draw_rectangle():\n",
        "    print('======')\n",
        "    print('|    |')\n",
        "    print('======')"
      ],
      "metadata": {
        "id": "AtYRGM8bA-aw"
      },
      "execution_count": null,
      "outputs": []
    },
    {
      "cell_type": "code",
      "source": [
        "draw_rectangle()"
      ],
      "metadata": {
        "id": "eV-B_yv-BFM2",
        "outputId": "81f1a8b3-651b-4af9-a155-801f9881d7bd",
        "colab": {
          "base_uri": "https://localhost:8080/"
        }
      },
      "execution_count": null,
      "outputs": [
        {
          "output_type": "stream",
          "name": "stdout",
          "text": [
            "======\n",
            "|    |\n",
            "======\n"
          ]
        }
      ]
    },
    {
      "cell_type": "code",
      "source": [
        "def draw_hello():\n",
        "    print('============')\n",
        "    print('|  Hello  |')\n",
        "    print('============')"
      ],
      "metadata": {
        "id": "hbna384hBIzU"
      },
      "execution_count": null,
      "outputs": []
    },
    {
      "cell_type": "code",
      "source": [
        "draw_hello()"
      ],
      "metadata": {
        "id": "-ez75mLHBJkr",
        "outputId": "190adcef-5bad-4bca-8167-5c1aa99775f9",
        "colab": {
          "base_uri": "https://localhost:8080/"
        }
      },
      "execution_count": null,
      "outputs": [
        {
          "output_type": "stream",
          "name": "stdout",
          "text": [
            "============\n",
            "|  Hello  |\n",
            "============\n"
          ]
        }
      ]
    },
    {
      "cell_type": "markdown",
      "source": [
        "Function ที่ไม่มี Process จะ Run ไม่ได้"
      ],
      "metadata": {
        "id": "O-WGz6_JBTAS"
      }
    },
    {
      "cell_type": "code",
      "source": [
        "def draw_rectangle():"
      ],
      "metadata": {
        "id": "uoRb7XIcBTer",
        "outputId": "e609466b-8198-40ca-df36-5b19d5831f2a",
        "colab": {
          "base_uri": "https://localhost:8080/",
          "height": 140
        }
      },
      "execution_count": null,
      "outputs": [
        {
          "output_type": "error",
          "ename": "SyntaxError",
          "evalue": "ignored",
          "traceback": [
            "\u001b[0;36m  File \u001b[0;32m\"<ipython-input-80-96ff03789653>\"\u001b[0;36m, line \u001b[0;32m1\u001b[0m\n\u001b[0;31m    def draw_rectangle():\u001b[0m\n\u001b[0m                         ^\u001b[0m\n\u001b[0;31mSyntaxError\u001b[0m\u001b[0;31m:\u001b[0m incomplete input\n"
          ]
        }
      ]
    },
    {
      "cell_type": "markdown",
      "source": [
        "**ลักษณะของ input(หรือ paremeter, หรือ argument)**\n",
        "\n",
        "- จำเป็นต้องใส่ (non-default argument)\n",
        "\n",
        "- ไม่จำเป็นต้องใส่ (default argument) มี default อยู่แล้ว"
      ],
      "metadata": {
        "id": "4P4SQiZ6Bv0W"
      }
    },
    {
      "cell_type": "code",
      "source": [
        "def draw_rectangle(dbbound=True): ## ค่า default คือ True เป็น input ที่ใส่ หรือไม่่ใส่ก็ได้\n",
        "    if dbbound:\n",
        "        print('========')\n",
        "        print('||    ||')\n",
        "        print('========')\n",
        "    else:\n",
        "        print('________')\n",
        "        print('|      |')\n",
        "        print('--------')"
      ],
      "metadata": {
        "id": "o0GCXJXyByJ-"
      },
      "execution_count": null,
      "outputs": []
    },
    {
      "cell_type": "code",
      "source": [
        "draw_rectangle()"
      ],
      "metadata": {
        "id": "oyfcRZY9Ci-k",
        "outputId": "e4ab9989-667f-4fb3-f4ce-4b1269a37a84",
        "colab": {
          "base_uri": "https://localhost:8080/"
        }
      },
      "execution_count": null,
      "outputs": [
        {
          "output_type": "stream",
          "name": "stdout",
          "text": [
            "========\n",
            "||    ||\n",
            "========\n"
          ]
        }
      ]
    },
    {
      "cell_type": "code",
      "source": [
        "draw_rectangle(True)"
      ],
      "metadata": {
        "id": "cuCjcknfClAe",
        "outputId": "c9be03de-c75b-459d-8028-b9ff29994e90",
        "colab": {
          "base_uri": "https://localhost:8080/"
        }
      },
      "execution_count": null,
      "outputs": [
        {
          "output_type": "stream",
          "name": "stdout",
          "text": [
            "========\n",
            "||    ||\n",
            "========\n"
          ]
        }
      ]
    },
    {
      "cell_type": "code",
      "source": [
        "draw_rectangle(False)"
      ],
      "metadata": {
        "id": "9vzQ6S4ZCm_v",
        "outputId": "dd5d68c5-d2b5-4e84-8ae5-5397fcec33a6",
        "colab": {
          "base_uri": "https://localhost:8080/"
        }
      },
      "execution_count": null,
      "outputs": [
        {
          "output_type": "stream",
          "name": "stdout",
          "text": [
            "________\n",
            "|      |\n",
            "--------\n"
          ]
        }
      ]
    },
    {
      "cell_type": "markdown",
      "source": [
        " ไม่มี input ที่เป็นค่า default"
      ],
      "metadata": {
        "id": "rKcPOGVQDKhA"
      }
    },
    {
      "cell_type": "code",
      "source": [
        "find_min2() ## ไม่มี input ที่เป็นค่า default"
      ],
      "metadata": {
        "id": "BuyV6Qk9DK-g",
        "outputId": "af18feef-a5b0-499b-9120-6f41d468c430",
        "colab": {
          "base_uri": "https://localhost:8080/",
          "height": 175
        }
      },
      "execution_count": null,
      "outputs": [
        {
          "output_type": "error",
          "ename": "TypeError",
          "evalue": "ignored",
          "traceback": [
            "\u001b[0;31m---------------------------------------------------------------------------\u001b[0m",
            "\u001b[0;31mTypeError\u001b[0m                                 Traceback (most recent call last)",
            "\u001b[0;32m<ipython-input-85-ef006b8c722f>\u001b[0m in \u001b[0;36m<cell line: 1>\u001b[0;34m()\u001b[0m\n\u001b[0;32m----> 1\u001b[0;31m \u001b[0mfind_min2\u001b[0m\u001b[0;34m(\u001b[0m\u001b[0;34m)\u001b[0m \u001b[0;31m## ไม่มี input ที่เป็นค่า default\u001b[0m\u001b[0;34m\u001b[0m\u001b[0;34m\u001b[0m\u001b[0m\n\u001b[0m",
            "\u001b[0;31mTypeError\u001b[0m: find_min2() missing 1 required positional argument: 'list_ex'"
          ]
        }
      ]
    },
    {
      "cell_type": "code",
      "source": [
        "#''' นำ input ที่จำเป็นต้องใส่มาไว้ด้านหน้าก่อน\n",
        "def draw_rectangle(size,dbbound=True): ## size เป็น input ที่ต้องใส่\n",
        "    if dbbound:\n",
        "        up = '='\n",
        "        space = ' '\n",
        "        print(f'{(size+4)*up}')\n",
        "        print(f'||{size*space}||')\n",
        "        print(f'{(size+4)*up}')\n",
        "    else:\n",
        "        up = '-'\n",
        "        space = ' '\n",
        "        print(f'{(size+4)*up}')\n",
        "        print(f'|{size*space}|')\n",
        "        print(f'{(size+4)*up}')"
      ],
      "metadata": {
        "id": "OlJGVvcUDN6n"
      },
      "execution_count": null,
      "outputs": []
    },
    {
      "cell_type": "code",
      "source": [
        "draw_rectangle() ## ถ้าไม่ใส่ input ที่จำเป็นต้องใส่ จะ Errors"
      ],
      "metadata": {
        "id": "EggHjj0YcDrm"
      },
      "execution_count": null,
      "outputs": []
    },
    {
      "cell_type": "code",
      "source": [
        "draw_rectangle(10,False)"
      ],
      "metadata": {
        "id": "CyiuDY-UcFj-"
      },
      "execution_count": null,
      "outputs": []
    },
    {
      "cell_type": "markdown",
      "source": [
        "ไม่ได้ใส่ parameter ตามลำดับ แต่ใส่ parameter ที่จำเป็นต้องใส่ก็สามารถ run ได้ ถ้าใส่ชื่อของ parameter ด้วย"
      ],
      "metadata": {
        "id": "3SoMM3K1cIwC"
      }
    },
    {
      "cell_type": "code",
      "source": [
        "draw_rectangle(dbbound=False,size=7)"
      ],
      "metadata": {
        "id": "HZNDcWsgcJ9j"
      },
      "execution_count": null,
      "outputs": []
    },
    {
      "cell_type": "code",
      "source": [
        "draw_rectangle(size=7)"
      ],
      "metadata": {
        "id": "GLFShljkDRwL",
        "outputId": "a601bff8-b056-40a1-8b20-3d52b0494298",
        "colab": {
          "base_uri": "https://localhost:8080/"
        }
      },
      "execution_count": null,
      "outputs": [
        {
          "output_type": "stream",
          "name": "stdout",
          "text": [
            "========\n",
            "||    ||\n",
            "========\n"
          ]
        }
      ]
    },
    {
      "cell_type": "markdown",
      "source": [
        "#### Example 5\n",
        "สร้าง function\n",
        "\n",
        "- วาด 4 เหลี่ยม ให้สามารถกำหนด ความยาว เเละ ความกว้าง ได้\n",
        "- เเต่ถ้าใส่ parameter ตัวเดียวก็ให้วาด 4 เหลี่ยม จัสตุรัส ที่มี ความยาว เเละ ความกว้าง เท่ากับ parameter ที่ใส่\n",
        "\n",
        "ให้ปริ้น ความกว้างxความยาวของสี่เหลี่ยม\n",
        "\n",
        "\n",
        "(ให้ปริ้น ความกว้าง x ความยาวของ สี่เหลี่ยม)\n",
        "\n",
        "**ตัวอย่าง**\n",
        "\n",
        "rext(3,5)\n",
        "> 3 x 5\n",
        "\n",
        "rext(7)\n",
        "\n",
        "> 7 x 7"
      ],
      "metadata": {
        "id": "frtSYMzgFCQO"
      }
    },
    {
      "cell_type": "code",
      "source": [
        "def draw_rectagle(W, H): #เติมค่่า ตัวหนึ่งได้เเต่ใช้สองตัว\n",
        "    print(f'{W} x {H}')\n",
        "draw_rectagle(3, 5)"
      ],
      "metadata": {
        "id": "5xamo3ktFDdz",
        "outputId": "adfaf57b-9aff-4603-9ad9-102c3347e0a5",
        "colab": {
          "base_uri": "https://localhost:8080/"
        }
      },
      "execution_count": null,
      "outputs": [
        {
          "output_type": "stream",
          "name": "stdout",
          "text": [
            "3 x 5\n"
          ]
        }
      ]
    },
    {
      "cell_type": "code",
      "source": [
        "def draw_rectagle(W, H=True): #เติมค่่า ตัวหนึ่งได้เเต่ใช้สองตัว\n",
        "    if H == True: #เช็ค if parameter 1 ตัว\n",
        "        H=W\n",
        "    print(f'{W} x {H}')"
      ],
      "metadata": {
        "id": "3UJNaXB7FHFU"
      },
      "execution_count": null,
      "outputs": []
    },
    {
      "cell_type": "code",
      "source": [
        "draw_rectagle(3)"
      ],
      "metadata": {
        "id": "-okwsge7ckcr"
      },
      "execution_count": null,
      "outputs": []
    },
    {
      "cell_type": "code",
      "source": [
        "draw_rectagle(3,5)"
      ],
      "metadata": {
        "id": "WoBn-bcTcoTd"
      },
      "execution_count": null,
      "outputs": []
    },
    {
      "cell_type": "code",
      "source": [
        "def draw_rectagle(W, H=True):\n",
        "    if H ==True:\n",
        "       up = '-'\n",
        "       side = '|'\n",
        "       space = W-1\n",
        "       print(f'{W*up}')\n",
        "       for i in range(W):\n",
        "           print(f'{side}{space*\" \"}{side}')\n",
        "       print(f'{W*up}')\n",
        "       print((f'{W} x {W}'))\n",
        "    else:\n",
        "        up = '-'\n",
        "        side = '|'\n",
        "        space = W-1\n",
        "        print(f'{W*up}')\n",
        "        for i in range(H):\n",
        "            print(f'{side}{space*\" \"}{side}')\n",
        "        print(f'{W*up}')\n",
        "        print((f'{W} x {H}'))"
      ],
      "metadata": {
        "id": "tc-XSDFictMQ"
      },
      "execution_count": null,
      "outputs": []
    },
    {
      "cell_type": "code",
      "source": [
        "draw_rectagle(W=5)"
      ],
      "metadata": {
        "id": "OT86oEA5ct5B"
      },
      "execution_count": null,
      "outputs": []
    },
    {
      "cell_type": "code",
      "source": [
        "draw_rectagle(W=5,H=10)"
      ],
      "metadata": {
        "id": "UJgvGZ9scwRT"
      },
      "execution_count": null,
      "outputs": []
    },
    {
      "cell_type": "code",
      "source": [
        "draw_rectagle(W=10,H=10)"
      ],
      "metadata": {
        "id": "sXD92q6ycxej"
      },
      "execution_count": null,
      "outputs": []
    },
    {
      "cell_type": "code",
      "source": [
        "draw_rectagle(W=5,H=5)"
      ],
      "metadata": {
        "id": "0ICGjbMNcy9N"
      },
      "execution_count": null,
      "outputs": []
    },
    {
      "cell_type": "markdown",
      "source": [
        "### HW2\n",
        "cerate a function that\n",
        "1. sort a list\n",
        "2. you can spcify to the function that sort is assending or descending with ascending as default\n",
        "3. have 2 argument on default and one non-default.\n",
        "\n",
        "---\n",
        "\n",
        "1. ให้เรียงลำดับ\n",
        "2. โดยใช้ฟังก์ชันจาก HW1 คือการสร้าง function เรียงจากน้อยไปมาก และ มากไปน้อย โดยให้ น้อยไปมากเป็นค่าพื้นฐาน (default)\n",
        "3. ที่ต้องประกอบไปด้วย ค่า Default และไม่ต้องใส่ค่า Default (non-default)"
      ],
      "metadata": {
        "id": "rEAJSkv6GAnk"
      }
    },
    {
      "cell_type": "code",
      "source": [
        "list_ex = [1, 5, 9, -19, -2, 0]\n",
        "list_ex2 = [10, -5, 74, 5, 31, 1]\n",
        "\n",
        "def sort(input, ascending=False):\n",
        "# Sort ด้วย input = list และกำหนดให้ค่า Default เป็น ascending = False เรียงจากน้อยไปมาก\n",
        "  return sorted(input,reverse=ascending)"
      ],
      "metadata": {
        "id": "qoOiZE_PA4Gz"
      },
      "execution_count": null,
      "outputs": []
    },
    {
      "cell_type": "markdown",
      "source": [
        "ให้เป็น argument Default เพื่อเรียงจากน้อยไปมาก"
      ],
      "metadata": {
        "id": "3WGjZuzVG_Xs"
      }
    },
    {
      "cell_type": "code",
      "source": [
        "sort(list_ex)"
      ],
      "metadata": {
        "id": "S4s_hpUgFURC",
        "outputId": "956be809-5428-455f-da3e-9ad873d8c3a3",
        "colab": {
          "base_uri": "https://localhost:8080/"
        }
      },
      "execution_count": null,
      "outputs": [
        {
          "output_type": "execute_result",
          "data": {
            "text/plain": [
              "[-19, -2, 0, 1, 5, 9]"
            ]
          },
          "metadata": {},
          "execution_count": 96
        }
      ]
    },
    {
      "cell_type": "code",
      "source": [
        "sort(list_ex2)"
      ],
      "metadata": {
        "id": "N9DGRkswHvca",
        "outputId": "23cbbc72-300f-4b50-e628-ce885b3fed38",
        "colab": {
          "base_uri": "https://localhost:8080/"
        }
      },
      "execution_count": null,
      "outputs": [
        {
          "output_type": "execute_result",
          "data": {
            "text/plain": [
              "[-5, 1, 5, 10, 31, 74]"
            ]
          },
          "metadata": {},
          "execution_count": 97
        }
      ]
    },
    {
      "cell_type": "markdown",
      "source": [
        "ให้เป็น argument non-Default เพื่อเรียงจากมากไปน้อย"
      ],
      "metadata": {
        "id": "EMjngqQkHKAP"
      }
    },
    {
      "cell_type": "code",
      "source": [
        "sort(list_ex,True)"
      ],
      "metadata": {
        "id": "GWw_YJ78FVR0",
        "outputId": "8cbc1d16-bc91-49e6-8bfd-7922bbaee2ec",
        "colab": {
          "base_uri": "https://localhost:8080/"
        }
      },
      "execution_count": null,
      "outputs": [
        {
          "output_type": "execute_result",
          "data": {
            "text/plain": [
              "[9, 5, 1, 0, -2, -19]"
            ]
          },
          "metadata": {},
          "execution_count": 98
        }
      ]
    },
    {
      "cell_type": "code",
      "source": [
        "sort(list_ex2,True)"
      ],
      "metadata": {
        "id": "4rhUHbgVHxHo",
        "outputId": "d712fdeb-f79b-44cd-f523-1d07b2430610",
        "colab": {
          "base_uri": "https://localhost:8080/"
        }
      },
      "execution_count": null,
      "outputs": [
        {
          "output_type": "execute_result",
          "data": {
            "text/plain": [
              "[74, 31, 10, 5, 1, -5]"
            ]
          },
          "metadata": {},
          "execution_count": 99
        }
      ]
    },
    {
      "cell_type": "markdown",
      "source": [
        "เฉลย HW2 ที่ถูกต้อง"
      ],
      "metadata": {
        "id": "x4luyMEzGezi"
      }
    },
    {
      "cell_type": "code",
      "source": [
        "def sorting(input_number,type=True):\n",
        "  n = len(input_number)\n",
        "  if type == True:\n",
        "    for i in range(n):\n",
        "      for j in range(0,n-i-1):\n",
        "        if input_number[j] > input_number[j+1]:\n",
        "          input_number[j], input_number[j+1] = input_number[j+1], input_number[j]\n",
        "  else:\n",
        "    for i in range(n):\n",
        "      for j in range(0,n-i-1):\n",
        "        if input_number[j+1] > input_number[j]:\n",
        "          input_number[j], input_number[j+1] = input_number[j+1],input_number[j]\n",
        "  return input_number"
      ],
      "metadata": {
        "id": "LxdaL920GSwW"
      },
      "execution_count": null,
      "outputs": []
    },
    {
      "cell_type": "markdown",
      "source": [
        "ลองให้ sort จากน้อยไปมาก"
      ],
      "metadata": {
        "id": "0xQE0r7DHC80"
      }
    },
    {
      "cell_type": "code",
      "source": [
        "#สมมติตัวแปร\n",
        "x = [1,28,-9,20,-111,2,10]\n",
        "x"
      ],
      "metadata": {
        "id": "a97Th2aIGzxH",
        "outputId": "84fa595c-14e5-49c2-c5fc-952d8c98f0f2",
        "colab": {
          "base_uri": "https://localhost:8080/"
        }
      },
      "execution_count": null,
      "outputs": [
        {
          "output_type": "execute_result",
          "data": {
            "text/plain": [
              "[1, 28, -9, 20, -111, 2, 10]"
            ]
          },
          "metadata": {},
          "execution_count": 102
        }
      ]
    },
    {
      "cell_type": "code",
      "source": [
        "sort_x = sorting(x,True)\n",
        "sort_x"
      ],
      "metadata": {
        "id": "z9g0uszCHAi_",
        "outputId": "7dbf1e2b-608a-4dae-a2ed-df88c3641b25",
        "colab": {
          "base_uri": "https://localhost:8080/"
        }
      },
      "execution_count": null,
      "outputs": [
        {
          "output_type": "execute_result",
          "data": {
            "text/plain": [
              "[-111, -9, 1, 2, 10, 20, 28]"
            ]
          },
          "metadata": {},
          "execution_count": 103
        }
      ]
    },
    {
      "cell_type": "markdown",
      "source": [
        "ลอง sort จากมากไปน้อย"
      ],
      "metadata": {
        "id": "OBGTYXzvHLNs"
      }
    },
    {
      "cell_type": "code",
      "source": [
        "sort_x = sorting(x,False)\n",
        "sort_x\n"
      ],
      "metadata": {
        "id": "R8ROm7mJHNsc",
        "outputId": "497f2908-9d8d-41d2-f8a9-da6c8a1b878d",
        "colab": {
          "base_uri": "https://localhost:8080/"
        }
      },
      "execution_count": null,
      "outputs": [
        {
          "output_type": "execute_result",
          "data": {
            "text/plain": [
              "[28, 20, 10, 2, 1, -9, -111]"
            ]
          },
          "metadata": {},
          "execution_count": 104
        }
      ]
    }
  ]
}