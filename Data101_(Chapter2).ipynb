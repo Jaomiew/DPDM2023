{
  "nbformat": 4,
  "nbformat_minor": 0,
  "metadata": {
    "colab": {
      "provenance": [],
      "authorship_tag": "ABX9TyO1QuWN8CWnv5s1RZpGVtpN",
      "include_colab_link": true
    },
    "kernelspec": {
      "name": "python3",
      "display_name": "Python 3"
    },
    "language_info": {
      "name": "python"
    }
  },
  "cells": [
    {
      "cell_type": "markdown",
      "metadata": {
        "id": "view-in-github",
        "colab_type": "text"
      },
      "source": [
        "<a href=\"https://colab.research.google.com/github/Jaomiew/DPDM2023/blob/main/Data101_(Chapter2).ipynb\" target=\"_parent\"><img src=\"https://colab.research.google.com/assets/colab-badge.svg\" alt=\"Open In Colab\"/></a>"
      ]
    },
    {
      "cell_type": "markdown",
      "source": [
        "pandas คือ package ที่มีคนพัฒนาขึ้นมาเพื่อใช้จัดการข้อมูลที่มีลักษณะเป็นตาราง ซึ่งใน pandas เรียกว่า dataframe"
      ],
      "metadata": {
        "id": "eKx6mIAd2ebz"
      }
    },
    {
      "cell_type": "markdown",
      "source": [
        "pandas is a python package for manage table data. panda data structure for table is DataFrame"
      ],
      "metadata": {
        "id": "5eqRxovc3dN6"
      }
    },
    {
      "cell_type": "code",
      "source": [
        "import pandas #import pandas คือ โหลด package มีชื่อว่า pandas มาใช้"
      ],
      "metadata": {
        "id": "llDyvJ_B3fBC"
      },
      "execution_count": 4,
      "outputs": []
    },
    {
      "cell_type": "code",
      "source": [
        "import pandas as pd # โหลด pandas package แล้วตั้งชื่อให้ว่า pd แทน"
      ],
      "metadata": {
        "id": "AC2r8DuU3g41"
      },
      "execution_count": 5,
      "outputs": []
    },
    {
      "cell_type": "markdown",
      "source": [
        "ไฟล์ .CSV (csv = comma separated values)\n",
        "- ใช้เครื่องหมาย comma ในการแบ่ง(คั่น)แต่ละ Columns\n",
        "- ขึ้น record ใหม่จะใช้การ Enter"
      ],
      "metadata": {
        "id": "Zt4dR-wt3lvW"
      }
    },
    {
      "cell_type": "code",
      "source": [
        "data_df = pd.read_csv('/content/data.csv')"
      ],
      "metadata": {
        "id": "eDDd1vPg3mW1"
      },
      "execution_count": 6,
      "outputs": []
    },
    {
      "cell_type": "markdown",
      "source": [
        "- function ชื่อว่า \"read_csv\" จะเรียกข้อมูลให้ออกมาอยู่ใน format ของตาราง"
      ],
      "metadata": {
        "id": "FQdfSAe65-LI"
      }
    },
    {
      "cell_type": "code",
      "source": [
        "data_df #เรียกดูตาราง csv."
      ],
      "metadata": {
        "colab": {
          "base_uri": "https://localhost:8080/",
          "height": 143
        },
        "id": "9XNm1E7P6AjV",
        "outputId": "67f45a56-d653-48a5-a9c0-31d514425e69"
      },
      "execution_count": 7,
      "outputs": [
        {
          "output_type": "execute_result",
          "data": {
            "text/plain": [
              "   Car_id         Model   Year   Value   Pera_ID\n",
              "0     101       Bentley   1973  100000         0\n",
              "1     102   Rolls Royce   1965  330000         0\n",
              "2     103       Peugrot   1993     500         3"
            ],
            "text/html": [
              "\n",
              "\n",
              "  <div id=\"df-1a3e3eca-f31d-498d-9633-7beb35ea1aac\">\n",
              "    <div class=\"colab-df-container\">\n",
              "      <div>\n",
              "<style scoped>\n",
              "    .dataframe tbody tr th:only-of-type {\n",
              "        vertical-align: middle;\n",
              "    }\n",
              "\n",
              "    .dataframe tbody tr th {\n",
              "        vertical-align: top;\n",
              "    }\n",
              "\n",
              "    .dataframe thead th {\n",
              "        text-align: right;\n",
              "    }\n",
              "</style>\n",
              "<table border=\"1\" class=\"dataframe\">\n",
              "  <thead>\n",
              "    <tr style=\"text-align: right;\">\n",
              "      <th></th>\n",
              "      <th>Car_id</th>\n",
              "      <th>Model</th>\n",
              "      <th>Year</th>\n",
              "      <th>Value</th>\n",
              "      <th>Pera_ID</th>\n",
              "    </tr>\n",
              "  </thead>\n",
              "  <tbody>\n",
              "    <tr>\n",
              "      <th>0</th>\n",
              "      <td>101</td>\n",
              "      <td>Bentley</td>\n",
              "      <td>1973</td>\n",
              "      <td>100000</td>\n",
              "      <td>0</td>\n",
              "    </tr>\n",
              "    <tr>\n",
              "      <th>1</th>\n",
              "      <td>102</td>\n",
              "      <td>Rolls Royce</td>\n",
              "      <td>1965</td>\n",
              "      <td>330000</td>\n",
              "      <td>0</td>\n",
              "    </tr>\n",
              "    <tr>\n",
              "      <th>2</th>\n",
              "      <td>103</td>\n",
              "      <td>Peugrot</td>\n",
              "      <td>1993</td>\n",
              "      <td>500</td>\n",
              "      <td>3</td>\n",
              "    </tr>\n",
              "  </tbody>\n",
              "</table>\n",
              "</div>\n",
              "      <button class=\"colab-df-convert\" onclick=\"convertToInteractive('df-1a3e3eca-f31d-498d-9633-7beb35ea1aac')\"\n",
              "              title=\"Convert this dataframe to an interactive table.\"\n",
              "              style=\"display:none;\">\n",
              "\n",
              "  <svg xmlns=\"http://www.w3.org/2000/svg\" height=\"24px\"viewBox=\"0 0 24 24\"\n",
              "       width=\"24px\">\n",
              "    <path d=\"M0 0h24v24H0V0z\" fill=\"none\"/>\n",
              "    <path d=\"M18.56 5.44l.94 2.06.94-2.06 2.06-.94-2.06-.94-.94-2.06-.94 2.06-2.06.94zm-11 1L8.5 8.5l.94-2.06 2.06-.94-2.06-.94L8.5 2.5l-.94 2.06-2.06.94zm10 10l.94 2.06.94-2.06 2.06-.94-2.06-.94-.94-2.06-.94 2.06-2.06.94z\"/><path d=\"M17.41 7.96l-1.37-1.37c-.4-.4-.92-.59-1.43-.59-.52 0-1.04.2-1.43.59L10.3 9.45l-7.72 7.72c-.78.78-.78 2.05 0 2.83L4 21.41c.39.39.9.59 1.41.59.51 0 1.02-.2 1.41-.59l7.78-7.78 2.81-2.81c.8-.78.8-2.07 0-2.86zM5.41 20L4 18.59l7.72-7.72 1.47 1.35L5.41 20z\"/>\n",
              "  </svg>\n",
              "      </button>\n",
              "\n",
              "\n",
              "\n",
              "    <div id=\"df-ef182125-0662-4b30-8543-d01986dcf619\">\n",
              "      <button class=\"colab-df-quickchart\" onclick=\"quickchart('df-ef182125-0662-4b30-8543-d01986dcf619')\"\n",
              "              title=\"Suggest charts.\"\n",
              "              style=\"display:none;\">\n",
              "\n",
              "<svg xmlns=\"http://www.w3.org/2000/svg\" height=\"24px\"viewBox=\"0 0 24 24\"\n",
              "     width=\"24px\">\n",
              "    <g>\n",
              "        <path d=\"M19 3H5c-1.1 0-2 .9-2 2v14c0 1.1.9 2 2 2h14c1.1 0 2-.9 2-2V5c0-1.1-.9-2-2-2zM9 17H7v-7h2v7zm4 0h-2V7h2v10zm4 0h-2v-4h2v4z\"/>\n",
              "    </g>\n",
              "</svg>\n",
              "      </button>\n",
              "    </div>\n",
              "\n",
              "<style>\n",
              "  .colab-df-quickchart {\n",
              "    background-color: #E8F0FE;\n",
              "    border: none;\n",
              "    border-radius: 50%;\n",
              "    cursor: pointer;\n",
              "    display: none;\n",
              "    fill: #1967D2;\n",
              "    height: 32px;\n",
              "    padding: 0 0 0 0;\n",
              "    width: 32px;\n",
              "  }\n",
              "\n",
              "  .colab-df-quickchart:hover {\n",
              "    background-color: #E2EBFA;\n",
              "    box-shadow: 0px 1px 2px rgba(60, 64, 67, 0.3), 0px 1px 3px 1px rgba(60, 64, 67, 0.15);\n",
              "    fill: #174EA6;\n",
              "  }\n",
              "\n",
              "  [theme=dark] .colab-df-quickchart {\n",
              "    background-color: #3B4455;\n",
              "    fill: #D2E3FC;\n",
              "  }\n",
              "\n",
              "  [theme=dark] .colab-df-quickchart:hover {\n",
              "    background-color: #434B5C;\n",
              "    box-shadow: 0px 1px 3px 1px rgba(0, 0, 0, 0.15);\n",
              "    filter: drop-shadow(0px 1px 2px rgba(0, 0, 0, 0.3));\n",
              "    fill: #FFFFFF;\n",
              "  }\n",
              "</style>\n",
              "\n",
              "    <script>\n",
              "      async function quickchart(key) {\n",
              "        const containerElement = document.querySelector('#' + key);\n",
              "        const charts = await google.colab.kernel.invokeFunction(\n",
              "            'suggestCharts', [key], {});\n",
              "      }\n",
              "    </script>\n",
              "\n",
              "      <script>\n",
              "\n",
              "function displayQuickchartButton(domScope) {\n",
              "  let quickchartButtonEl =\n",
              "    domScope.querySelector('#df-ef182125-0662-4b30-8543-d01986dcf619 button.colab-df-quickchart');\n",
              "  quickchartButtonEl.style.display =\n",
              "    google.colab.kernel.accessAllowed ? 'block' : 'none';\n",
              "}\n",
              "\n",
              "        displayQuickchartButton(document);\n",
              "      </script>\n",
              "      <style>\n",
              "    .colab-df-container {\n",
              "      display:flex;\n",
              "      flex-wrap:wrap;\n",
              "      gap: 12px;\n",
              "    }\n",
              "\n",
              "    .colab-df-convert {\n",
              "      background-color: #E8F0FE;\n",
              "      border: none;\n",
              "      border-radius: 50%;\n",
              "      cursor: pointer;\n",
              "      display: none;\n",
              "      fill: #1967D2;\n",
              "      height: 32px;\n",
              "      padding: 0 0 0 0;\n",
              "      width: 32px;\n",
              "    }\n",
              "\n",
              "    .colab-df-convert:hover {\n",
              "      background-color: #E2EBFA;\n",
              "      box-shadow: 0px 1px 2px rgba(60, 64, 67, 0.3), 0px 1px 3px 1px rgba(60, 64, 67, 0.15);\n",
              "      fill: #174EA6;\n",
              "    }\n",
              "\n",
              "    [theme=dark] .colab-df-convert {\n",
              "      background-color: #3B4455;\n",
              "      fill: #D2E3FC;\n",
              "    }\n",
              "\n",
              "    [theme=dark] .colab-df-convert:hover {\n",
              "      background-color: #434B5C;\n",
              "      box-shadow: 0px 1px 3px 1px rgba(0, 0, 0, 0.15);\n",
              "      filter: drop-shadow(0px 1px 2px rgba(0, 0, 0, 0.3));\n",
              "      fill: #FFFFFF;\n",
              "    }\n",
              "  </style>\n",
              "\n",
              "      <script>\n",
              "        const buttonEl =\n",
              "          document.querySelector('#df-1a3e3eca-f31d-498d-9633-7beb35ea1aac button.colab-df-convert');\n",
              "        buttonEl.style.display =\n",
              "          google.colab.kernel.accessAllowed ? 'block' : 'none';\n",
              "\n",
              "        async function convertToInteractive(key) {\n",
              "          const element = document.querySelector('#df-1a3e3eca-f31d-498d-9633-7beb35ea1aac');\n",
              "          const dataTable =\n",
              "            await google.colab.kernel.invokeFunction('convertToInteractive',\n",
              "                                                     [key], {});\n",
              "          if (!dataTable) return;\n",
              "\n",
              "          const docLinkHtml = 'Like what you see? Visit the ' +\n",
              "            '<a target=\"_blank\" href=https://colab.research.google.com/notebooks/data_table.ipynb>data table notebook</a>'\n",
              "            + ' to learn more about interactive tables.';\n",
              "          element.innerHTML = '';\n",
              "          dataTable['output_type'] = 'display_data';\n",
              "          await google.colab.output.renderOutput(dataTable, element);\n",
              "          const docLink = document.createElement('div');\n",
              "          docLink.innerHTML = docLinkHtml;\n",
              "          element.appendChild(docLink);\n",
              "        }\n",
              "      </script>\n",
              "    </div>\n",
              "  </div>\n"
            ]
          },
          "metadata": {},
          "execution_count": 7
        }
      ]
    },
    {
      "cell_type": "markdown",
      "source": [
        "## Data structure (โครงสร้างข้อมูล)"
      ],
      "metadata": {
        "id": "I1gXOeSp85sg"
      }
    },
    {
      "cell_type": "markdown",
      "source": [
        "### list\n",
        "- การที่นำตัวแปรมาเรียงต่อกันเรื่อยๆและคั่นด้วยเครื่องหมาย comma (,)\n",
        "- สามารถนำตัวแปรชนิดไหนก็ได้มาเก็บไว้ใน list เดียวกัน ไม่จำเป็นต้องเป็น type เดียวกัน\n",
        "- สนใจลำดับใน list เป็นสำคัญ เพราะสามารถบอกค่าใน list ได้ด้วยลำดับ(indexing)"
      ],
      "metadata": {
        "id": "VeuXxeG28-RX"
      }
    },
    {
      "cell_type": "code",
      "source": [
        "list_a = [1,2,3,0.9,'aaz', data_df] ## [] (square brackets)"
      ],
      "metadata": {
        "id": "utvN0Vb19h34"
      },
      "execution_count": 8,
      "outputs": []
    },
    {
      "cell_type": "code",
      "source": [
        "list_a"
      ],
      "metadata": {
        "colab": {
          "base_uri": "https://localhost:8080/"
        },
        "id": "02nHfvPn9uVw",
        "outputId": "890c200a-73ac-405d-87ae-e27d23685977"
      },
      "execution_count": 9,
      "outputs": [
        {
          "output_type": "execute_result",
          "data": {
            "text/plain": [
              "[1,\n",
              " 2,\n",
              " 3,\n",
              " 0.9,\n",
              " 'aaz',\n",
              "    Car_id         Model   Year   Value   Pera_ID\n",
              " 0     101       Bentley   1973  100000         0\n",
              " 1     102   Rolls Royce   1965  330000         0\n",
              " 2     103       Peugrot   1993     500         3]"
            ]
          },
          "metadata": {},
          "execution_count": 9
        }
      ]
    },
    {
      "cell_type": "markdown",
      "source": [
        "### indexing"
      ],
      "metadata": {
        "id": "PJ27lyRg98g6"
      }
    },
    {
      "cell_type": "code",
      "source": [
        "list_a[1] #เลือกตัวที่ 1 มา"
      ],
      "metadata": {
        "colab": {
          "base_uri": "https://localhost:8080/"
        },
        "id": "njn7-NBt-Q2_",
        "outputId": "821142fb-f862-4203-ef04-9f5c1de00156"
      },
      "execution_count": 10,
      "outputs": [
        {
          "output_type": "execute_result",
          "data": {
            "text/plain": [
              "2"
            ]
          },
          "metadata": {},
          "execution_count": 10
        }
      ]
    },
    {
      "cell_type": "code",
      "source": [
        "list_a[5]  #เลือกตัวที่ 5 มา"
      ],
      "metadata": {
        "colab": {
          "base_uri": "https://localhost:8080/",
          "height": 143
        },
        "id": "PQRfT0vA-G7p",
        "outputId": "fd5b7e2f-0fd9-46dd-c9e1-a878b51d0364"
      },
      "execution_count": 11,
      "outputs": [
        {
          "output_type": "execute_result",
          "data": {
            "text/plain": [
              "   Car_id         Model   Year   Value   Pera_ID\n",
              "0     101       Bentley   1973  100000         0\n",
              "1     102   Rolls Royce   1965  330000         0\n",
              "2     103       Peugrot   1993     500         3"
            ],
            "text/html": [
              "\n",
              "\n",
              "  <div id=\"df-d5bc8eac-a482-4ed1-8d9b-808402f8bc9f\">\n",
              "    <div class=\"colab-df-container\">\n",
              "      <div>\n",
              "<style scoped>\n",
              "    .dataframe tbody tr th:only-of-type {\n",
              "        vertical-align: middle;\n",
              "    }\n",
              "\n",
              "    .dataframe tbody tr th {\n",
              "        vertical-align: top;\n",
              "    }\n",
              "\n",
              "    .dataframe thead th {\n",
              "        text-align: right;\n",
              "    }\n",
              "</style>\n",
              "<table border=\"1\" class=\"dataframe\">\n",
              "  <thead>\n",
              "    <tr style=\"text-align: right;\">\n",
              "      <th></th>\n",
              "      <th>Car_id</th>\n",
              "      <th>Model</th>\n",
              "      <th>Year</th>\n",
              "      <th>Value</th>\n",
              "      <th>Pera_ID</th>\n",
              "    </tr>\n",
              "  </thead>\n",
              "  <tbody>\n",
              "    <tr>\n",
              "      <th>0</th>\n",
              "      <td>101</td>\n",
              "      <td>Bentley</td>\n",
              "      <td>1973</td>\n",
              "      <td>100000</td>\n",
              "      <td>0</td>\n",
              "    </tr>\n",
              "    <tr>\n",
              "      <th>1</th>\n",
              "      <td>102</td>\n",
              "      <td>Rolls Royce</td>\n",
              "      <td>1965</td>\n",
              "      <td>330000</td>\n",
              "      <td>0</td>\n",
              "    </tr>\n",
              "    <tr>\n",
              "      <th>2</th>\n",
              "      <td>103</td>\n",
              "      <td>Peugrot</td>\n",
              "      <td>1993</td>\n",
              "      <td>500</td>\n",
              "      <td>3</td>\n",
              "    </tr>\n",
              "  </tbody>\n",
              "</table>\n",
              "</div>\n",
              "      <button class=\"colab-df-convert\" onclick=\"convertToInteractive('df-d5bc8eac-a482-4ed1-8d9b-808402f8bc9f')\"\n",
              "              title=\"Convert this dataframe to an interactive table.\"\n",
              "              style=\"display:none;\">\n",
              "\n",
              "  <svg xmlns=\"http://www.w3.org/2000/svg\" height=\"24px\"viewBox=\"0 0 24 24\"\n",
              "       width=\"24px\">\n",
              "    <path d=\"M0 0h24v24H0V0z\" fill=\"none\"/>\n",
              "    <path d=\"M18.56 5.44l.94 2.06.94-2.06 2.06-.94-2.06-.94-.94-2.06-.94 2.06-2.06.94zm-11 1L8.5 8.5l.94-2.06 2.06-.94-2.06-.94L8.5 2.5l-.94 2.06-2.06.94zm10 10l.94 2.06.94-2.06 2.06-.94-2.06-.94-.94-2.06-.94 2.06-2.06.94z\"/><path d=\"M17.41 7.96l-1.37-1.37c-.4-.4-.92-.59-1.43-.59-.52 0-1.04.2-1.43.59L10.3 9.45l-7.72 7.72c-.78.78-.78 2.05 0 2.83L4 21.41c.39.39.9.59 1.41.59.51 0 1.02-.2 1.41-.59l7.78-7.78 2.81-2.81c.8-.78.8-2.07 0-2.86zM5.41 20L4 18.59l7.72-7.72 1.47 1.35L5.41 20z\"/>\n",
              "  </svg>\n",
              "      </button>\n",
              "\n",
              "\n",
              "\n",
              "    <div id=\"df-2ea81d4c-4c8f-4a60-adc1-11431930c9d0\">\n",
              "      <button class=\"colab-df-quickchart\" onclick=\"quickchart('df-2ea81d4c-4c8f-4a60-adc1-11431930c9d0')\"\n",
              "              title=\"Suggest charts.\"\n",
              "              style=\"display:none;\">\n",
              "\n",
              "<svg xmlns=\"http://www.w3.org/2000/svg\" height=\"24px\"viewBox=\"0 0 24 24\"\n",
              "     width=\"24px\">\n",
              "    <g>\n",
              "        <path d=\"M19 3H5c-1.1 0-2 .9-2 2v14c0 1.1.9 2 2 2h14c1.1 0 2-.9 2-2V5c0-1.1-.9-2-2-2zM9 17H7v-7h2v7zm4 0h-2V7h2v10zm4 0h-2v-4h2v4z\"/>\n",
              "    </g>\n",
              "</svg>\n",
              "      </button>\n",
              "    </div>\n",
              "\n",
              "<style>\n",
              "  .colab-df-quickchart {\n",
              "    background-color: #E8F0FE;\n",
              "    border: none;\n",
              "    border-radius: 50%;\n",
              "    cursor: pointer;\n",
              "    display: none;\n",
              "    fill: #1967D2;\n",
              "    height: 32px;\n",
              "    padding: 0 0 0 0;\n",
              "    width: 32px;\n",
              "  }\n",
              "\n",
              "  .colab-df-quickchart:hover {\n",
              "    background-color: #E2EBFA;\n",
              "    box-shadow: 0px 1px 2px rgba(60, 64, 67, 0.3), 0px 1px 3px 1px rgba(60, 64, 67, 0.15);\n",
              "    fill: #174EA6;\n",
              "  }\n",
              "\n",
              "  [theme=dark] .colab-df-quickchart {\n",
              "    background-color: #3B4455;\n",
              "    fill: #D2E3FC;\n",
              "  }\n",
              "\n",
              "  [theme=dark] .colab-df-quickchart:hover {\n",
              "    background-color: #434B5C;\n",
              "    box-shadow: 0px 1px 3px 1px rgba(0, 0, 0, 0.15);\n",
              "    filter: drop-shadow(0px 1px 2px rgba(0, 0, 0, 0.3));\n",
              "    fill: #FFFFFF;\n",
              "  }\n",
              "</style>\n",
              "\n",
              "    <script>\n",
              "      async function quickchart(key) {\n",
              "        const containerElement = document.querySelector('#' + key);\n",
              "        const charts = await google.colab.kernel.invokeFunction(\n",
              "            'suggestCharts', [key], {});\n",
              "      }\n",
              "    </script>\n",
              "\n",
              "      <script>\n",
              "\n",
              "function displayQuickchartButton(domScope) {\n",
              "  let quickchartButtonEl =\n",
              "    domScope.querySelector('#df-2ea81d4c-4c8f-4a60-adc1-11431930c9d0 button.colab-df-quickchart');\n",
              "  quickchartButtonEl.style.display =\n",
              "    google.colab.kernel.accessAllowed ? 'block' : 'none';\n",
              "}\n",
              "\n",
              "        displayQuickchartButton(document);\n",
              "      </script>\n",
              "      <style>\n",
              "    .colab-df-container {\n",
              "      display:flex;\n",
              "      flex-wrap:wrap;\n",
              "      gap: 12px;\n",
              "    }\n",
              "\n",
              "    .colab-df-convert {\n",
              "      background-color: #E8F0FE;\n",
              "      border: none;\n",
              "      border-radius: 50%;\n",
              "      cursor: pointer;\n",
              "      display: none;\n",
              "      fill: #1967D2;\n",
              "      height: 32px;\n",
              "      padding: 0 0 0 0;\n",
              "      width: 32px;\n",
              "    }\n",
              "\n",
              "    .colab-df-convert:hover {\n",
              "      background-color: #E2EBFA;\n",
              "      box-shadow: 0px 1px 2px rgba(60, 64, 67, 0.3), 0px 1px 3px 1px rgba(60, 64, 67, 0.15);\n",
              "      fill: #174EA6;\n",
              "    }\n",
              "\n",
              "    [theme=dark] .colab-df-convert {\n",
              "      background-color: #3B4455;\n",
              "      fill: #D2E3FC;\n",
              "    }\n",
              "\n",
              "    [theme=dark] .colab-df-convert:hover {\n",
              "      background-color: #434B5C;\n",
              "      box-shadow: 0px 1px 3px 1px rgba(0, 0, 0, 0.15);\n",
              "      filter: drop-shadow(0px 1px 2px rgba(0, 0, 0, 0.3));\n",
              "      fill: #FFFFFF;\n",
              "    }\n",
              "  </style>\n",
              "\n",
              "      <script>\n",
              "        const buttonEl =\n",
              "          document.querySelector('#df-d5bc8eac-a482-4ed1-8d9b-808402f8bc9f button.colab-df-convert');\n",
              "        buttonEl.style.display =\n",
              "          google.colab.kernel.accessAllowed ? 'block' : 'none';\n",
              "\n",
              "        async function convertToInteractive(key) {\n",
              "          const element = document.querySelector('#df-d5bc8eac-a482-4ed1-8d9b-808402f8bc9f');\n",
              "          const dataTable =\n",
              "            await google.colab.kernel.invokeFunction('convertToInteractive',\n",
              "                                                     [key], {});\n",
              "          if (!dataTable) return;\n",
              "\n",
              "          const docLinkHtml = 'Like what you see? Visit the ' +\n",
              "            '<a target=\"_blank\" href=https://colab.research.google.com/notebooks/data_table.ipynb>data table notebook</a>'\n",
              "            + ' to learn more about interactive tables.';\n",
              "          element.innerHTML = '';\n",
              "          dataTable['output_type'] = 'display_data';\n",
              "          await google.colab.output.renderOutput(dataTable, element);\n",
              "          const docLink = document.createElement('div');\n",
              "          docLink.innerHTML = docLinkHtml;\n",
              "          element.appendChild(docLink);\n",
              "        }\n",
              "      </script>\n",
              "    </div>\n",
              "  </div>\n"
            ]
          },
          "metadata": {},
          "execution_count": 11
        }
      ]
    },
    {
      "cell_type": "markdown",
      "source": [
        "### Negative index ชี้ค่าใน list จากด้านหลัง"
      ],
      "metadata": {
        "id": "ZT8i8-uZ-Yec"
      }
    },
    {
      "cell_type": "code",
      "source": [
        "list_a[-1] ## Negative index  อ่านจากข้างหลังมาข้างหน้า"
      ],
      "metadata": {
        "colab": {
          "base_uri": "https://localhost:8080/",
          "height": 143
        },
        "id": "ju9hxwUt-ZoA",
        "outputId": "e8b93a48-c398-4e16-eb3d-a9a0e71150be"
      },
      "execution_count": 12,
      "outputs": [
        {
          "output_type": "execute_result",
          "data": {
            "text/plain": [
              "   Car_id         Model   Year   Value   Pera_ID\n",
              "0     101       Bentley   1973  100000         0\n",
              "1     102   Rolls Royce   1965  330000         0\n",
              "2     103       Peugrot   1993     500         3"
            ],
            "text/html": [
              "\n",
              "\n",
              "  <div id=\"df-478a8775-1f08-44b1-a648-2f80c3f901e8\">\n",
              "    <div class=\"colab-df-container\">\n",
              "      <div>\n",
              "<style scoped>\n",
              "    .dataframe tbody tr th:only-of-type {\n",
              "        vertical-align: middle;\n",
              "    }\n",
              "\n",
              "    .dataframe tbody tr th {\n",
              "        vertical-align: top;\n",
              "    }\n",
              "\n",
              "    .dataframe thead th {\n",
              "        text-align: right;\n",
              "    }\n",
              "</style>\n",
              "<table border=\"1\" class=\"dataframe\">\n",
              "  <thead>\n",
              "    <tr style=\"text-align: right;\">\n",
              "      <th></th>\n",
              "      <th>Car_id</th>\n",
              "      <th>Model</th>\n",
              "      <th>Year</th>\n",
              "      <th>Value</th>\n",
              "      <th>Pera_ID</th>\n",
              "    </tr>\n",
              "  </thead>\n",
              "  <tbody>\n",
              "    <tr>\n",
              "      <th>0</th>\n",
              "      <td>101</td>\n",
              "      <td>Bentley</td>\n",
              "      <td>1973</td>\n",
              "      <td>100000</td>\n",
              "      <td>0</td>\n",
              "    </tr>\n",
              "    <tr>\n",
              "      <th>1</th>\n",
              "      <td>102</td>\n",
              "      <td>Rolls Royce</td>\n",
              "      <td>1965</td>\n",
              "      <td>330000</td>\n",
              "      <td>0</td>\n",
              "    </tr>\n",
              "    <tr>\n",
              "      <th>2</th>\n",
              "      <td>103</td>\n",
              "      <td>Peugrot</td>\n",
              "      <td>1993</td>\n",
              "      <td>500</td>\n",
              "      <td>3</td>\n",
              "    </tr>\n",
              "  </tbody>\n",
              "</table>\n",
              "</div>\n",
              "      <button class=\"colab-df-convert\" onclick=\"convertToInteractive('df-478a8775-1f08-44b1-a648-2f80c3f901e8')\"\n",
              "              title=\"Convert this dataframe to an interactive table.\"\n",
              "              style=\"display:none;\">\n",
              "\n",
              "  <svg xmlns=\"http://www.w3.org/2000/svg\" height=\"24px\"viewBox=\"0 0 24 24\"\n",
              "       width=\"24px\">\n",
              "    <path d=\"M0 0h24v24H0V0z\" fill=\"none\"/>\n",
              "    <path d=\"M18.56 5.44l.94 2.06.94-2.06 2.06-.94-2.06-.94-.94-2.06-.94 2.06-2.06.94zm-11 1L8.5 8.5l.94-2.06 2.06-.94-2.06-.94L8.5 2.5l-.94 2.06-2.06.94zm10 10l.94 2.06.94-2.06 2.06-.94-2.06-.94-.94-2.06-.94 2.06-2.06.94z\"/><path d=\"M17.41 7.96l-1.37-1.37c-.4-.4-.92-.59-1.43-.59-.52 0-1.04.2-1.43.59L10.3 9.45l-7.72 7.72c-.78.78-.78 2.05 0 2.83L4 21.41c.39.39.9.59 1.41.59.51 0 1.02-.2 1.41-.59l7.78-7.78 2.81-2.81c.8-.78.8-2.07 0-2.86zM5.41 20L4 18.59l7.72-7.72 1.47 1.35L5.41 20z\"/>\n",
              "  </svg>\n",
              "      </button>\n",
              "\n",
              "\n",
              "\n",
              "    <div id=\"df-be8df56b-6d84-4270-a182-1a41bbc41fff\">\n",
              "      <button class=\"colab-df-quickchart\" onclick=\"quickchart('df-be8df56b-6d84-4270-a182-1a41bbc41fff')\"\n",
              "              title=\"Suggest charts.\"\n",
              "              style=\"display:none;\">\n",
              "\n",
              "<svg xmlns=\"http://www.w3.org/2000/svg\" height=\"24px\"viewBox=\"0 0 24 24\"\n",
              "     width=\"24px\">\n",
              "    <g>\n",
              "        <path d=\"M19 3H5c-1.1 0-2 .9-2 2v14c0 1.1.9 2 2 2h14c1.1 0 2-.9 2-2V5c0-1.1-.9-2-2-2zM9 17H7v-7h2v7zm4 0h-2V7h2v10zm4 0h-2v-4h2v4z\"/>\n",
              "    </g>\n",
              "</svg>\n",
              "      </button>\n",
              "    </div>\n",
              "\n",
              "<style>\n",
              "  .colab-df-quickchart {\n",
              "    background-color: #E8F0FE;\n",
              "    border: none;\n",
              "    border-radius: 50%;\n",
              "    cursor: pointer;\n",
              "    display: none;\n",
              "    fill: #1967D2;\n",
              "    height: 32px;\n",
              "    padding: 0 0 0 0;\n",
              "    width: 32px;\n",
              "  }\n",
              "\n",
              "  .colab-df-quickchart:hover {\n",
              "    background-color: #E2EBFA;\n",
              "    box-shadow: 0px 1px 2px rgba(60, 64, 67, 0.3), 0px 1px 3px 1px rgba(60, 64, 67, 0.15);\n",
              "    fill: #174EA6;\n",
              "  }\n",
              "\n",
              "  [theme=dark] .colab-df-quickchart {\n",
              "    background-color: #3B4455;\n",
              "    fill: #D2E3FC;\n",
              "  }\n",
              "\n",
              "  [theme=dark] .colab-df-quickchart:hover {\n",
              "    background-color: #434B5C;\n",
              "    box-shadow: 0px 1px 3px 1px rgba(0, 0, 0, 0.15);\n",
              "    filter: drop-shadow(0px 1px 2px rgba(0, 0, 0, 0.3));\n",
              "    fill: #FFFFFF;\n",
              "  }\n",
              "</style>\n",
              "\n",
              "    <script>\n",
              "      async function quickchart(key) {\n",
              "        const containerElement = document.querySelector('#' + key);\n",
              "        const charts = await google.colab.kernel.invokeFunction(\n",
              "            'suggestCharts', [key], {});\n",
              "      }\n",
              "    </script>\n",
              "\n",
              "      <script>\n",
              "\n",
              "function displayQuickchartButton(domScope) {\n",
              "  let quickchartButtonEl =\n",
              "    domScope.querySelector('#df-be8df56b-6d84-4270-a182-1a41bbc41fff button.colab-df-quickchart');\n",
              "  quickchartButtonEl.style.display =\n",
              "    google.colab.kernel.accessAllowed ? 'block' : 'none';\n",
              "}\n",
              "\n",
              "        displayQuickchartButton(document);\n",
              "      </script>\n",
              "      <style>\n",
              "    .colab-df-container {\n",
              "      display:flex;\n",
              "      flex-wrap:wrap;\n",
              "      gap: 12px;\n",
              "    }\n",
              "\n",
              "    .colab-df-convert {\n",
              "      background-color: #E8F0FE;\n",
              "      border: none;\n",
              "      border-radius: 50%;\n",
              "      cursor: pointer;\n",
              "      display: none;\n",
              "      fill: #1967D2;\n",
              "      height: 32px;\n",
              "      padding: 0 0 0 0;\n",
              "      width: 32px;\n",
              "    }\n",
              "\n",
              "    .colab-df-convert:hover {\n",
              "      background-color: #E2EBFA;\n",
              "      box-shadow: 0px 1px 2px rgba(60, 64, 67, 0.3), 0px 1px 3px 1px rgba(60, 64, 67, 0.15);\n",
              "      fill: #174EA6;\n",
              "    }\n",
              "\n",
              "    [theme=dark] .colab-df-convert {\n",
              "      background-color: #3B4455;\n",
              "      fill: #D2E3FC;\n",
              "    }\n",
              "\n",
              "    [theme=dark] .colab-df-convert:hover {\n",
              "      background-color: #434B5C;\n",
              "      box-shadow: 0px 1px 3px 1px rgba(0, 0, 0, 0.15);\n",
              "      filter: drop-shadow(0px 1px 2px rgba(0, 0, 0, 0.3));\n",
              "      fill: #FFFFFF;\n",
              "    }\n",
              "  </style>\n",
              "\n",
              "      <script>\n",
              "        const buttonEl =\n",
              "          document.querySelector('#df-478a8775-1f08-44b1-a648-2f80c3f901e8 button.colab-df-convert');\n",
              "        buttonEl.style.display =\n",
              "          google.colab.kernel.accessAllowed ? 'block' : 'none';\n",
              "\n",
              "        async function convertToInteractive(key) {\n",
              "          const element = document.querySelector('#df-478a8775-1f08-44b1-a648-2f80c3f901e8');\n",
              "          const dataTable =\n",
              "            await google.colab.kernel.invokeFunction('convertToInteractive',\n",
              "                                                     [key], {});\n",
              "          if (!dataTable) return;\n",
              "\n",
              "          const docLinkHtml = 'Like what you see? Visit the ' +\n",
              "            '<a target=\"_blank\" href=https://colab.research.google.com/notebooks/data_table.ipynb>data table notebook</a>'\n",
              "            + ' to learn more about interactive tables.';\n",
              "          element.innerHTML = '';\n",
              "          dataTable['output_type'] = 'display_data';\n",
              "          await google.colab.output.renderOutput(dataTable, element);\n",
              "          const docLink = document.createElement('div');\n",
              "          docLink.innerHTML = docLinkHtml;\n",
              "          element.appendChild(docLink);\n",
              "        }\n",
              "      </script>\n",
              "    </div>\n",
              "  </div>\n"
            ]
          },
          "metadata": {},
          "execution_count": 12
        }
      ]
    },
    {
      "cell_type": "code",
      "source": [
        "list_b = ['pizza', list_a]\n",
        "list_b"
      ],
      "metadata": {
        "colab": {
          "base_uri": "https://localhost:8080/"
        },
        "id": "vPvNS7QO-5-_",
        "outputId": "8df9457c-ab31-4008-cf1d-676dded4ae80"
      },
      "execution_count": 13,
      "outputs": [
        {
          "output_type": "execute_result",
          "data": {
            "text/plain": [
              "['pizza',\n",
              " [1,\n",
              "  2,\n",
              "  3,\n",
              "  0.9,\n",
              "  'aaz',\n",
              "     Car_id         Model   Year   Value   Pera_ID\n",
              "  0     101       Bentley   1973  100000         0\n",
              "  1     102   Rolls Royce   1965  330000         0\n",
              "  2     103       Peugrot   1993     500         3]]"
            ]
          },
          "metadata": {},
          "execution_count": 13
        }
      ]
    },
    {
      "cell_type": "code",
      "source": [
        "list_b = ['pizza', list_a, 9]\n",
        "list_b"
      ],
      "metadata": {
        "colab": {
          "base_uri": "https://localhost:8080/"
        },
        "id": "-kQwY_Sx_QCz",
        "outputId": "7e958ea5-81eb-4e23-ae4c-9a6e041a5000"
      },
      "execution_count": 14,
      "outputs": [
        {
          "output_type": "execute_result",
          "data": {
            "text/plain": [
              "['pizza',\n",
              " [1,\n",
              "  2,\n",
              "  3,\n",
              "  0.9,\n",
              "  'aaz',\n",
              "     Car_id         Model   Year   Value   Pera_ID\n",
              "  0     101       Bentley   1973  100000         0\n",
              "  1     102   Rolls Royce   1965  330000         0\n",
              "  2     103       Peugrot   1993     500         3],\n",
              " 9]"
            ]
          },
          "metadata": {},
          "execution_count": 14
        }
      ]
    },
    {
      "cell_type": "code",
      "source": [
        "list_b[1][0]  #เอาlist_a ตัวที่ 0"
      ],
      "metadata": {
        "colab": {
          "base_uri": "https://localhost:8080/"
        },
        "id": "g3DaGKk__YhM",
        "outputId": "2d65a0cc-ad65-4b25-8bb1-c4b0b300e17d"
      },
      "execution_count": 15,
      "outputs": [
        {
          "output_type": "execute_result",
          "data": {
            "text/plain": [
              "1"
            ]
          },
          "metadata": {},
          "execution_count": 15
        }
      ]
    },
    {
      "cell_type": "code",
      "source": [
        "list_b[1] #เอาlist_a"
      ],
      "metadata": {
        "colab": {
          "base_uri": "https://localhost:8080/"
        },
        "id": "w59m_CHU_27F",
        "outputId": "7c56513b-d508-480d-dfc4-b15ecb0cf444"
      },
      "execution_count": 16,
      "outputs": [
        {
          "output_type": "execute_result",
          "data": {
            "text/plain": [
              "[1,\n",
              " 2,\n",
              " 3,\n",
              " 0.9,\n",
              " 'aaz',\n",
              "    Car_id         Model   Year   Value   Pera_ID\n",
              " 0     101       Bentley   1973  100000         0\n",
              " 1     102   Rolls Royce   1965  330000         0\n",
              " 2     103       Peugrot   1993     500         3]"
            ]
          },
          "metadata": {},
          "execution_count": 16
        }
      ]
    },
    {
      "cell_type": "markdown",
      "source": [
        "### - String คือ list ของตัวอักษร"
      ],
      "metadata": {
        "id": "_9A6kY1WAHzg"
      }
    },
    {
      "cell_type": "code",
      "source": [
        "x = 'shabu'\n",
        "x[-2] ##ชี้ไปที่ตัว  b"
      ],
      "metadata": {
        "colab": {
          "base_uri": "https://localhost:8080/",
          "height": 36
        },
        "id": "JcIlU7QFAKnD",
        "outputId": "e038a6f5-ada9-40a6-b89d-d46be360ea2d"
      },
      "execution_count": 17,
      "outputs": [
        {
          "output_type": "execute_result",
          "data": {
            "text/plain": [
              "'b'"
            ],
            "application/vnd.google.colaboratory.intrinsic+json": {
              "type": "string"
            }
          },
          "metadata": {},
          "execution_count": 17
        }
      ]
    },
    {
      "cell_type": "code",
      "source": [
        "print(list_a)\n",
        "print(list_b)"
      ],
      "metadata": {
        "colab": {
          "base_uri": "https://localhost:8080/"
        },
        "id": "GwWpuZ04AgVY",
        "outputId": "9b64ebcf-07e6-4de6-bc38-2f7b689dc198"
      },
      "execution_count": 18,
      "outputs": [
        {
          "output_type": "stream",
          "name": "stdout",
          "text": [
            "[1, 2, 3, 0.9, 'aaz',    Car_id         Model   Year   Value   Pera_ID\n",
            "0     101       Bentley   1973  100000         0\n",
            "1     102   Rolls Royce   1965  330000         0\n",
            "2     103       Peugrot   1993     500         3]\n",
            "['pizza', [1, 2, 3, 0.9, 'aaz',    Car_id         Model   Year   Value   Pera_ID\n",
            "0     101       Bentley   1973  100000         0\n",
            "1     102   Rolls Royce   1965  330000         0\n",
            "2     103       Peugrot   1993     500         3], 9]\n"
          ]
        }
      ]
    },
    {
      "cell_type": "code",
      "source": [
        "list_a + list_b"
      ],
      "metadata": {
        "colab": {
          "base_uri": "https://localhost:8080/"
        },
        "id": "xYHoeHF9Al5A",
        "outputId": "b240af63-7a1c-4c95-c06e-69827f48a561"
      },
      "execution_count": 19,
      "outputs": [
        {
          "output_type": "execute_result",
          "data": {
            "text/plain": [
              "[1,\n",
              " 2,\n",
              " 3,\n",
              " 0.9,\n",
              " 'aaz',\n",
              "    Car_id         Model   Year   Value   Pera_ID\n",
              " 0     101       Bentley   1973  100000         0\n",
              " 1     102   Rolls Royce   1965  330000         0\n",
              " 2     103       Peugrot   1993     500         3,\n",
              " 'pizza',\n",
              " [1,\n",
              "  2,\n",
              "  3,\n",
              "  0.9,\n",
              "  'aaz',\n",
              "     Car_id         Model   Year   Value   Pera_ID\n",
              "  0     101       Bentley   1973  100000         0\n",
              "  1     102   Rolls Royce   1965  330000         0\n",
              "  2     103       Peugrot   1993     500         3],\n",
              " 9]"
            ]
          },
          "metadata": {},
          "execution_count": 19
        }
      ]
    },
    {
      "cell_type": "markdown",
      "source": [
        "### การสร้าง list\n",
        "1. สร้าง list ว่าง\n",
        "2. เพิ่มสมาชิกเข้าไปใน list\n",
        "3. สามารถชี้ค่าใน list จากข้างหลังได้"
      ],
      "metadata": {
        "id": "KdCI1FDXAsMS"
      }
    },
    {
      "cell_type": "markdown",
      "source": [
        "1. การสร้าง list ว่าง"
      ],
      "metadata": {
        "id": "KKhkpFKkAxiG"
      }
    },
    {
      "cell_type": "code",
      "source": [
        "list_aa = []\n",
        "list_aa"
      ],
      "metadata": {
        "colab": {
          "base_uri": "https://localhost:8080/"
        },
        "id": "80l1n8z0AyRJ",
        "outputId": "de47e65e-46b0-4783-eaf5-c1bb1e14d612"
      },
      "execution_count": 20,
      "outputs": [
        {
          "output_type": "execute_result",
          "data": {
            "text/plain": [
              "[]"
            ]
          },
          "metadata": {},
          "execution_count": 20
        }
      ]
    },
    {
      "cell_type": "code",
      "source": [
        "list_bb = list()\n",
        "print(list_bb)"
      ],
      "metadata": {
        "colab": {
          "base_uri": "https://localhost:8080/"
        },
        "id": "gSF4Ir37BHTN",
        "outputId": "f5bd14ca-433b-4d17-90ec-854571d6bd4d"
      },
      "execution_count": 21,
      "outputs": [
        {
          "output_type": "stream",
          "name": "stdout",
          "text": [
            "[]\n"
          ]
        }
      ]
    },
    {
      "cell_type": "markdown",
      "source": [
        "2. การเพิ่มสมาชิกลงไปใน list (.append())"
      ],
      "metadata": {
        "id": "8A9hQ4y0BRtF"
      }
    },
    {
      "cell_type": "code",
      "source": [
        "list_aa.append('chiken')\n",
        "list_aa.append('water')\n",
        "list_aa.append('vegetable')"
      ],
      "metadata": {
        "id": "PMj6XFnBBTWl"
      },
      "execution_count": 22,
      "outputs": []
    },
    {
      "cell_type": "code",
      "source": [
        "list_aa.append('rice')"
      ],
      "metadata": {
        "id": "zGqEnS0cBiRO"
      },
      "execution_count": 23,
      "outputs": []
    },
    {
      "cell_type": "code",
      "source": [
        "list_aa"
      ],
      "metadata": {
        "colab": {
          "base_uri": "https://localhost:8080/"
        },
        "id": "d6Vnbv7cBnIE",
        "outputId": "3523a741-fe02-4068-bbfc-e07e7ba6f839"
      },
      "execution_count": 24,
      "outputs": [
        {
          "output_type": "execute_result",
          "data": {
            "text/plain": [
              "['chiken', 'water', 'vegetable', 'rice']"
            ]
          },
          "metadata": {},
          "execution_count": 24
        }
      ]
    },
    {
      "cell_type": "code",
      "source": [
        "list_aa[-1] ##ชี้จากข้างหลัง"
      ],
      "metadata": {
        "colab": {
          "base_uri": "https://localhost:8080/",
          "height": 36
        },
        "id": "tlFulZUAB4Cj",
        "outputId": "e9c826f6-a085-42d0-b619-8417fc23d99f"
      },
      "execution_count": 25,
      "outputs": [
        {
          "output_type": "execute_result",
          "data": {
            "text/plain": [
              "'rice'"
            ],
            "application/vnd.google.colaboratory.intrinsic+json": {
              "type": "string"
            }
          },
          "metadata": {},
          "execution_count": 25
        }
      ]
    },
    {
      "cell_type": "code",
      "source": [
        "list_aa[2] ##ชี้แบบปกติ (จากข้างหน้า)"
      ],
      "metadata": {
        "colab": {
          "base_uri": "https://localhost:8080/",
          "height": 36
        },
        "id": "yYuh5zLYB5eX",
        "outputId": "01c71675-8da7-42a3-9b91-0dfc2b026dac"
      },
      "execution_count": 26,
      "outputs": [
        {
          "output_type": "execute_result",
          "data": {
            "text/plain": [
              "'vegetable'"
            ],
            "application/vnd.google.colaboratory.intrinsic+json": {
              "type": "string"
            }
          },
          "metadata": {},
          "execution_count": 26
        }
      ]
    },
    {
      "cell_type": "code",
      "source": [
        "list_aa.append('plate') #ใส่เพิ่มเข้าไป\n",
        "#list_aa\n",
        "list_aa[-2]"
      ],
      "metadata": {
        "colab": {
          "base_uri": "https://localhost:8080/",
          "height": 36
        },
        "id": "ZkYJFxJ4B-lM",
        "outputId": "b989ac9c-5a9d-4067-da39-8e054c874c72"
      },
      "execution_count": 27,
      "outputs": [
        {
          "output_type": "execute_result",
          "data": {
            "text/plain": [
              "'rice'"
            ],
            "application/vnd.google.colaboratory.intrinsic+json": {
              "type": "string"
            }
          },
          "metadata": {},
          "execution_count": 27
        }
      ]
    },
    {
      "cell_type": "code",
      "source": [
        "list_aa.append('spoon')\n",
        "list_aa.append('fork')\n",
        "list_aa.append('knife')"
      ],
      "metadata": {
        "id": "FTI0hRYOHB40"
      },
      "execution_count": 28,
      "outputs": []
    },
    {
      "cell_type": "code",
      "source": [
        "list_aa.append('apple')"
      ],
      "metadata": {
        "id": "kpNyTZFVHLz-"
      },
      "execution_count": 29,
      "outputs": []
    },
    {
      "cell_type": "markdown",
      "source": [
        "### list slicing"
      ],
      "metadata": {
        "id": "-Yo_21dCCQsB"
      }
    },
    {
      "cell_type": "markdown",
      "source": [
        ": (colon)\n",
        "\n",
        "เราจะตัด list โดยเอาตั้งแต่ [ตัวหน้า:ตัวก่อนตัวหลัง]\n",
        "\n",
        "ถ้าเป็นสัญลักษณ์ทางคณิตศาสตร์ [ตัวหน้า:ตัวหลัง] -> [ตัวหน้า,ตัวหลัง)\n",
        "\n",
        "- เหมือนสัญลักษณ์ของเส้นจำนวน ตัวหน้าคือวงกลมทึบ, ตัวหลังคือวงกลมโป่ง\n",
        "\n",
        "![image.png](data:image/png;base64,iVBORw0KGgoAAAANSUhEUgAAALQAAABTCAYAAAA2jC0IAAAEUklEQVR4nO3dPWzbRhjG8b+cJlPRMAE6W/1AhwyNtoyWh2wBwqLo2jBdFGepA6TIFFiZM9iZanuxPXRt1a2bna0oiljd+oVaXQp0qpJ+oAlgMcORkSjJMhOLOh75/ADBEkXZL6yXx+PxXhJEREREREREREREREREREScVrEdQKbW+RTwo1ctbvDAZjjWbeATcgfwgC4V1mmwYzusaSpuQq+zS4U68DBasgC0aPCBxajs2aAJrBDSo8LcwDv3aNC0Fda0zR2/ioM2WKZCnR6LNKjToE6P64DP5wS2w7PkNiEMJTOEfGYnnGwUs4XeYJuQGjeoDS3vAiFmlyuxQ97hJr/ZDmMaXrMdQEY6VLjGFh7X6QKwhcczzgKPgL+tRmfHQtRCj7rJwayDyUoxE7pHhzngKats8oBDujxjFXhMjw9ZomM7xJnb5EvgKsluZgj8Ef0shGL2oZfYBnaoEBCyzxwHwCI9lkuZzACn+YSQ74eW/kuFK1biyUgx+9CxTWqEVAHo0S5tMg9a5zI93uMUv3CG7150yURERERERERERERERERERERERERERERERGzzYaiiWiQby2RYpV8DdjFFlfWs/siUHQA/2A4iRz7CfH8f2w4kpT3gL2Alzcppi2Q9YAvYx51EluLwgCamcfInrZgmoVeADhBQoHJ3cVIV+ArTS6iOW2FS1bcPrB71QWAHcllFfQ64OPD6EnAIiRL+R8CTWQZl2fvA+ej5m8AF4Efgz2hZF2hbiCuNAJg/4r014B4cX7lewyRrqIceOX+sMeC463I0gVvAG9GHB9e/RT636teBdwde3wX+B+4PLPsZ+G+WQVn2NuY7BLP3CoAv6O+1/gF+tRBXGmsk97ixh5gRkJfOQQ/YZnTLcOXgUKMcSS6OcgzmXYcJB4ZpDgq7mC16kf61lkVm7Qmmv1wFWtP8xQFmK3GlhV4GlmwHkSMXMF3JcbvxPNrD9BAyvQSyl/UfEIkcNcomIiIiIiIiJ1TF3O4ufq4pweK0OskTFs4ndLFvSZHk02+FDjCD9GUXn0tok2KCjwuKeResUT6mBYrPMLWB3zED9mI29C75nD35Uop5F6xRNUjc/rfFMRPFS8THnCTzMWdVxQHDZzb30ZcHo2d7C9GPLhuffE57tWG42HkPxzd01/vQVZh4M/oWyeT1MAdCaoWMAHMcEf+PzqKN3RkeyZJ4JXWyha4x5WmZNpRp2G4Fs0uNvYVGOaCf0FOfZ2xDWRJ63BF8k2SCi4iIiIikUZY+dNFVgWsT3v+a0eG4BUzh8zjNI5aLiIiICJyyHYDkQkB/9qHzU0il3Fr0pwPs4/iUALXQ5RZgLmT5TfT6J+Bbe+GInExc6FDDnUu7TVSWihUZbx6TzG1M33nXbjgnp4Qut8f0J2h1MCfaJs0vzz0ltAyXYTl9EU4ldLm1SI5qzKMpteIwD5PUcSmb0/WEIrEqjnc1RERERETk1TwHbL103j6AsjQAAAAASUVORK5CYII=)\n"
      ],
      "metadata": {
        "id": "UO_DW7zZEqli"
      }
    },
    {
      "cell_type": "code",
      "source": [
        "list_aa\n"
      ],
      "metadata": {
        "colab": {
          "base_uri": "https://localhost:8080/"
        },
        "id": "8WpTJ-ooEvsP",
        "outputId": "9dae0386-ac85-4210-cb59-622e5fc2ef3b"
      },
      "execution_count": 30,
      "outputs": [
        {
          "output_type": "execute_result",
          "data": {
            "text/plain": [
              "['chiken',\n",
              " 'water',\n",
              " 'vegetable',\n",
              " 'rice',\n",
              " 'plate',\n",
              " 'spoon',\n",
              " 'fork',\n",
              " 'knife',\n",
              " 'apple']"
            ]
          },
          "metadata": {},
          "execution_count": 30
        }
      ]
    },
    {
      "cell_type": "code",
      "source": [
        "list_aa[2:7:1] ##เริ่มตัวที่2 จบก่อนตัวที่7 มาทีละ1"
      ],
      "metadata": {
        "colab": {
          "base_uri": "https://localhost:8080/"
        },
        "id": "knDwYY4JHWUC",
        "outputId": "dc2c18ae-0c1d-40e5-ff62-42007b65c2e7"
      },
      "execution_count": 31,
      "outputs": [
        {
          "output_type": "execute_result",
          "data": {
            "text/plain": [
              "['vegetable', 'rice', 'plate', 'spoon', 'fork']"
            ]
          },
          "metadata": {},
          "execution_count": 31
        }
      ]
    },
    {
      "cell_type": "code",
      "source": [
        "list_aa[2:7]"
      ],
      "metadata": {
        "colab": {
          "base_uri": "https://localhost:8080/"
        },
        "id": "kcXm3hiNHrpR",
        "outputId": "bb72b4a4-c31c-4eed-e3d5-4606510d29e0"
      },
      "execution_count": 32,
      "outputs": [
        {
          "output_type": "execute_result",
          "data": {
            "text/plain": [
              "['vegetable', 'rice', 'plate', 'spoon', 'fork']"
            ]
          },
          "metadata": {},
          "execution_count": 32
        }
      ]
    },
    {
      "cell_type": "code",
      "source": [
        "list_aa[2:]"
      ],
      "metadata": {
        "colab": {
          "base_uri": "https://localhost:8080/"
        },
        "id": "5L12GtLvH3yv",
        "outputId": "4b241026-1abf-4ea8-bfb1-339754d8072d"
      },
      "execution_count": 33,
      "outputs": [
        {
          "output_type": "execute_result",
          "data": {
            "text/plain": [
              "['vegetable', 'rice', 'plate', 'spoon', 'fork', 'knife', 'apple']"
            ]
          },
          "metadata": {},
          "execution_count": 33
        }
      ]
    },
    {
      "cell_type": "code",
      "source": [
        "list_aa[:5]"
      ],
      "metadata": {
        "colab": {
          "base_uri": "https://localhost:8080/"
        },
        "id": "hgpaUacjILa_",
        "outputId": "be4f60ed-4129-4e00-be3e-a8e9b3571984"
      },
      "execution_count": 34,
      "outputs": [
        {
          "output_type": "execute_result",
          "data": {
            "text/plain": [
              "['chiken', 'water', 'vegetable', 'rice', 'plate']"
            ]
          },
          "metadata": {},
          "execution_count": 34
        }
      ]
    },
    {
      "cell_type": "code",
      "source": [
        "list_aa[:5:2] #กระโดดทีละ2"
      ],
      "metadata": {
        "colab": {
          "base_uri": "https://localhost:8080/"
        },
        "id": "EzTFM-X3IUZc",
        "outputId": "97cc1fac-2173-4d99-df54-6db5191e38d9"
      },
      "execution_count": 35,
      "outputs": [
        {
          "output_type": "execute_result",
          "data": {
            "text/plain": [
              "['chiken', 'vegetable', 'plate']"
            ]
          },
          "metadata": {},
          "execution_count": 35
        }
      ]
    },
    {
      "cell_type": "code",
      "source": [
        "list_aa[::-1] #สลับจากหลังไปหน้า"
      ],
      "metadata": {
        "colab": {
          "base_uri": "https://localhost:8080/"
        },
        "id": "W_dRD8TPInpB",
        "outputId": "b528b748-7049-46d0-d74d-ce0a0cda43ce"
      },
      "execution_count": 36,
      "outputs": [
        {
          "output_type": "execute_result",
          "data": {
            "text/plain": [
              "['apple',\n",
              " 'knife',\n",
              " 'fork',\n",
              " 'spoon',\n",
              " 'plate',\n",
              " 'rice',\n",
              " 'vegetable',\n",
              " 'water',\n",
              " 'chiken']"
            ]
          },
          "metadata": {},
          "execution_count": 36
        }
      ]
    },
    {
      "cell_type": "markdown",
      "source": [
        "##### **Quiz 1**\n",
        "\n",
        "ตัด ส่วนของ list เหล่านี้มาจาก list_aa\n",
        "\n",
        "1. 'iken'\n",
        "2. 'get'\n",
        "3. 'tab'"
      ],
      "metadata": {
        "id": "ra7BVxtMI8Iw"
      }
    },
    {
      "cell_type": "code",
      "source": [
        "list_aa[0][2:]"
      ],
      "metadata": {
        "colab": {
          "base_uri": "https://localhost:8080/",
          "height": 36
        },
        "id": "z-rQVZtlJL7A",
        "outputId": "b0aea071-7658-4286-a528-972342047e0f"
      },
      "execution_count": 37,
      "outputs": [
        {
          "output_type": "execute_result",
          "data": {
            "text/plain": [
              "'iken'"
            ],
            "application/vnd.google.colaboratory.intrinsic+json": {
              "type": "string"
            }
          },
          "metadata": {},
          "execution_count": 37
        }
      ]
    },
    {
      "cell_type": "code",
      "source": [
        "list_aa[2][2:5]"
      ],
      "metadata": {
        "colab": {
          "base_uri": "https://localhost:8080/",
          "height": 36
        },
        "id": "Iw0Jmxl1JUP3",
        "outputId": "2ac7ec92-095d-4530-f3a0-d14e09c81d9d"
      },
      "execution_count": 38,
      "outputs": [
        {
          "output_type": "execute_result",
          "data": {
            "text/plain": [
              "'get'"
            ],
            "application/vnd.google.colaboratory.intrinsic+json": {
              "type": "string"
            }
          },
          "metadata": {},
          "execution_count": 38
        }
      ]
    },
    {
      "cell_type": "code",
      "source": [
        "list_aa[2][4:7]"
      ],
      "metadata": {
        "colab": {
          "base_uri": "https://localhost:8080/",
          "height": 36
        },
        "id": "jwNm8-J_JWkl",
        "outputId": "3c1639d2-87e2-46bd-e629-a604333dbac7"
      },
      "execution_count": 39,
      "outputs": [
        {
          "output_type": "execute_result",
          "data": {
            "text/plain": [
              "'tab'"
            ],
            "application/vnd.google.colaboratory.intrinsic+json": {
              "type": "string"
            }
          },
          "metadata": {},
          "execution_count": 39
        }
      ]
    },
    {
      "cell_type": "code",
      "source": [
        "list_aa[-1][1:]"
      ],
      "metadata": {
        "colab": {
          "base_uri": "https://localhost:8080/",
          "height": 36
        },
        "id": "yk-cdIrPJYrl",
        "outputId": "9859b9a7-2b54-463e-b0e4-ad1aedeba7c8"
      },
      "execution_count": 40,
      "outputs": [
        {
          "output_type": "execute_result",
          "data": {
            "text/plain": [
              "'pple'"
            ],
            "application/vnd.google.colaboratory.intrinsic+json": {
              "type": "string"
            }
          },
          "metadata": {},
          "execution_count": 40
        }
      ]
    },
    {
      "cell_type": "code",
      "source": [
        "list_aa[1][:3]"
      ],
      "metadata": {
        "colab": {
          "base_uri": "https://localhost:8080/",
          "height": 36
        },
        "id": "-UaTRy_BJanl",
        "outputId": "1a119d90-fe8f-45f2-a934-6539e647df68"
      },
      "execution_count": 41,
      "outputs": [
        {
          "output_type": "execute_result",
          "data": {
            "text/plain": [
              "'wat'"
            ],
            "application/vnd.google.colaboratory.intrinsic+json": {
              "type": "string"
            }
          },
          "metadata": {},
          "execution_count": 41
        }
      ]
    },
    {
      "cell_type": "markdown",
      "source": [
        "## Loop\n",
        "การให้ com ทำงานที่ซ้ำๆกัน หรือทำงานที่คล้ายๆกันหลายๆรอบ\n",
        "\n",
        "indent\n",
        "\n",
        "``` python\n",
        "for ตัวแปรที่เราจะรับค่าจาก list in list ที่ต้องการจะวนลูป :\n",
        "    do something\n",
        "    do another thing\n",
        "\n",
        "this is outside the loop\n",
        "\n",
        "```"
      ],
      "metadata": {
        "id": "JSEHj2OfJdyd"
      }
    },
    {
      "cell_type": "code",
      "source": [
        "list_aa"
      ],
      "metadata": {
        "colab": {
          "base_uri": "https://localhost:8080/"
        },
        "id": "I4UGs-1IJe-D",
        "outputId": "8e5b1731-f67c-4399-b573-b13e8e59bb20"
      },
      "execution_count": 42,
      "outputs": [
        {
          "output_type": "execute_result",
          "data": {
            "text/plain": [
              "['chiken',\n",
              " 'water',\n",
              " 'vegetable',\n",
              " 'rice',\n",
              " 'plate',\n",
              " 'spoon',\n",
              " 'fork',\n",
              " 'knife',\n",
              " 'apple']"
            ]
          },
          "metadata": {},
          "execution_count": 42
        }
      ]
    },
    {
      "cell_type": "code",
      "source": [
        "for each in list_aa:\n",
        "    print (each)"
      ],
      "metadata": {
        "colab": {
          "base_uri": "https://localhost:8080/"
        },
        "id": "ayF6lETuKWnW",
        "outputId": "75c2c6f8-45bf-42a8-d734-a2456fee8cd2"
      },
      "execution_count": 43,
      "outputs": [
        {
          "output_type": "stream",
          "name": "stdout",
          "text": [
            "chiken\n",
            "water\n",
            "vegetable\n",
            "rice\n",
            "plate\n",
            "spoon\n",
            "fork\n",
            "knife\n",
            "apple\n"
          ]
        }
      ]
    },
    {
      "cell_type": "code",
      "source": [
        "for i in [1,2,3]:\n",
        "    print (i, end='')\n",
        "    print('xxx')"
      ],
      "metadata": {
        "colab": {
          "base_uri": "https://localhost:8080/"
        },
        "id": "SMFb_NR2Kv8l",
        "outputId": "c0f9248e-f629-42da-b985-25fd54a4ebc0"
      },
      "execution_count": 44,
      "outputs": [
        {
          "output_type": "stream",
          "name": "stdout",
          "text": [
            "1xxx\n",
            "2xxx\n",
            "3xxx\n"
          ]
        }
      ]
    },
    {
      "cell_type": "markdown",
      "source": [
        "ทำงานคล้ายๆกัน"
      ],
      "metadata": {
        "id": "k4WG1Sd-LalC"
      }
    },
    {
      "cell_type": "code",
      "source": [
        "for i in list_aa:\n",
        "    print(f'now i is {i}')\n",
        "    print(f'I like to eat {i}\\n//////////')"
      ],
      "metadata": {
        "colab": {
          "base_uri": "https://localhost:8080/"
        },
        "id": "U622AC1YLW16",
        "outputId": "15498714-a9f2-43b5-ae5e-620b443ca066"
      },
      "execution_count": 45,
      "outputs": [
        {
          "output_type": "stream",
          "name": "stdout",
          "text": [
            "now i is chiken\n",
            "I like to eat chiken\n",
            "//////////\n",
            "now i is water\n",
            "I like to eat water\n",
            "//////////\n",
            "now i is vegetable\n",
            "I like to eat vegetable\n",
            "//////////\n",
            "now i is rice\n",
            "I like to eat rice\n",
            "//////////\n",
            "now i is plate\n",
            "I like to eat plate\n",
            "//////////\n",
            "now i is spoon\n",
            "I like to eat spoon\n",
            "//////////\n",
            "now i is fork\n",
            "I like to eat fork\n",
            "//////////\n",
            "now i is knife\n",
            "I like to eat knife\n",
            "//////////\n",
            "now i is apple\n",
            "I like to eat apple\n",
            "//////////\n"
          ]
        }
      ]
    },
    {
      "cell_type": "code",
      "source": [
        "list(range(10))"
      ],
      "metadata": {
        "colab": {
          "base_uri": "https://localhost:8080/"
        },
        "id": "R5bkZff7MMgX",
        "outputId": "46c96c0f-e1f8-4ede-9ea9-a71e1798ce4c"
      },
      "execution_count": 46,
      "outputs": [
        {
          "output_type": "execute_result",
          "data": {
            "text/plain": [
              "[0, 1, 2, 3, 4, 5, 6, 7, 8, 9]"
            ]
          },
          "metadata": {},
          "execution_count": 46
        }
      ]
    },
    {
      "cell_type": "code",
      "source": [
        "list(range(10,20,2))  #เริ่ม 10 จบก่อน 20 กระโดดทีละ 2"
      ],
      "metadata": {
        "colab": {
          "base_uri": "https://localhost:8080/"
        },
        "id": "MHyMpNjBMwT6",
        "outputId": "9ebfe81e-f73f-4b09-f87b-d46567366d06"
      },
      "execution_count": 47,
      "outputs": [
        {
          "output_type": "execute_result",
          "data": {
            "text/plain": [
              "[10, 12, 14, 16, 18]"
            ]
          },
          "metadata": {},
          "execution_count": 47
        }
      ]
    },
    {
      "cell_type": "code",
      "source": [
        "for i in range(100):\n",
        "    print(f'Ha{i}',end='')"
      ],
      "metadata": {
        "colab": {
          "base_uri": "https://localhost:8080/"
        },
        "id": "2iRRbs4UMmMd",
        "outputId": "2c40043b-4690-4b6b-eca3-15f113cc832d"
      },
      "execution_count": 48,
      "outputs": [
        {
          "output_type": "stream",
          "name": "stdout",
          "text": [
            "Ha0Ha1Ha2Ha3Ha4Ha5Ha6Ha7Ha8Ha9Ha10Ha11Ha12Ha13Ha14Ha15Ha16Ha17Ha18Ha19Ha20Ha21Ha22Ha23Ha24Ha25Ha26Ha27Ha28Ha29Ha30Ha31Ha32Ha33Ha34Ha35Ha36Ha37Ha38Ha39Ha40Ha41Ha42Ha43Ha44Ha45Ha46Ha47Ha48Ha49Ha50Ha51Ha52Ha53Ha54Ha55Ha56Ha57Ha58Ha59Ha60Ha61Ha62Ha63Ha64Ha65Ha66Ha67Ha68Ha69Ha70Ha71Ha72Ha73Ha74Ha75Ha76Ha77Ha78Ha79Ha80Ha81Ha82Ha83Ha84Ha85Ha86Ha87Ha88Ha89Ha90Ha91Ha92Ha93Ha94Ha95Ha96Ha97Ha98Ha99"
          ]
        }
      ]
    },
    {
      "cell_type": "markdown",
      "source": [
        "### Nested loop\n",
        "\n",
        "- loop ซ้อน loop"
      ],
      "metadata": {
        "id": "M3AsVKpAsVIJ"
      }
    },
    {
      "cell_type": "code",
      "source": [
        "for i in range(3):\n",
        "    print(f'i = {i}')\n",
        "    for j in range(2):\n",
        "      print(f'i = {i}, j = {j}, i+j = {i+j}')"
      ],
      "metadata": {
        "id": "54-JkISssXFu",
        "outputId": "6247f194-e216-47e6-c84c-92971966adb0",
        "colab": {
          "base_uri": "https://localhost:8080/"
        }
      },
      "execution_count": 49,
      "outputs": [
        {
          "output_type": "stream",
          "name": "stdout",
          "text": [
            "i = 0\n",
            "i = 0, j = 0, i+j = 0\n",
            "i = 0, j = 1, i+j = 1\n",
            "i = 1\n",
            "i = 1, j = 0, i+j = 1\n",
            "i = 1, j = 1, i+j = 2\n",
            "i = 2\n",
            "i = 2, j = 0, i+j = 2\n",
            "i = 2, j = 1, i+j = 3\n"
          ]
        }
      ]
    },
    {
      "cell_type": "markdown",
      "source": [
        "Ex\n",
        "\n",
        "สร้าง list\n",
        "[[1],[1,1], [1,1,1],...,[1,1,1,1,1,1,1,1,1,1] โดยใช้ for loop"
      ],
      "metadata": {
        "id": "54hCD2u7tWK4"
      }
    },
    {
      "cell_type": "code",
      "source": [
        "list_A = []\n",
        "for i in range(10):\n",
        "  AA = []\n",
        "  for j in range(i+1):\n",
        "      A=1\n",
        "      AA.append(A)\n",
        "  list_A.append(AA)"
      ],
      "metadata": {
        "id": "125Si1pvtfVD"
      },
      "execution_count": null,
      "outputs": []
    },
    {
      "cell_type": "code",
      "source": [
        "list_A = []\n",
        "for i in range(10):\n",
        "   AA = []\n",
        "   for j in range(i+1):\n",
        "      A=1\n",
        "      AA.append(A)\n",
        "   list_A.append(AA)"
      ],
      "metadata": {
        "id": "SCUarht4v8gv"
      },
      "execution_count": 52,
      "outputs": []
    },
    {
      "cell_type": "code",
      "source": [
        "list_A"
      ],
      "metadata": {
        "id": "tFhWJt7Yv-XE",
        "outputId": "eecdeaa2-edeb-407e-e684-e5fd4558946f",
        "colab": {
          "base_uri": "https://localhost:8080/"
        }
      },
      "execution_count": 53,
      "outputs": [
        {
          "output_type": "execute_result",
          "data": {
            "text/plain": [
              "[[1],\n",
              " [1, 1],\n",
              " [1, 1, 1],\n",
              " [1, 1, 1, 1],\n",
              " [1, 1, 1, 1, 1],\n",
              " [1, 1, 1, 1, 1, 1],\n",
              " [1, 1, 1, 1, 1, 1, 1],\n",
              " [1, 1, 1, 1, 1, 1, 1, 1],\n",
              " [1, 1, 1, 1, 1, 1, 1, 1, 1],\n",
              " [1, 1, 1, 1, 1, 1, 1, 1, 1, 1]]"
            ]
          },
          "metadata": {},
          "execution_count": 53
        }
      ]
    },
    {
      "cell_type": "code",
      "source": [
        "##answer\n",
        "list_ans = []\n",
        "print(f'list_ans = {list_ans}')\n",
        "for i in range(1, 11):\n",
        "    temp = []\n",
        "    #print(f'temp = {temp}')\n",
        "    for j in range(i):\n",
        "        temp.append(1)\n",
        "    print(f'i = {i} j = {j} : temp = {temp}')\n",
        "    list_ans.append(temp)\n",
        "    print(f'list_ans = {list_ans} \\n ---------')\n",
        "\n",
        "print(list_ans)"
      ],
      "metadata": {
        "id": "CxrR7LKSu6zG",
        "outputId": "930b5f00-a090-4433-c41d-3d5c9a0f85a1",
        "colab": {
          "base_uri": "https://localhost:8080/"
        }
      },
      "execution_count": 55,
      "outputs": [
        {
          "output_type": "stream",
          "name": "stdout",
          "text": [
            "list_ans = []\n",
            "i = 1 j = 0 : temp = [1]\n",
            "list_ans = [[1]] \n",
            " ---------\n",
            "i = 2 j = 1 : temp = [1, 1]\n",
            "list_ans = [[1], [1, 1]] \n",
            " ---------\n",
            "i = 3 j = 2 : temp = [1, 1, 1]\n",
            "list_ans = [[1], [1, 1], [1, 1, 1]] \n",
            " ---------\n",
            "i = 4 j = 3 : temp = [1, 1, 1, 1]\n",
            "list_ans = [[1], [1, 1], [1, 1, 1], [1, 1, 1, 1]] \n",
            " ---------\n",
            "i = 5 j = 4 : temp = [1, 1, 1, 1, 1]\n",
            "list_ans = [[1], [1, 1], [1, 1, 1], [1, 1, 1, 1], [1, 1, 1, 1, 1]] \n",
            " ---------\n",
            "i = 6 j = 5 : temp = [1, 1, 1, 1, 1, 1]\n",
            "list_ans = [[1], [1, 1], [1, 1, 1], [1, 1, 1, 1], [1, 1, 1, 1, 1], [1, 1, 1, 1, 1, 1]] \n",
            " ---------\n",
            "i = 7 j = 6 : temp = [1, 1, 1, 1, 1, 1, 1]\n",
            "list_ans = [[1], [1, 1], [1, 1, 1], [1, 1, 1, 1], [1, 1, 1, 1, 1], [1, 1, 1, 1, 1, 1], [1, 1, 1, 1, 1, 1, 1]] \n",
            " ---------\n",
            "i = 8 j = 7 : temp = [1, 1, 1, 1, 1, 1, 1, 1]\n",
            "list_ans = [[1], [1, 1], [1, 1, 1], [1, 1, 1, 1], [1, 1, 1, 1, 1], [1, 1, 1, 1, 1, 1], [1, 1, 1, 1, 1, 1, 1], [1, 1, 1, 1, 1, 1, 1, 1]] \n",
            " ---------\n",
            "i = 9 j = 8 : temp = [1, 1, 1, 1, 1, 1, 1, 1, 1]\n",
            "list_ans = [[1], [1, 1], [1, 1, 1], [1, 1, 1, 1], [1, 1, 1, 1, 1], [1, 1, 1, 1, 1, 1], [1, 1, 1, 1, 1, 1, 1], [1, 1, 1, 1, 1, 1, 1, 1], [1, 1, 1, 1, 1, 1, 1, 1, 1]] \n",
            " ---------\n",
            "i = 10 j = 9 : temp = [1, 1, 1, 1, 1, 1, 1, 1, 1, 1]\n",
            "list_ans = [[1], [1, 1], [1, 1, 1], [1, 1, 1, 1], [1, 1, 1, 1, 1], [1, 1, 1, 1, 1, 1], [1, 1, 1, 1, 1, 1, 1], [1, 1, 1, 1, 1, 1, 1, 1], [1, 1, 1, 1, 1, 1, 1, 1, 1], [1, 1, 1, 1, 1, 1, 1, 1, 1, 1]] \n",
            " ---------\n",
            "[[1], [1, 1], [1, 1, 1], [1, 1, 1, 1], [1, 1, 1, 1, 1], [1, 1, 1, 1, 1, 1], [1, 1, 1, 1, 1, 1, 1], [1, 1, 1, 1, 1, 1, 1, 1], [1, 1, 1, 1, 1, 1, 1, 1, 1], [1, 1, 1, 1, 1, 1, 1, 1, 1, 1]]\n"
          ]
        }
      ]
    },
    {
      "cell_type": "markdown",
      "source": [
        "Quiz 2\n",
        "create a list\n",
        "[[a],[a,b], [a,b,c],...,[a,b,c,d,f,g,h,i] wiht for loop"
      ],
      "metadata": {
        "id": "eGDTgNguwJuZ"
      }
    },
    {
      "cell_type": "code",
      "source": [
        "q2 = ['a','b','c','d','e','f','g','h','i','j']\n",
        "list_q = []\n",
        "q2 [0]\n",
        "for i in range(10):\n",
        "   AA = []\n",
        "   for j in range(i):\n",
        "      AA.append (:j)\n",
        "   list_A.append(AA)"
      ],
      "metadata": {
        "id": "ZIjeUntdxSyp",
        "outputId": "0e8b7897-4eab-4bbb-d46a-420ecc5dfa30",
        "colab": {
          "base_uri": "https://localhost:8080/",
          "height": 132
        }
      },
      "execution_count": 70,
      "outputs": [
        {
          "output_type": "error",
          "ename": "SyntaxError",
          "evalue": "ignored",
          "traceback": [
            "\u001b[0;36m  File \u001b[0;32m\"<ipython-input-70-0e1d9b9091e1>\"\u001b[0;36m, line \u001b[0;32m7\u001b[0m\n\u001b[0;31m    AA.append q2(0:j)\u001b[0m\n\u001b[0m              ^\u001b[0m\n\u001b[0;31mSyntaxError\u001b[0m\u001b[0;31m:\u001b[0m invalid syntax\n"
          ]
        }
      ]
    },
    {
      "cell_type": "code",
      "source": [
        "print(list_q)"
      ],
      "metadata": {
        "id": "NvTFl8wvyJuw",
        "outputId": "f1e6bf6d-39de-415b-dd29-df486f880dfa",
        "colab": {
          "base_uri": "https://localhost:8080/"
        }
      },
      "execution_count": 68,
      "outputs": [
        {
          "output_type": "stream",
          "name": "stdout",
          "text": [
            "[]\n"
          ]
        }
      ]
    }
  ]
}