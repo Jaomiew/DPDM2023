{
  "nbformat": 4,
  "nbformat_minor": 0,
  "metadata": {
    "colab": {
      "provenance": [],
      "authorship_tag": "ABX9TyOZLYaubmkbKpIq9iJQP9V6",
      "include_colab_link": true
    },
    "kernelspec": {
      "name": "python3",
      "display_name": "Python 3"
    },
    "language_info": {
      "name": "python"
    }
  },
  "cells": [
    {
      "cell_type": "markdown",
      "metadata": {
        "id": "view-in-github",
        "colab_type": "text"
      },
      "source": [
        "<a href=\"https://colab.research.google.com/github/Jaomiew/DPDM2023/blob/main/Python101.ipynb\" target=\"_parent\"><img src=\"https://colab.research.google.com/assets/colab-badge.svg\" alt=\"Open In Colab\"/></a>"
      ]
    },
    {
      "cell_type": "markdown",
      "source": [
        "#String manipulation and Print statement"
      ],
      "metadata": {
        "id": "mCtuCCZt43sA"
      }
    },
    {
      "cell_type": "markdown",
      "source": [
        "##Python example"
      ],
      "metadata": {
        "id": "PtaqtPLF503E"
      }
    },
    {
      "cell_type": "code",
      "source": [
        "for i in ['a','b','c']:\n",
        "    print(i,end=' ')\n",
        "    print('/')\n",
        "    for j in range (10):\n",
        "        ccc=10"
      ],
      "metadata": {
        "colab": {
          "base_uri": "https://localhost:8080/"
        },
        "id": "uUP_bKqB9xmI",
        "outputId": "da10a60f-3831-40e5-a988-9d0482ff41af"
      },
      "execution_count": 14,
      "outputs": [
        {
          "output_type": "stream",
          "name": "stdout",
          "text": [
            "a /\n",
            "b /\n",
            "c /\n"
          ]
        }
      ]
    },
    {
      "cell_type": "code",
      "execution_count": 13,
      "metadata": {
        "colab": {
          "base_uri": "https://localhost:8080/"
        },
        "id": "kh4nQEaqzWwz",
        "outputId": "b15d6b54-56a9-4aee-e82c-d90efd7efc78"
      },
      "outputs": [
        {
          "output_type": "stream",
          "name": "stdout",
          "text": [
            "a /\n",
            "10\n",
            "10\n",
            "10\n",
            "10\n",
            "10\n",
            "10\n",
            "10\n",
            "10\n",
            "10\n",
            "10\n",
            "b /\n",
            "10\n",
            "10\n",
            "10\n",
            "10\n",
            "10\n",
            "10\n",
            "10\n",
            "10\n",
            "10\n",
            "10\n",
            "c /\n",
            "10\n",
            "10\n",
            "10\n",
            "10\n",
            "10\n",
            "10\n",
            "10\n",
            "10\n",
            "10\n",
            "10\n"
          ]
        }
      ],
      "source": [
        "for i in ['a','b','c']:\n",
        "    print(i,end=' ')\n",
        "    print('/')\n",
        "    for j in range (10):\n",
        "        ccc=10\n",
        "        print(ccc)"
      ]
    },
    {
      "cell_type": "markdown",
      "source": [
        "##Srting (text)"
      ],
      "metadata": {
        "id": "E6yk0xye7T2n"
      }
    },
    {
      "cell_type": "code",
      "source": [
        "text1 = \"Stat\""
      ],
      "metadata": {
        "id": "AG4QJESe7ZhJ"
      },
      "execution_count": 2,
      "outputs": []
    },
    {
      "cell_type": "code",
      "source": [
        "text2 = 'KKU'"
      ],
      "metadata": {
        "id": "6UEtXeuI7hhv"
      },
      "execution_count": 6,
      "outputs": []
    },
    {
      "cell_type": "code",
      "source": [
        "print(text1)"
      ],
      "metadata": {
        "colab": {
          "base_uri": "https://localhost:8080/"
        },
        "id": "aB6RuajP7nQB",
        "outputId": "c2018cbc-327c-4640-9448-762981807746"
      },
      "execution_count": 7,
      "outputs": [
        {
          "output_type": "stream",
          "name": "stdout",
          "text": [
            "Stat\n"
          ]
        }
      ]
    },
    {
      "cell_type": "code",
      "source": [
        "print(text1 + text2)"
      ],
      "metadata": {
        "colab": {
          "base_uri": "https://localhost:8080/"
        },
        "id": "h9NDcAHC8Vxy",
        "outputId": "262c1e89-ab35-4376-d548-9468e6b33faa"
      },
      "execution_count": 8,
      "outputs": [
        {
          "output_type": "stream",
          "name": "stdout",
          "text": [
            "StatKKU\n"
          ]
        }
      ]
    },
    {
      "cell_type": "code",
      "source": [
        "print(text1 + 5)"
      ],
      "metadata": {
        "colab": {
          "base_uri": "https://localhost:8080/",
          "height": 165
        },
        "id": "Kvcd_sL6801t",
        "outputId": "629f6a84-c20b-4c02-d063-22351c935abc"
      },
      "execution_count": 9,
      "outputs": [
        {
          "output_type": "error",
          "ename": "TypeError",
          "evalue": "ignored",
          "traceback": [
            "\u001b[0;31m---------------------------------------------------------------------------\u001b[0m",
            "\u001b[0;31mTypeError\u001b[0m                                 Traceback (most recent call last)",
            "\u001b[0;32m<ipython-input-9-bc6446dfb353>\u001b[0m in \u001b[0;36m<cell line: 1>\u001b[0;34m()\u001b[0m\n\u001b[0;32m----> 1\u001b[0;31m \u001b[0mprint\u001b[0m\u001b[0;34m(\u001b[0m\u001b[0mtext1\u001b[0m \u001b[0;34m+\u001b[0m \u001b[0;36m5\u001b[0m\u001b[0;34m)\u001b[0m\u001b[0;34m\u001b[0m\u001b[0;34m\u001b[0m\u001b[0m\n\u001b[0m",
            "\u001b[0;31mTypeError\u001b[0m: can only concatenate str (not \"int\") to str"
          ]
        }
      ]
    },
    {
      "cell_type": "code",
      "source": [
        "print(5 + text1)"
      ],
      "metadata": {
        "colab": {
          "base_uri": "https://localhost:8080/",
          "height": 165
        },
        "id": "oEf4IRqN87yv",
        "outputId": "e4272414-aae8-430e-9035-70f54c16dc0d"
      },
      "execution_count": 10,
      "outputs": [
        {
          "output_type": "error",
          "ename": "TypeError",
          "evalue": "ignored",
          "traceback": [
            "\u001b[0;31m---------------------------------------------------------------------------\u001b[0m",
            "\u001b[0;31mTypeError\u001b[0m                                 Traceback (most recent call last)",
            "\u001b[0;32m<ipython-input-10-315351ee8dfd>\u001b[0m in \u001b[0;36m<cell line: 1>\u001b[0;34m()\u001b[0m\n\u001b[0;32m----> 1\u001b[0;31m \u001b[0mprint\u001b[0m\u001b[0;34m(\u001b[0m\u001b[0;36m5\u001b[0m \u001b[0;34m+\u001b[0m \u001b[0mtext1\u001b[0m\u001b[0;34m)\u001b[0m\u001b[0;34m\u001b[0m\u001b[0;34m\u001b[0m\u001b[0m\n\u001b[0m",
            "\u001b[0;31mTypeError\u001b[0m: unsupported operand type(s) for +: 'int' and 'str'"
          ]
        }
      ]
    },
    {
      "cell_type": "markdown",
      "source": [
        "#Variable"
      ],
      "metadata": {
        "id": "_i_4SIF7914O"
      }
    },
    {
      "cell_type": "code",
      "source": [
        "a = 5  #int\n",
        "print(a)"
      ],
      "metadata": {
        "colab": {
          "base_uri": "https://localhost:8080/"
        },
        "id": "xddWrAJy9731",
        "outputId": "df0b5fa6-e0cd-4c4c-eb6b-c002eacbc72b"
      },
      "execution_count": 17,
      "outputs": [
        {
          "output_type": "stream",
          "name": "stdout",
          "text": [
            "5\n"
          ]
        }
      ]
    },
    {
      "cell_type": "code",
      "source": [
        "b = 5.7 #float\n",
        "print(b)"
      ],
      "metadata": {
        "colab": {
          "base_uri": "https://localhost:8080/"
        },
        "id": "s6T_MdbU-EIi",
        "outputId": "c74ad3c5-5788-4bec-b18c-0a66b95c2f65"
      },
      "execution_count": 18,
      "outputs": [
        {
          "output_type": "stream",
          "name": "stdout",
          "text": [
            "5.7\n"
          ]
        }
      ]
    },
    {
      "cell_type": "code",
      "source": [
        "c = a-b\n",
        "print(c)"
      ],
      "metadata": {
        "colab": {
          "base_uri": "https://localhost:8080/"
        },
        "id": "G5wlvjFN-Ly4",
        "outputId": "fa808f88-5a53-4639-8b28-667b5ebf5983"
      },
      "execution_count": 19,
      "outputs": [
        {
          "output_type": "stream",
          "name": "stdout",
          "text": [
            "-0.7000000000000002\n"
          ]
        }
      ]
    },
    {
      "cell_type": "markdown",
      "source": [
        "## ข้อกำหนดในการตั้งชื่อตัวแปร\n",
        "1. ตั้งให้สื่อความหมาย\n",
        "2. ตั้งให้เป็นภาษาอังกฤษ\n",
        "3. ใช้ตัวเลขผสมกับตัวหนังสือได้ แต่ห้ามขึ้นต้นด้วยตัวเลข\n",
        "4. ห้ามมีเว้นวรรคในชื่อตัวแปร\n",
        "5. ตัวใหญ่ ตัวเล็กค่าไม่เท่ากัน\n",
        "\n",
        "##variable naming rules\n",
        "\n",
        "\n",
        "1.   Try to use meaningful word\n",
        "2.   Do it in English\n",
        "3.   You can use number in variable name the name connot atart with number\n",
        "4.   there should be no space in the name\n",
        "5.   variable name is case-sensitive (Abc is not equal to ABC)\n",
        "\n"
      ],
      "metadata": {
        "id": "KBO0SmUs-icT"
      }
    },
    {
      "cell_type": "markdown",
      "source": [
        "##Advanced printing"
      ],
      "metadata": {
        "id": "UOhJFXJj_6Sx"
      }
    },
    {
      "cell_type": "code",
      "source": [
        "print(f'six plus five = {6+5}')"
      ],
      "metadata": {
        "colab": {
          "base_uri": "https://localhost:8080/"
        },
        "id": "L47nlbIL_rCr",
        "outputId": "391ce976-12be-41a3-8e9c-2575bd7d67dc"
      },
      "execution_count": 20,
      "outputs": [
        {
          "output_type": "stream",
          "name": "stdout",
          "text": [
            "six plus five = 11\n"
          ]
        }
      ]
    },
    {
      "cell_type": "code",
      "source": [
        "print(f'six plus five = {6+5:.2f}')"
      ],
      "metadata": {
        "colab": {
          "base_uri": "https://localhost:8080/"
        },
        "id": "5xIOa1oCAsJt",
        "outputId": "888c1121-837d-4e8d-9984-720517248e0e"
      },
      "execution_count": 23,
      "outputs": [
        {
          "output_type": "stream",
          "name": "stdout",
          "text": [
            "six plus five = 11.00\n"
          ]
        }
      ]
    },
    {
      "cell_type": "code",
      "source": [
        "print(f'six plus five = {6+5:.2f}%')"
      ],
      "metadata": {
        "colab": {
          "base_uri": "https://localhost:8080/"
        },
        "id": "QCFu_-wqBWSd",
        "outputId": "323b8fd8-2564-4f6e-8a31-d46510cbb5ea"
      },
      "execution_count": 25,
      "outputs": [
        {
          "output_type": "stream",
          "name": "stdout",
          "text": [
            "six plus five = 11.00%\n"
          ]
        }
      ]
    },
    {
      "cell_type": "code",
      "source": [
        "print(f'six plus five = {6+5:3.0f}%')"
      ],
      "metadata": {
        "colab": {
          "base_uri": "https://localhost:8080/"
        },
        "id": "prnc9nohBhUf",
        "outputId": "7539fd13-0a13-4874-b787-d4881588f1bb"
      },
      "execution_count": 26,
      "outputs": [
        {
          "output_type": "stream",
          "name": "stdout",
          "text": [
            "six plus five =  11%\n"
          ]
        }
      ]
    },
    {
      "cell_type": "code",
      "source": [
        "print(f'six plus five = {6+5:03d}')"
      ],
      "metadata": {
        "colab": {
          "base_uri": "https://localhost:8080/"
        },
        "id": "BciWEVplB-sA",
        "outputId": "ac56d5e8-5717-457b-a72a-2f2ebeacbbe7"
      },
      "execution_count": 27,
      "outputs": [
        {
          "output_type": "stream",
          "name": "stdout",
          "text": [
            "six plus five = 011\n"
          ]
        }
      ]
    },
    {
      "cell_type": "code",
      "source": [
        "st1 = f'six plus five = {6+5:03d}'"
      ],
      "metadata": {
        "id": "jgUMNiZyCKZF"
      },
      "execution_count": 28,
      "outputs": []
    },
    {
      "cell_type": "code",
      "source": [
        "st1"
      ],
      "metadata": {
        "colab": {
          "base_uri": "https://localhost:8080/",
          "height": 36
        },
        "id": "3mgLD1e0CU1m",
        "outputId": "1f58dd89-ce9d-44ef-84f7-f5212e05cd4d"
      },
      "execution_count": 29,
      "outputs": [
        {
          "output_type": "execute_result",
          "data": {
            "text/plain": [
              "'six plus five = 011'"
            ],
            "application/vnd.google.colaboratory.intrinsic+json": {
              "type": "string"
            }
          },
          "metadata": {},
          "execution_count": 29
        }
      ]
    }
  ]
}