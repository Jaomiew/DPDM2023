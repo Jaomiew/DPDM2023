{
  "nbformat": 4,
  "nbformat_minor": 0,
  "metadata": {
    "colab": {
      "provenance": [],
      "authorship_tag": "ABX9TyP09uZnqas6GphvC7aoJyj6",
      "include_colab_link": true
    },
    "kernelspec": {
      "name": "python3",
      "display_name": "Python 3"
    },
    "language_info": {
      "name": "python"
    }
  },
  "cells": [
    {
      "cell_type": "markdown",
      "metadata": {
        "id": "view-in-github",
        "colab_type": "text"
      },
      "source": [
        "<a href=\"https://colab.research.google.com/github/Jaomiew/DPDM2023/blob/main/Python101.ipynb\" target=\"_parent\"><img src=\"https://colab.research.google.com/assets/colab-badge.svg\" alt=\"Open In Colab\"/></a>"
      ]
    },
    {
      "cell_type": "markdown",
      "source": [
        "#String manipulation and Print statement"
      ],
      "metadata": {
        "id": "mCtuCCZt43sA"
      }
    },
    {
      "cell_type": "markdown",
      "source": [
        "##Python example"
      ],
      "metadata": {
        "id": "PtaqtPLF503E"
      }
    },
    {
      "cell_type": "code",
      "source": [
        "for i in ['a','b','c']:\n",
        "    print(i,end=' ')\n",
        "    print('/')\n",
        "    for j in range (10):\n",
        "        ccc=10"
      ],
      "metadata": {
        "colab": {
          "base_uri": "https://localhost:8080/"
        },
        "id": "uUP_bKqB9xmI",
        "outputId": "723e5e64-4908-4e82-a835-ea5666e65de4"
      },
      "execution_count": 1,
      "outputs": [
        {
          "output_type": "stream",
          "name": "stdout",
          "text": [
            "a /\n",
            "b /\n",
            "c /\n"
          ]
        }
      ]
    },
    {
      "cell_type": "code",
      "execution_count": 2,
      "metadata": {
        "colab": {
          "base_uri": "https://localhost:8080/"
        },
        "id": "kh4nQEaqzWwz",
        "outputId": "be258ba1-bb1f-47d7-da57-a264010ddc53"
      },
      "outputs": [
        {
          "output_type": "stream",
          "name": "stdout",
          "text": [
            "a /\n",
            "10\n",
            "10\n",
            "10\n",
            "10\n",
            "10\n",
            "10\n",
            "10\n",
            "10\n",
            "10\n",
            "10\n",
            "b /\n",
            "10\n",
            "10\n",
            "10\n",
            "10\n",
            "10\n",
            "10\n",
            "10\n",
            "10\n",
            "10\n",
            "10\n",
            "c /\n",
            "10\n",
            "10\n",
            "10\n",
            "10\n",
            "10\n",
            "10\n",
            "10\n",
            "10\n",
            "10\n",
            "10\n"
          ]
        }
      ],
      "source": [
        "for i in ['a','b','c']:\n",
        "    print(i,end=' ')\n",
        "    print('/')\n",
        "    for j in range (10):\n",
        "        ccc=10\n",
        "        print(ccc)"
      ]
    },
    {
      "cell_type": "markdown",
      "source": [
        "##Srting (text)"
      ],
      "metadata": {
        "id": "E6yk0xye7T2n"
      }
    },
    {
      "cell_type": "code",
      "source": [
        "text1 = \"Stat\"  #กำหนดค่าตัวแปรใน text1"
      ],
      "metadata": {
        "id": "AG4QJESe7ZhJ"
      },
      "execution_count": 3,
      "outputs": []
    },
    {
      "cell_type": "code",
      "source": [
        "text2 = 'KKU'"
      ],
      "metadata": {
        "id": "6UEtXeuI7hhv"
      },
      "execution_count": 4,
      "outputs": []
    },
    {
      "cell_type": "code",
      "source": [
        "print(text1)  #แสดงค่าของตัวแปรออกมา"
      ],
      "metadata": {
        "colab": {
          "base_uri": "https://localhost:8080/"
        },
        "id": "aB6RuajP7nQB",
        "outputId": "8010095f-c6e7-4cb3-9fe1-1bf4818f351a"
      },
      "execution_count": 5,
      "outputs": [
        {
          "output_type": "stream",
          "name": "stdout",
          "text": [
            "Stat\n"
          ]
        }
      ]
    },
    {
      "cell_type": "code",
      "source": [
        "print(text1 + text2) #แสดงค่า text1 และ text2"
      ],
      "metadata": {
        "colab": {
          "base_uri": "https://localhost:8080/"
        },
        "id": "h9NDcAHC8Vxy",
        "outputId": "a7012f3a-c650-4217-babf-c9debfac522d"
      },
      "execution_count": 6,
      "outputs": [
        {
          "output_type": "stream",
          "name": "stdout",
          "text": [
            "StatKKU\n"
          ]
        }
      ]
    },
    {
      "cell_type": "code",
      "source": [
        "print(text1 + 5)  # ไม่สามารถ + ข้อมูลต่างชนิดกันได้"
      ],
      "metadata": {
        "colab": {
          "base_uri": "https://localhost:8080/",
          "height": 167
        },
        "id": "Kvcd_sL6801t",
        "outputId": "0aaf85a0-e83e-4cf1-efc3-e0ece82bb646"
      },
      "execution_count": 7,
      "outputs": [
        {
          "output_type": "error",
          "ename": "TypeError",
          "evalue": "ignored",
          "traceback": [
            "\u001b[0;31m---------------------------------------------------------------------------\u001b[0m",
            "\u001b[0;31mTypeError\u001b[0m                                 Traceback (most recent call last)",
            "\u001b[0;32m<ipython-input-7-f47e1ebe2df1>\u001b[0m in \u001b[0;36m<cell line: 1>\u001b[0;34m()\u001b[0m\n\u001b[0;32m----> 1\u001b[0;31m \u001b[0mprint\u001b[0m\u001b[0;34m(\u001b[0m\u001b[0mtext1\u001b[0m \u001b[0;34m+\u001b[0m \u001b[0;36m5\u001b[0m\u001b[0;34m)\u001b[0m  \u001b[0;31m# ไม่สามารถ + ข้อมูลต่างชนิดกันได้\u001b[0m\u001b[0;34m\u001b[0m\u001b[0;34m\u001b[0m\u001b[0m\n\u001b[0m",
            "\u001b[0;31mTypeError\u001b[0m: can only concatenate str (not \"int\") to str"
          ]
        }
      ]
    },
    {
      "cell_type": "code",
      "source": [
        "print(5 + text1) # ไม่สามารถ + ข้อมูลต่างชนิดกันได้"
      ],
      "metadata": {
        "colab": {
          "base_uri": "https://localhost:8080/",
          "height": 167
        },
        "id": "oEf4IRqN87yv",
        "outputId": "fe2a1398-ac7a-44a2-dcbd-bd98335ea4a7"
      },
      "execution_count": 8,
      "outputs": [
        {
          "output_type": "error",
          "ename": "TypeError",
          "evalue": "ignored",
          "traceback": [
            "\u001b[0;31m---------------------------------------------------------------------------\u001b[0m",
            "\u001b[0;31mTypeError\u001b[0m                                 Traceback (most recent call last)",
            "\u001b[0;32m<ipython-input-8-c1b3e48f0c27>\u001b[0m in \u001b[0;36m<cell line: 1>\u001b[0;34m()\u001b[0m\n\u001b[0;32m----> 1\u001b[0;31m \u001b[0mprint\u001b[0m\u001b[0;34m(\u001b[0m\u001b[0;36m5\u001b[0m \u001b[0;34m+\u001b[0m \u001b[0mtext1\u001b[0m\u001b[0;34m)\u001b[0m \u001b[0;31m# ไม่สามารถ + ข้อมูลต่างชนิดกันได้\u001b[0m\u001b[0;34m\u001b[0m\u001b[0;34m\u001b[0m\u001b[0m\n\u001b[0m",
            "\u001b[0;31mTypeError\u001b[0m: unsupported operand type(s) for +: 'int' and 'str'"
          ]
        }
      ]
    },
    {
      "cell_type": "markdown",
      "source": [
        "#Variable"
      ],
      "metadata": {
        "id": "_i_4SIF7914O"
      }
    },
    {
      "cell_type": "code",
      "source": [
        "a = 5  #int จำนวนเต็ม # กำหนดตัวแปร เเละใส่ค่าของตัวแปร = 5\n",
        "print(a)"
      ],
      "metadata": {
        "colab": {
          "base_uri": "https://localhost:8080/"
        },
        "id": "xddWrAJy9731",
        "outputId": "a87ba2b7-091b-449f-a659-8984f90ad026"
      },
      "execution_count": 9,
      "outputs": [
        {
          "output_type": "stream",
          "name": "stdout",
          "text": [
            "5\n"
          ]
        }
      ]
    },
    {
      "cell_type": "code",
      "source": [
        "b = 5.7 #float ทศนิยม # กำหนดตัวแปร เเละใส่ค่าของตัวแปร = 5.7\n",
        "print(b)"
      ],
      "metadata": {
        "colab": {
          "base_uri": "https://localhost:8080/"
        },
        "id": "s6T_MdbU-EIi",
        "outputId": "e8462b97-e29b-4167-a430-4b6749e94749"
      },
      "execution_count": 10,
      "outputs": [
        {
          "output_type": "stream",
          "name": "stdout",
          "text": [
            "5.7\n"
          ]
        }
      ]
    },
    {
      "cell_type": "code",
      "source": [
        "c = a-b # กำหนดตัวแปร และค่าของตัวแปรเกิดจาก a - b\n",
        "print(c)"
      ],
      "metadata": {
        "colab": {
          "base_uri": "https://localhost:8080/"
        },
        "id": "G5wlvjFN-Ly4",
        "outputId": "37ee045b-aa71-4a39-d4f4-fad874a6c6ba"
      },
      "execution_count": 11,
      "outputs": [
        {
          "output_type": "stream",
          "name": "stdout",
          "text": [
            "-0.7000000000000002\n"
          ]
        }
      ]
    },
    {
      "cell_type": "markdown",
      "source": [
        "## ข้อกำหนดในการตั้งชื่อตัวแปร\n",
        "1. ตั้งให้สื่อความหมาย\n",
        "2. ตั้งให้เป็นภาษาอังกฤษ\n",
        "3. ใช้ตัวเลขผสมกับตัวหนังสือได้ แต่ห้ามขึ้นต้นด้วยตัวเลข\n",
        "4. ห้ามมีเว้นวรรคในชื่อตัวแปร\n",
        "5. ตัวใหญ่ ตัวเล็กค่าไม่เท่ากัน\n",
        "\n",
        "##variable naming rules\n",
        "\n",
        "\n",
        "1.   Try to use meaningful word\n",
        "2.   Do it in English\n",
        "3.   You can use number in variable name the name connot atart with number\n",
        "4.   there should be no space in the name\n",
        "5.   variable name is case-sensitive (Abc is not equal to ABC)\n",
        "\n"
      ],
      "metadata": {
        "id": "KBO0SmUs-icT"
      }
    },
    {
      "cell_type": "markdown",
      "source": [
        "##Advanced printing"
      ],
      "metadata": {
        "id": "UOhJFXJj_6Sx"
      }
    },
    {
      "cell_type": "code",
      "source": [
        "print(f'six plus five = {6+5}')  # เอา f' ไปใส่ข้างหน้าจะสามารนำตัวแปรที่มีค่าอยู่แล้วมาแทรกได้"
      ],
      "metadata": {
        "colab": {
          "base_uri": "https://localhost:8080/"
        },
        "id": "L47nlbIL_rCr",
        "outputId": "52a7149f-1758-449b-9a1f-f43da78180a3"
      },
      "execution_count": 12,
      "outputs": [
        {
          "output_type": "stream",
          "name": "stdout",
          "text": [
            "six plus five = 11\n"
          ]
        }
      ]
    },
    {
      "cell_type": "code",
      "source": [
        "print(f'six plus five = {6+5:.2f}')  # .2f ทำเป็นทศนิยม 2 ตำแหน่ง"
      ],
      "metadata": {
        "colab": {
          "base_uri": "https://localhost:8080/"
        },
        "id": "5xIOa1oCAsJt",
        "outputId": "09b86f52-a32d-4d76-f029-afbaf5a877fe"
      },
      "execution_count": 13,
      "outputs": [
        {
          "output_type": "stream",
          "name": "stdout",
          "text": [
            "six plus five = 11.00\n"
          ]
        }
      ]
    },
    {
      "cell_type": "code",
      "source": [
        "print(f'six plus five = {6+5:.2f}%') # % ทำเป็นงเป็น %"
      ],
      "metadata": {
        "colab": {
          "base_uri": "https://localhost:8080/"
        },
        "id": "QCFu_-wqBWSd",
        "outputId": "097d38a9-0fc4-4c63-f423-c71e7f636005"
      },
      "execution_count": 14,
      "outputs": [
        {
          "output_type": "stream",
          "name": "stdout",
          "text": [
            "six plus five = 11.00%\n"
          ]
        }
      ]
    },
    {
      "cell_type": "code",
      "source": [
        "print(f'six plus five = {6+5:3.0f}%') # .0 คือไม่เอาทศนิยม"
      ],
      "metadata": {
        "colab": {
          "base_uri": "https://localhost:8080/"
        },
        "id": "prnc9nohBhUf",
        "outputId": "299fe664-99ed-4fe4-d96d-2a35f84c4c3d"
      },
      "execution_count": 15,
      "outputs": [
        {
          "output_type": "stream",
          "name": "stdout",
          "text": [
            "six plus five =  11%\n"
          ]
        }
      ]
    },
    {
      "cell_type": "code",
      "source": [
        "print(f'six plus five = {6+5:03d}')  #ให้แสดงผลลัพธ์ 3 หลัก"
      ],
      "metadata": {
        "colab": {
          "base_uri": "https://localhost:8080/"
        },
        "id": "BciWEVplB-sA",
        "outputId": "0c628c15-160c-4db1-fd0c-952098f209f6"
      },
      "execution_count": 16,
      "outputs": [
        {
          "output_type": "stream",
          "name": "stdout",
          "text": [
            "six plus five = 011\n"
          ]
        }
      ]
    },
    {
      "cell_type": "code",
      "source": [
        "st1 = f'six plus five = {6+5:03d}'  #ทำการเก็บข้อมูลใน st1"
      ],
      "metadata": {
        "id": "jgUMNiZyCKZF"
      },
      "execution_count": 18,
      "outputs": []
    },
    {
      "cell_type": "code",
      "source": [
        "st1"
      ],
      "metadata": {
        "id": "3mgLD1e0CU1m",
        "outputId": "e5a4df05-45f9-41af-dded-a6657154a9b9",
        "colab": {
          "base_uri": "https://localhost:8080/",
          "height": 36
        }
      },
      "execution_count": 19,
      "outputs": [
        {
          "output_type": "execute_result",
          "data": {
            "text/plain": [
              "'six plus five = 011'"
            ],
            "application/vnd.google.colaboratory.intrinsic+json": {
              "type": "string"
            }
          },
          "metadata": {},
          "execution_count": 19
        }
      ]
    },
    {
      "cell_type": "markdown",
      "source": [
        "# 3/7/66\n",
        "https://www.w3schools.com/python/ref_func_print.asp"
      ],
      "metadata": {
        "id": "qPbjILST9kCB"
      }
    },
    {
      "cell_type": "markdown",
      "source": [
        "### separator (sep)"
      ],
      "metadata": {
        "id": "j6NYiDYv-t26"
      }
    },
    {
      "cell_type": "code",
      "source": [
        "print ('stst')"
      ],
      "metadata": {
        "colab": {
          "base_uri": "https://localhost:8080/"
        },
        "id": "Sjng8lzM9QTG",
        "outputId": "5de5041d-1f06-4619-9c76-6494b378bac6"
      },
      "execution_count": 20,
      "outputs": [
        {
          "output_type": "stream",
          "name": "stdout",
          "text": [
            "stst\n"
          ]
        }
      ]
    },
    {
      "cell_type": "code",
      "source": [
        "print ('stst','KKU') #มีช่องว่างถ้าใส่ ,"
      ],
      "metadata": {
        "colab": {
          "base_uri": "https://localhost:8080/"
        },
        "id": "T8GozW7i9onO",
        "outputId": "4aee2bed-4439-4ccf-8900-30d86f21701e"
      },
      "execution_count": 21,
      "outputs": [
        {
          "output_type": "stream",
          "name": "stdout",
          "text": [
            "stst KKU\n"
          ]
        }
      ]
    },
    {
      "cell_type": "code",
      "source": [
        "print ('stst','KKU', sep='/')"
      ],
      "metadata": {
        "colab": {
          "base_uri": "https://localhost:8080/"
        },
        "id": "MvspgmKU91o-",
        "outputId": "7e44f6a3-bcdb-4d67-8abf-0f445b7c4e8a"
      },
      "execution_count": 22,
      "outputs": [
        {
          "output_type": "stream",
          "name": "stdout",
          "text": [
            "stst/KKU\n"
          ]
        }
      ]
    },
    {
      "cell_type": "markdown",
      "source": [
        "### end"
      ],
      "metadata": {
        "id": "Z68VMyry-hhG"
      }
    },
    {
      "cell_type": "markdown",
      "source": [
        "    Default is '\\n'\n",
        "\n",
        "for example"
      ],
      "metadata": {
        "id": "xMChHaYifRox"
      }
    },
    {
      "cell_type": "code",
      "source": [
        "print ('stst')\n",
        "print ('KKU')"
      ],
      "metadata": {
        "colab": {
          "base_uri": "https://localhost:8080/"
        },
        "id": "ixTXRSiZ-aWr",
        "outputId": "a7948b8a-fcb0-4db0-ae16-88c4e0b95e14"
      },
      "execution_count": 23,
      "outputs": [
        {
          "output_type": "stream",
          "name": "stdout",
          "text": [
            "stst\n",
            "KKU\n"
          ]
        }
      ]
    },
    {
      "cell_type": "code",
      "source": [
        "print ('stst',end='+-+')\n",
        "print ('KKU')"
      ],
      "metadata": {
        "colab": {
          "base_uri": "https://localhost:8080/"
        },
        "id": "ZhBvdf9S-5bo",
        "outputId": "82e5b8fd-9ab0-4db3-bf5d-9720ea7778d8"
      },
      "execution_count": 24,
      "outputs": [
        {
          "output_type": "stream",
          "name": "stdout",
          "text": [
            "stst+-+KKU\n"
          ]
        }
      ]
    },
    {
      "cell_type": "markdown",
      "source": [
        "## Variable types"
      ],
      "metadata": {
        "id": "Es8M87jL_YZ1"
      }
    },
    {
      "cell_type": "markdown",
      "source": [
        "### char (character : ตัวอักษร)"
      ],
      "metadata": {
        "id": "jPU56RFR_maF"
      }
    },
    {
      "cell_type": "markdown",
      "source": [
        "### String + String mean plus char and another char"
      ],
      "metadata": {
        "id": "5FfYaum0AUrn"
      }
    },
    {
      "cell_type": "code",
      "source": [
        "a = 'c'"
      ],
      "metadata": {
        "id": "wSM2-W2s_IJN"
      },
      "execution_count": 25,
      "outputs": []
    },
    {
      "cell_type": "code",
      "source": [
        "b = 'haracter'"
      ],
      "metadata": {
        "id": "57DMAMLB_xgB"
      },
      "execution_count": 26,
      "outputs": []
    },
    {
      "cell_type": "code",
      "source": [
        "print (f'a={a} b={b} , then {a}+{b} = {a+b}')"
      ],
      "metadata": {
        "colab": {
          "base_uri": "https://localhost:8080/"
        },
        "id": "jTTlonD9_41J",
        "outputId": "89623626-dd5f-40f8-c7d4-8cfc3471150a"
      },
      "execution_count": 27,
      "outputs": [
        {
          "output_type": "stream",
          "name": "stdout",
          "text": [
            "a=c b=haracter , then c+haracter = character\n"
          ]
        }
      ]
    },
    {
      "cell_type": "code",
      "source": [
        "A = 'c'\n",
        "B = 'a'"
      ],
      "metadata": {
        "id": "9SkAtulFAdLh"
      },
      "execution_count": 28,
      "outputs": []
    },
    {
      "cell_type": "code",
      "source": [
        "print(A+B) # string +string คือมาต่อกันได้"
      ],
      "metadata": {
        "colab": {
          "base_uri": "https://localhost:8080/"
        },
        "id": "ejqVIBLXAdR-",
        "outputId": "6462a276-a3f0-4ce9-c85e-2deff5dfad09"
      },
      "execution_count": 29,
      "outputs": [
        {
          "output_type": "stream",
          "name": "stdout",
          "text": [
            "ca\n"
          ]
        }
      ]
    },
    {
      "cell_type": "markdown",
      "source": [
        "### integer * charmean multiple copies of the char\n",
        "\n",
        "\n"
      ],
      "metadata": {
        "id": "2X-Qf2Q0A1V1"
      }
    },
    {
      "cell_type": "code",
      "source": [
        "print(5*'T')"
      ],
      "metadata": {
        "colab": {
          "base_uri": "https://localhost:8080/"
        },
        "id": "PlbUgi-IBJ87",
        "outputId": "1e50569a-69aa-4566-b212-0cf141a9811d"
      },
      "execution_count": 30,
      "outputs": [
        {
          "output_type": "stream",
          "name": "stdout",
          "text": [
            "TTTTT\n"
          ]
        }
      ]
    },
    {
      "cell_type": "markdown",
      "source": [
        "## Quiz1\n",
        "print Ha for 100 times with one print function"
      ],
      "metadata": {
        "id": "gUtH3Mu6BWiG"
      }
    },
    {
      "cell_type": "code",
      "source": [
        "print(100*'Ha')"
      ],
      "metadata": {
        "colab": {
          "base_uri": "https://localhost:8080/"
        },
        "id": "lfa9HqLPBl9W",
        "outputId": "1d756a00-f0cd-4d11-cceb-6e902f157d3c"
      },
      "execution_count": 31,
      "outputs": [
        {
          "output_type": "stream",
          "name": "stdout",
          "text": [
            "HaHaHaHaHaHaHaHaHaHaHaHaHaHaHaHaHaHaHaHaHaHaHaHaHaHaHaHaHaHaHaHaHaHaHaHaHaHaHaHaHaHaHaHaHaHaHaHaHaHaHaHaHaHaHaHaHaHaHaHaHaHaHaHaHaHaHaHaHaHaHaHaHaHaHaHaHaHaHaHaHaHaHaHaHaHaHaHaHaHaHaHaHaHaHaHaHaHaHaHa\n"
          ]
        }
      ]
    },
    {
      "cell_type": "markdown",
      "source": [
        "## int (eger) (จำนวนเต็ม)"
      ],
      "metadata": {
        "id": "7rI0eagXF98p"
      }
    },
    {
      "cell_type": "code",
      "source": [
        "int_a = 7\n",
        "int_b = 2"
      ],
      "metadata": {
        "id": "m4m3BUewGF1q"
      },
      "execution_count": 32,
      "outputs": []
    },
    {
      "cell_type": "code",
      "source": [
        "print(type (int_a),type (int_b))"
      ],
      "metadata": {
        "colab": {
          "base_uri": "https://localhost:8080/"
        },
        "id": "SRi2t8MEGL0r",
        "outputId": "ffe19f1a-57e6-460d-d275-9d6a7879c115"
      },
      "execution_count": 33,
      "outputs": [
        {
          "output_type": "stream",
          "name": "stdout",
          "text": [
            "<class 'int'> <class 'int'>\n"
          ]
        }
      ]
    },
    {
      "cell_type": "code",
      "source": [
        "int_c = int_a + int_b ###assing the value as the output of operation\n",
        "print(int_c)"
      ],
      "metadata": {
        "colab": {
          "base_uri": "https://localhost:8080/"
        },
        "id": "vcjtOIcjGbuN",
        "outputId": "ac200b1d-3f9e-43a6-acd9-76a69353070b"
      },
      "execution_count": 34,
      "outputs": [
        {
          "output_type": "stream",
          "name": "stdout",
          "text": [
            "9\n"
          ]
        }
      ]
    },
    {
      "cell_type": "markdown",
      "source": [
        "### Float (จำนวนจริง ทศนิยม)"
      ],
      "metadata": {
        "id": "Yvr71VBmG0PI"
      }
    },
    {
      "cell_type": "code",
      "source": [
        "fl_a = 7.  #ใส่ . สามารถทำให้เป็นค่าทศนิยมได้\n",
        "fl_b = 2.571"
      ],
      "metadata": {
        "id": "thyalO70G4om"
      },
      "execution_count": 35,
      "outputs": []
    },
    {
      "cell_type": "code",
      "source": [
        "fl_a"
      ],
      "metadata": {
        "colab": {
          "base_uri": "https://localhost:8080/"
        },
        "id": "3mBSJunYHMjV",
        "outputId": "a8e78d46-4cef-4814-99cc-1aef31acf872"
      },
      "execution_count": 36,
      "outputs": [
        {
          "output_type": "execute_result",
          "data": {
            "text/plain": [
              "7.0"
            ]
          },
          "metadata": {},
          "execution_count": 36
        }
      ]
    },
    {
      "cell_type": "code",
      "source": [
        "fl_b"
      ],
      "metadata": {
        "colab": {
          "base_uri": "https://localhost:8080/"
        },
        "id": "kWCXEw5yHBta",
        "outputId": "30fbbdc3-29d5-49ec-b231-583f538df939"
      },
      "execution_count": 37,
      "outputs": [
        {
          "output_type": "execute_result",
          "data": {
            "text/plain": [
              "2.571"
            ]
          },
          "metadata": {},
          "execution_count": 37
        }
      ]
    },
    {
      "cell_type": "code",
      "source": [
        "print (type(fl_a))"
      ],
      "metadata": {
        "colab": {
          "base_uri": "https://localhost:8080/"
        },
        "id": "EWJksNOnHAH9",
        "outputId": "aaccbd1e-2cc7-4034-a9fb-1b744d2917ec"
      },
      "execution_count": 38,
      "outputs": [
        {
          "output_type": "stream",
          "name": "stdout",
          "text": [
            "<class 'float'>\n"
          ]
        }
      ]
    },
    {
      "cell_type": "markdown",
      "source": [
        "### Boolean (ตัวแปรที่มีค่า true หรือ False) ตรรกศาสตร์"
      ],
      "metadata": {
        "id": "Pqs6DpriHX1K"
      }
    },
    {
      "cell_type": "code",
      "source": [
        "b_T = True"
      ],
      "metadata": {
        "id": "wXsJWzpiHiMp"
      },
      "execution_count": 39,
      "outputs": []
    },
    {
      "cell_type": "code",
      "source": [
        "b_F = False"
      ],
      "metadata": {
        "id": "lhIeAenAHiPB"
      },
      "execution_count": 40,
      "outputs": []
    },
    {
      "cell_type": "markdown",
      "source": [
        "all of equation\n",
        "\n",
        "== is equal\n",
        "\n",
        "!= is not equal\n",
        "\n",
        "> is geater than\n",
        "\n",
        "<= is less than or equal\n",
        "\n",
        "| is or\n",
        "\n",
        "& is and\n",
        "\n"
      ],
      "metadata": {
        "id": "eNp7OBhxHs-B"
      }
    },
    {
      "cell_type": "code",
      "source": [
        "b_T | b_F"
      ],
      "metadata": {
        "colab": {
          "base_uri": "https://localhost:8080/"
        },
        "id": "s2eLRFeNIUqy",
        "outputId": "edfc3fb5-91b3-462c-d861-5eb8f770068e"
      },
      "execution_count": 41,
      "outputs": [
        {
          "output_type": "execute_result",
          "data": {
            "text/plain": [
              "True"
            ]
          },
          "metadata": {},
          "execution_count": 41
        }
      ]
    },
    {
      "cell_type": "markdown",
      "source": [
        "### Complex number (จำนวนเชิงซ้อน)"
      ],
      "metadata": {
        "id": "9IUwpWbxIciv"
      }
    },
    {
      "cell_type": "code",
      "source": [
        "x = 1 + 2j"
      ],
      "metadata": {
        "id": "UP_ZdT9xIhYu"
      },
      "execution_count": 42,
      "outputs": []
    },
    {
      "cell_type": "markdown",
      "source": [
        "### we can check the datatype ehit type()"
      ],
      "metadata": {
        "id": "B5-b7gykIjnq"
      }
    },
    {
      "cell_type": "code",
      "source": [
        "print(f'variable x value is {x} and datatype is {type(x)} ')"
      ],
      "metadata": {
        "colab": {
          "base_uri": "https://localhost:8080/"
        },
        "id": "xm7Im-5oItU7",
        "outputId": "014c231a-b798-46cf-ad73-67213c005c0f"
      },
      "execution_count": 43,
      "outputs": [
        {
          "output_type": "stream",
          "name": "stdout",
          "text": [
            "variable x value is (1+2j) and datatype is <class 'complex'> \n"
          ]
        }
      ]
    },
    {
      "cell_type": "code",
      "source": [
        "print(f'variable A value is {A} and datatype is {type(A)} ')"
      ],
      "metadata": {
        "colab": {
          "base_uri": "https://localhost:8080/"
        },
        "id": "vFBt9np1JH9G",
        "outputId": "9ceeb647-d898-43f4-8ccf-01dc7f55a03d"
      },
      "execution_count": 44,
      "outputs": [
        {
          "output_type": "stream",
          "name": "stdout",
          "text": [
            "variable A value is c and datatype is <class 'str'> \n"
          ]
        }
      ]
    },
    {
      "cell_type": "code",
      "source": [
        "print(f'variable a value is {a} and datatype is {type(a)} ')"
      ],
      "metadata": {
        "colab": {
          "base_uri": "https://localhost:8080/"
        },
        "id": "FxuVTTvRJPZp",
        "outputId": "e990d7ab-34d6-4a6a-ba0c-a74ab90a4154"
      },
      "execution_count": 45,
      "outputs": [
        {
          "output_type": "stream",
          "name": "stdout",
          "text": [
            "variable a value is c and datatype is <class 'str'> \n"
          ]
        }
      ]
    },
    {
      "cell_type": "markdown",
      "source": [
        "### การแปลงชนิดของตัวแปร Variable Casting"
      ],
      "metadata": {
        "id": "Qu4gIxHFJqPD"
      }
    },
    {
      "cell_type": "code",
      "source": [
        "print(f'int_a = {int_a} int_b = {int_b} Fl_a = {fl_a} Fl_b = {fl_b}')"
      ],
      "metadata": {
        "colab": {
          "base_uri": "https://localhost:8080/"
        },
        "id": "ZkTvP8vZJ2eY",
        "outputId": "43d5de3e-f10c-4b0c-e94c-4927275c6d58"
      },
      "execution_count": 46,
      "outputs": [
        {
          "output_type": "stream",
          "name": "stdout",
          "text": [
            "int_a = 7 int_b = 2 Fl_a = 7.0 Fl_b = 2.571\n"
          ]
        }
      ]
    },
    {
      "cell_type": "code",
      "source": [
        "str_a = '6'\n",
        "str_b = '-2'"
      ],
      "metadata": {
        "id": "sPTzp3iwK2IE"
      },
      "execution_count": 47,
      "outputs": []
    },
    {
      "cell_type": "code",
      "source": [
        "str_a2int = int(str_a) # Transform string into int\n",
        "print(f'ตัวแปร str_a2int ค่าคือ {str_a2int} ชนิด {type(str_a2int)}')"
      ],
      "metadata": {
        "colab": {
          "base_uri": "https://localhost:8080/"
        },
        "id": "hStlN8nUKcru",
        "outputId": "8307edff-9803-4da9-eaf8-6bf12030a757"
      },
      "execution_count": 48,
      "outputs": [
        {
          "output_type": "stream",
          "name": "stdout",
          "text": [
            "ตัวแปร str_a2int ค่าคือ 6 ชนิด <class 'int'>\n"
          ]
        }
      ]
    },
    {
      "cell_type": "code",
      "source": [
        "str_a2int + int_a"
      ],
      "metadata": {
        "colab": {
          "base_uri": "https://localhost:8080/"
        },
        "id": "b9qSj_ZOKyZe",
        "outputId": "d22f08c9-01bc-42c9-db88-cb73ee713e14"
      },
      "execution_count": 49,
      "outputs": [
        {
          "output_type": "execute_result",
          "data": {
            "text/plain": [
              "13"
            ]
          },
          "metadata": {},
          "execution_count": 49
        }
      ]
    },
    {
      "cell_type": "code",
      "source": [
        "str_a + int_a #ไม่สามารถนำ string + int ได้"
      ],
      "metadata": {
        "colab": {
          "base_uri": "https://localhost:8080/",
          "height": 167
        },
        "id": "isNwc-6GgLX-",
        "outputId": "00ea5944-3dc6-426f-a40f-bc03942b3ff0"
      },
      "execution_count": 50,
      "outputs": [
        {
          "output_type": "error",
          "ename": "TypeError",
          "evalue": "ignored",
          "traceback": [
            "\u001b[0;31m---------------------------------------------------------------------------\u001b[0m",
            "\u001b[0;31mTypeError\u001b[0m                                 Traceback (most recent call last)",
            "\u001b[0;32m<ipython-input-50-155156bbe683>\u001b[0m in \u001b[0;36m<cell line: 1>\u001b[0;34m()\u001b[0m\n\u001b[0;32m----> 1\u001b[0;31m \u001b[0mstr_a\u001b[0m \u001b[0;34m+\u001b[0m \u001b[0mint_a\u001b[0m \u001b[0;31m#ไม่สามารถนำ string + int ได้\u001b[0m\u001b[0;34m\u001b[0m\u001b[0;34m\u001b[0m\u001b[0m\n\u001b[0m",
            "\u001b[0;31mTypeError\u001b[0m: can only concatenate str (not \"int\") to str"
          ]
        }
      ]
    },
    {
      "cell_type": "code",
      "source": [
        "str(fl_b) #transform float to string"
      ],
      "metadata": {
        "colab": {
          "base_uri": "https://localhost:8080/",
          "height": 36
        },
        "id": "XBTq1h2eLTPn",
        "outputId": "83e57e11-db2b-436d-d1cd-27090e0b313b"
      },
      "execution_count": 51,
      "outputs": [
        {
          "output_type": "execute_result",
          "data": {
            "text/plain": [
              "'2.571'"
            ],
            "application/vnd.google.colaboratory.intrinsic+json": {
              "type": "string"
            }
          },
          "metadata": {},
          "execution_count": 51
        }
      ]
    },
    {
      "cell_type": "code",
      "source": [
        "int(fl_b) #transform float to int (but it will cut te floating point)"
      ],
      "metadata": {
        "colab": {
          "base_uri": "https://localhost:8080/"
        },
        "id": "u2wmBd8SLbXO",
        "outputId": "6cbb684a-2c05-48a2-ebb1-90c073dedf5a"
      },
      "execution_count": 52,
      "outputs": [
        {
          "output_type": "execute_result",
          "data": {
            "text/plain": [
              "2"
            ]
          },
          "metadata": {},
          "execution_count": 52
        }
      ]
    },
    {
      "cell_type": "markdown",
      "source": [
        "### Replace() แทนที่ String"
      ],
      "metadata": {
        "id": "suY5gfCJL6a0"
      }
    },
    {
      "cell_type": "code",
      "source": [
        "st_test1 = 'Department of statistics,'"
      ],
      "metadata": {
        "id": "ARUEJJMhMAA_"
      },
      "execution_count": 53,
      "outputs": []
    },
    {
      "cell_type": "code",
      "source": [
        "st_test1.replace ('e',' ') #replace e with space"
      ],
      "metadata": {
        "colab": {
          "base_uri": "https://localhost:8080/",
          "height": 36
        },
        "id": "0FI8Mi9hMQKA",
        "outputId": "6d048b85-8e11-4bd3-b219-541e5ac37600"
      },
      "execution_count": 54,
      "outputs": [
        {
          "output_type": "execute_result",
          "data": {
            "text/plain": [
              "'D partm nt of statistics,'"
            ],
            "application/vnd.google.colaboratory.intrinsic+json": {
              "type": "string"
            }
          },
          "metadata": {},
          "execution_count": 54
        }
      ]
    },
    {
      "cell_type": "code",
      "source": [
        "st_test1"
      ],
      "metadata": {
        "colab": {
          "base_uri": "https://localhost:8080/",
          "height": 36
        },
        "id": "0dldObqwgivZ",
        "outputId": "20361398-2351-4bac-895f-6b6fa152f565"
      },
      "execution_count": 55,
      "outputs": [
        {
          "output_type": "execute_result",
          "data": {
            "text/plain": [
              "'Department of statistics,'"
            ],
            "application/vnd.google.colaboratory.intrinsic+json": {
              "type": "string"
            }
          },
          "metadata": {},
          "execution_count": 55
        }
      ]
    },
    {
      "cell_type": "code",
      "source": [
        "st_test2 = st_test1.replace ('e',' ') #ลบ e ออก"
      ],
      "metadata": {
        "id": "OZeS_hS2M1Wr"
      },
      "execution_count": 56,
      "outputs": []
    },
    {
      "cell_type": "code",
      "source": [
        "st_test2"
      ],
      "metadata": {
        "colab": {
          "base_uri": "https://localhost:8080/",
          "height": 36
        },
        "id": "INWIw8PvNEUO",
        "outputId": "f922ddd3-b34c-479b-a576-86aa9d500b65"
      },
      "execution_count": 57,
      "outputs": [
        {
          "output_type": "execute_result",
          "data": {
            "text/plain": [
              "'D partm nt of statistics,'"
            ],
            "application/vnd.google.colaboratory.intrinsic+json": {
              "type": "string"
            }
          },
          "metadata": {},
          "execution_count": 57
        }
      ]
    },
    {
      "cell_type": "code",
      "source": [
        "st_test1 .replace ('ti','TI') # Modify ti to TI"
      ],
      "metadata": {
        "colab": {
          "base_uri": "https://localhost:8080/",
          "height": 36
        },
        "id": "apGriPu-NiT5",
        "outputId": "ea0a25e6-72a1-4443-cbc1-6b236909b451"
      },
      "execution_count": 58,
      "outputs": [
        {
          "output_type": "execute_result",
          "data": {
            "text/plain": [
              "'Department of staTIsTIcs,'"
            ],
            "application/vnd.google.colaboratory.intrinsic+json": {
              "type": "string"
            }
          },
          "metadata": {},
          "execution_count": 58
        }
      ]
    },
    {
      "cell_type": "markdown",
      "source": [
        "### split() แยก string"
      ],
      "metadata": {
        "id": "DCbfdxAiN8GQ"
      }
    },
    {
      "cell_type": "code",
      "source": [
        "'a b c d e f g'.split() #ตัด string ที่ช่องว่าง"
      ],
      "metadata": {
        "colab": {
          "base_uri": "https://localhost:8080/"
        },
        "id": "isDkXuj8NiZ2",
        "outputId": "0241f0db-21fc-4642-fadb-ceed58223778"
      },
      "execution_count": 59,
      "outputs": [
        {
          "output_type": "execute_result",
          "data": {
            "text/plain": [
              "['a', 'b', 'c', 'd', 'e', 'f', 'g']"
            ]
          },
          "metadata": {},
          "execution_count": 59
        }
      ]
    },
    {
      "cell_type": "code",
      "source": [
        "'a,b/c,d/e,f g'.split('/')"
      ],
      "metadata": {
        "colab": {
          "base_uri": "https://localhost:8080/"
        },
        "id": "ByNRWCtgOYqc",
        "outputId": "52426885-1f25-4358-bfab-ba091e00c87f"
      },
      "execution_count": 60,
      "outputs": [
        {
          "output_type": "execute_result",
          "data": {
            "text/plain": [
              "['a,b', 'c,d', 'e,f g']"
            ]
          },
          "metadata": {},
          "execution_count": 60
        }
      ]
    },
    {
      "cell_type": "code",
      "source": [
        "'abc de fg'.split() # แยกด้วย /"
      ],
      "metadata": {
        "colab": {
          "base_uri": "https://localhost:8080/"
        },
        "id": "NoZN4bYLg2mO",
        "outputId": "72d10afe-829f-4b8a-be4d-5a1bad8abc01"
      },
      "execution_count": 61,
      "outputs": [
        {
          "output_type": "execute_result",
          "data": {
            "text/plain": [
              "['abc', 'de', 'fg']"
            ]
          },
          "metadata": {},
          "execution_count": 61
        }
      ]
    },
    {
      "cell_type": "code",
      "source": [
        "'a,b/c,d e/f g'.split('/') # แยกด้วย /"
      ],
      "metadata": {
        "colab": {
          "base_uri": "https://localhost:8080/"
        },
        "id": "HFUDoUIng7rJ",
        "outputId": "663bbeef-0219-421d-d3b2-e1970d944584"
      },
      "execution_count": 62,
      "outputs": [
        {
          "output_type": "execute_result",
          "data": {
            "text/plain": [
              "['a,b', 'c,d e', 'f g']"
            ]
          },
          "metadata": {},
          "execution_count": 62
        }
      ]
    }
  ]
}